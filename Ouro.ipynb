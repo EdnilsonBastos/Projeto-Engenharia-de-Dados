{
 "cells": [
  {
   "cell_type": "markdown",
   "metadata": {
    "application/vnd.databricks.v1+cell": {
     "cellMetadata": {},
     "inputWidgets": {},
     "nuid": "0355569a-621e-4270-8a69-e26ed8438cbc",
     "showTitle": false,
     "tableResultSettingsMap": {},
     "title": ""
    }
   },
   "source": [
    "<strong>Cria o database Ouro</strong>"
   ]
  },
  {
   "cell_type": "code",
   "execution_count": 0,
   "metadata": {
    "application/vnd.databricks.v1+cell": {
     "cellMetadata": {
      "byteLimit": 2048000,
      "implicitDf": true,
      "rowLimit": 10000
     },
     "inputWidgets": {},
     "nuid": "b2c19c6a-3887-4e26-ad08-16b997663440",
     "showTitle": true,
     "tableResultSettingsMap": {},
     "title": "Cria o database Ouro"
    }
   },
   "outputs": [
    {
     "output_type": "display_data",
     "data": {
      "text/html": [
       "<style scoped>\n",
       "  .table-result-container {\n",
       "    max-height: 300px;\n",
       "    overflow: auto;\n",
       "  }\n",
       "  table, th, td {\n",
       "    border: 1px solid black;\n",
       "    border-collapse: collapse;\n",
       "  }\n",
       "  th, td {\n",
       "    padding: 5px;\n",
       "  }\n",
       "  th {\n",
       "    text-align: left;\n",
       "  }\n",
       "</style><div class='table-result-container'><table class='table-result'><thead style='background-color: white'><tr></tr></thead><tbody></tbody></table></div>"
      ]
     },
     "metadata": {
      "application/vnd.databricks.v1+output": {
       "addedWidgets": {},
       "aggData": [],
       "aggError": "",
       "aggOverflow": false,
       "aggSchema": [],
       "aggSeriesLimitReached": false,
       "aggType": "",
       "arguments": {},
       "columnCustomDisplayInfos": {},
       "data": [],
       "datasetInfos": [],
       "dbfsResultPath": null,
       "isJsonSchema": true,
       "metadata": {},
       "overflow": false,
       "plotOptions": {
        "customPlotOptions": {},
        "displayType": "table",
        "pivotAggregation": null,
        "pivotColumns": null,
        "xColumns": null,
        "yColumns": null
       },
       "removedWidgets": [],
       "schema": [],
       "type": "table"
      }
     },
     "output_type": "display_data"
    }
   ],
   "source": [
    "%sql\n",
    "create database if not exists Ouro\n"
   ]
  },
  {
   "cell_type": "markdown",
   "metadata": {
    "application/vnd.databricks.v1+cell": {
     "cellMetadata": {},
     "inputWidgets": {},
     "nuid": "c2ca3078-cd07-476e-aaff-6a852d12b775",
     "showTitle": false,
     "tableResultSettingsMap": {},
     "title": ""
    }
   },
   "source": [
    "<strong>Cria a tabela Pagamentos no Database Ouro</strong>"
   ]
  },
  {
   "cell_type": "code",
   "execution_count": 0,
   "metadata": {
    "application/vnd.databricks.v1+cell": {
     "cellMetadata": {
      "byteLimit": 2048000,
      "rowLimit": 10000
     },
     "inputWidgets": {},
     "nuid": "92851abe-de6a-4d43-b8ba-364f9d0b74c7",
     "showTitle": false,
     "tableResultSettingsMap": {},
     "title": ""
    }
   },
   "outputs": [],
   "source": [
    "%python\n",
    "df_pagamentos.write.mode(\"overwrite\").saveAsTable('Ouro.Pagamentos')"
   ]
  },
  {
   "cell_type": "markdown",
   "metadata": {
    "application/vnd.databricks.v1+cell": {
     "cellMetadata": {},
     "inputWidgets": {},
     "nuid": "cb6f9da6-f20f-4839-9fff-acec4b75502e",
     "showTitle": false,
     "tableResultSettingsMap": {},
     "title": ""
    }
   },
   "source": [
    "<strong>Cria a tabela ComandaFinal no Database Ouro</strong>"
   ]
  },
  {
   "cell_type": "code",
   "execution_count": 0,
   "metadata": {
    "application/vnd.databricks.v1+cell": {
     "cellMetadata": {
      "byteLimit": 2048000,
      "rowLimit": 10000
     },
     "inputWidgets": {},
     "nuid": "7a54fda1-91f8-49fa-aecc-b6d7b52aff0b",
     "showTitle": false,
     "tableResultSettingsMap": {},
     "title": ""
    }
   },
   "outputs": [],
   "source": [
    "%python\n",
    "df_comandafinal.write.mode(\"overwrite\").saveAsTable('Ouro.ComandaFinal')"
   ]
  },
  {
   "cell_type": "markdown",
   "metadata": {
    "application/vnd.databricks.v1+cell": {
     "cellMetadata": {},
     "inputWidgets": {},
     "nuid": "a49f4e05-e4b8-4ca8-a6a4-4a761cc850f7",
     "showTitle": false,
     "tableResultSettingsMap": {},
     "title": ""
    }
   },
   "source": [
    "<strong>Cria a tabela GastoMensal no Database Ouro</strong>"
   ]
  },
  {
   "cell_type": "code",
   "execution_count": 0,
   "metadata": {
    "application/vnd.databricks.v1+cell": {
     "cellMetadata": {
      "byteLimit": 2048000,
      "rowLimit": 10000
     },
     "inputWidgets": {},
     "nuid": "1d71d67f-8ece-4fc4-abe8-e7f81bcf0d8e",
     "showTitle": false,
     "tableResultSettingsMap": {},
     "title": ""
    }
   },
   "outputs": [],
   "source": [
    "%python\n",
    "df_gasto.write.mode(\"overwrite\").saveAsTable('Ouro.GastoMensal')"
   ]
  },
  {
   "cell_type": "markdown",
   "metadata": {
    "application/vnd.databricks.v1+cell": {
     "cellMetadata": {},
     "inputWidgets": {},
     "nuid": "392e669b-e533-4680-ab2a-fe2148ba3094",
     "showTitle": false,
     "tableResultSettingsMap": {},
     "title": ""
    }
   },
   "source": [
    "<strong>Cria a tabela FaturamentoMensal no Database Ouro</strong>"
   ]
  },
  {
   "cell_type": "code",
   "execution_count": 0,
   "metadata": {
    "application/vnd.databricks.v1+cell": {
     "cellMetadata": {
      "byteLimit": 2048000,
      "rowLimit": 10000
     },
     "inputWidgets": {},
     "nuid": "07d32e91-3ea2-4a07-ae8e-c5dc89230604",
     "showTitle": false,
     "tableResultSettingsMap": {},
     "title": ""
    }
   },
   "outputs": [],
   "source": [
    "%python\n",
    "df_faturamento.write.mode(\"overwrite\").saveAsTable('Ouro.FaturamentoMensal')"
   ]
  },
  {
   "cell_type": "markdown",
   "metadata": {
    "application/vnd.databricks.v1+cell": {
     "cellMetadata": {},
     "inputWidgets": {},
     "nuid": "238ceb23-30d4-4bc6-a02e-8cadeb51bf31",
     "showTitle": false,
     "tableResultSettingsMap": {},
     "title": ""
    }
   },
   "source": [
    "<strong>Cria a tabela Gasto_Cliente no Database Ouro</strong>"
   ]
  },
  {
   "cell_type": "code",
   "execution_count": 0,
   "metadata": {
    "application/vnd.databricks.v1+cell": {
     "cellMetadata": {
      "byteLimit": 2048000,
      "rowLimit": 10000
     },
     "inputWidgets": {},
     "nuid": "1ceee589-7197-4fd1-bfe7-fff240a41f9e",
     "showTitle": false,
     "tableResultSettingsMap": {},
     "title": ""
    }
   },
   "outputs": [],
   "source": [
    "%python\n",
    "df_gasto_cliente.write.mode(\"overwrite\").saveAsTable('Ouro.Gasto_Cliente')"
   ]
  },
  {
   "cell_type": "markdown",
   "metadata": {
    "application/vnd.databricks.v1+cell": {
     "cellMetadata": {},
     "inputWidgets": {},
     "nuid": "61002102-24c3-4e09-99dd-6e9f73cc66a9",
     "showTitle": false,
     "tableResultSettingsMap": {},
     "title": ""
    }
   },
   "source": [
    "<strong>1.\tQual o faturamento anual da empresa?</strong>"
   ]
  },
  {
   "cell_type": "code",
   "execution_count": 0,
   "metadata": {
    "application/vnd.databricks.v1+cell": {
     "cellMetadata": {
      "byteLimit": 2048000,
      "implicitDf": true,
      "rowLimit": 10000
     },
     "inputWidgets": {},
     "nuid": "574751f1-548f-41fd-ae9e-aeb6649242d6",
     "showTitle": true,
     "tableResultSettingsMap": {},
     "title": "resposta 1"
    }
   },
   "outputs": [
    {
     "output_type": "display_data",
     "data": {
      "text/html": [
       "<style scoped>\n",
       "  .table-result-container {\n",
       "    max-height: 300px;\n",
       "    overflow: auto;\n",
       "  }\n",
       "  table, th, td {\n",
       "    border: 1px solid black;\n",
       "    border-collapse: collapse;\n",
       "  }\n",
       "  th, td {\n",
       "    padding: 5px;\n",
       "  }\n",
       "  th {\n",
       "    text-align: left;\n",
       "  }\n",
       "</style><div class='table-result-container'><table class='table-result'><thead style='background-color: white'><tr><th>ANO</th><th>VALOR_FATURAMENTO</th></tr></thead><tbody><tr><td>2024</td><td>456377.0</td></tr><tr><td>2025</td><td>80834.0</td></tr></tbody></table></div>"
      ]
     },
     "metadata": {
      "application/vnd.databricks.v1+output": {
       "addedWidgets": {},
       "aggData": [],
       "aggError": "",
       "aggOverflow": false,
       "aggSchema": [],
       "aggSeriesLimitReached": false,
       "aggType": "",
       "arguments": {},
       "columnCustomDisplayInfos": {},
       "data": [
        [
         2024,
         456377.0
        ],
        [
         2025,
         80834.0
        ]
       ],
       "datasetInfos": [],
       "dbfsResultPath": null,
       "isJsonSchema": true,
       "metadata": {},
       "overflow": false,
       "plotOptions": {
        "customPlotOptions": {},
        "displayType": "table",
        "pivotAggregation": null,
        "pivotColumns": null,
        "xColumns": null,
        "yColumns": null
       },
       "removedWidgets": [],
       "schema": [
        {
         "metadata": "{}",
         "name": "ANO",
         "type": "\"integer\""
        },
        {
         "metadata": "{}",
         "name": "VALOR_FATURAMENTO",
         "type": "\"double\""
        }
       ],
       "type": "table"
      }
     },
     "output_type": "display_data"
    }
   ],
   "source": [
    "%sql\n",
    "Select ANO, SUM(VALOR_PAGTO) AS VALOR_FATURAMENTO\n",
    "FROM OURO.pagamentos\n",
    "GROUP BY ANO\n",
    "ORDER BY 1"
   ]
  },
  {
   "cell_type": "markdown",
   "metadata": {
    "application/vnd.databricks.v1+cell": {
     "cellMetadata": {},
     "inputWidgets": {},
     "nuid": "ed7bdc03-fea8-47a4-aeaa-cc28c19e1e4c",
     "showTitle": false,
     "tableResultSettingsMap": {},
     "title": ""
    }
   },
   "source": [
    "<strong>2.\tQuais os três Prestadores receberam os maiores valores durante os anos de 2024 e 2025?</strong>"
   ]
  },
  {
   "cell_type": "code",
   "execution_count": 0,
   "metadata": {
    "application/vnd.databricks.v1+cell": {
     "cellMetadata": {
      "byteLimit": 2048000,
      "implicitDf": true,
      "rowLimit": 10000
     },
     "inputWidgets": {},
     "nuid": "b59833c7-772c-48f9-8ea7-8149b5774c79",
     "showTitle": true,
     "tableResultSettingsMap": {},
     "title": "resposta 2"
    }
   },
   "outputs": [
    {
     "output_type": "display_data",
     "data": {
      "text/html": [
       "<style scoped>\n",
       "  .table-result-container {\n",
       "    max-height: 300px;\n",
       "    overflow: auto;\n",
       "  }\n",
       "  table, th, td {\n",
       "    border: 1px solid black;\n",
       "    border-collapse: collapse;\n",
       "  }\n",
       "  th, td {\n",
       "    padding: 5px;\n",
       "  }\n",
       "  th {\n",
       "    text-align: left;\n",
       "  }\n",
       "</style><div class='table-result-container'><table class='table-result'><thead style='background-color: white'><tr><th>ANO_SERVICO</th><th>NOME_PRESTADOR</th><th>VL_ANUAL_SERVICO</th></tr></thead><tbody><tr><td>2024</td><td>LEONARDO MACHADO</td><td>119167.0</td></tr><tr><td>2024</td><td>ANA LUCIA</td><td>69585.5</td></tr><tr><td>2024</td><td>SIMONE</td><td>60163.0</td></tr><tr><td>2025</td><td>LEONARDO MACHADO</td><td>24147.0</td></tr><tr><td>2025</td><td>ANA LUCIA</td><td>14786.0</td></tr><tr><td>2025</td><td>SANDRA</td><td>10755.0</td></tr></tbody></table></div>"
      ]
     },
     "metadata": {
      "application/vnd.databricks.v1+output": {
       "addedWidgets": {},
       "aggData": [],
       "aggError": "",
       "aggOverflow": false,
       "aggSchema": [],
       "aggSeriesLimitReached": false,
       "aggType": "",
       "arguments": {},
       "columnCustomDisplayInfos": {},
       "data": [
        [
         2024,
         "LEONARDO MACHADO",
         119167.0
        ],
        [
         2024,
         "ANA LUCIA",
         69585.5
        ],
        [
         2024,
         "SIMONE",
         60163.0
        ],
        [
         2025,
         "LEONARDO MACHADO",
         24147.0
        ],
        [
         2025,
         "ANA LUCIA",
         14786.0
        ],
        [
         2025,
         "SANDRA",
         10755.0
        ]
       ],
       "datasetInfos": [],
       "dbfsResultPath": null,
       "isJsonSchema": true,
       "metadata": {},
       "overflow": false,
       "plotOptions": {
        "customPlotOptions": {},
        "displayType": "table",
        "pivotAggregation": null,
        "pivotColumns": null,
        "xColumns": null,
        "yColumns": null
       },
       "removedWidgets": [],
       "schema": [
        {
         "metadata": "{}",
         "name": "ANO_SERVICO",
         "type": "\"integer\""
        },
        {
         "metadata": "{}",
         "name": "NOME_PRESTADOR",
         "type": "\"string\""
        },
        {
         "metadata": "{}",
         "name": "VL_ANUAL_SERVICO",
         "type": "\"double\""
        }
       ],
       "type": "table"
      }
     },
     "output_type": "display_data"
    }
   ],
   "source": [
    "%sql\n",
    "(select ANO_SERVICO,NOME_PRESTADOR, Sum(VALOR_SERVICO) as VL_ANUAL_SERVICO\n",
    "from OURO.COMANDAFINAL\n",
    "WHERE ANO_SERVICO = 2024\n",
    "group by ANO_SERVICO, NOME_PRESTADOR\n",
    "order by 3 DESC\n",
    "LIMIT 3)\n",
    "union all\n",
    "(select ANO_SERVICO,NOME_PRESTADOR, Sum(VALOR_SERVICO) as VL_ANUAL_SERVICO\n",
    "from OURO.COMANDAFINAL\n",
    "WHERE ANO_SERVICO = 2025\n",
    "group by ANO_SERVICO, NOME_PRESTADOR\n",
    "order by 3 DESC\n",
    "LIMIT 3)\n",
    "\n",
    "\n",
    "\n",
    "\n"
   ]
  },
  {
   "cell_type": "markdown",
   "metadata": {
    "application/vnd.databricks.v1+cell": {
     "cellMetadata": {},
     "inputWidgets": {},
     "nuid": "50bf05e0-0195-432e-a247-b3112be1bc9e",
     "showTitle": false,
     "tableResultSettingsMap": {},
     "title": ""
    }
   },
   "source": [
    "<strong>3.\tQuais são os dez Serviços mais vendidos por ano?</strong>"
   ]
  },
  {
   "cell_type": "code",
   "execution_count": 0,
   "metadata": {
    "application/vnd.databricks.v1+cell": {
     "cellMetadata": {
      "byteLimit": 2048000,
      "implicitDf": true,
      "rowLimit": 10000
     },
     "inputWidgets": {},
     "nuid": "c2db4fa9-a8a8-43eb-8c22-b532531880ff",
     "showTitle": true,
     "tableResultSettingsMap": {},
     "title": "RESPOSTA 3"
    }
   },
   "outputs": [
    {
     "output_type": "display_data",
     "data": {
      "text/html": [
       "<style scoped>\n",
       "  .table-result-container {\n",
       "    max-height: 300px;\n",
       "    overflow: auto;\n",
       "  }\n",
       "  table, th, td {\n",
       "    border: 1px solid black;\n",
       "    border-collapse: collapse;\n",
       "  }\n",
       "  th, td {\n",
       "    padding: 5px;\n",
       "  }\n",
       "  th {\n",
       "    text-align: left;\n",
       "  }\n",
       "</style><div class='table-result-container'><table class='table-result'><thead style='background-color: white'><tr><th>DESCRICAO</th><th>TOTAL_VENDIDO</th></tr></thead><tbody><tr><td>PE + MAO</td><td>2719</td></tr><tr><td>MAO</td><td>1369</td></tr><tr><td>PE</td><td>958</td></tr><tr><td>PE + MAO (PROMOCAO)</td><td>814</td></tr><tr><td>CORTE FEMININO</td><td>452</td></tr><tr><td>ESCOVA + HIDRATACAO DE LAVATORIO -  LONGO</td><td>415</td></tr><tr><td>SOBRANCELHAS C/ DESIGN</td><td>410</td></tr><tr><td>CORTE MASCULINO TESOURA</td><td>354</td></tr><tr><td>CAIXINHA</td><td>340</td></tr><tr><td>APLICACAO + LAVAGEM - tintura do cliente</td><td>232</td></tr></tbody></table></div>"
      ]
     },
     "metadata": {
      "application/vnd.databricks.v1+output": {
       "addedWidgets": {},
       "aggData": [],
       "aggError": "",
       "aggOverflow": false,
       "aggSchema": [],
       "aggSeriesLimitReached": false,
       "aggType": "",
       "arguments": {},
       "columnCustomDisplayInfos": {},
       "data": [
        [
         "PE + MAO",
         2719
        ],
        [
         "MAO",
         1369
        ],
        [
         "PE",
         958
        ],
        [
         "PE + MAO (PROMOCAO)",
         814
        ],
        [
         "CORTE FEMININO",
         452
        ],
        [
         "ESCOVA + HIDRATACAO DE LAVATORIO -  LONGO",
         415
        ],
        [
         "SOBRANCELHAS C/ DESIGN",
         410
        ],
        [
         "CORTE MASCULINO TESOURA",
         354
        ],
        [
         "CAIXINHA",
         340
        ],
        [
         "APLICACAO + LAVAGEM - tintura do cliente",
         232
        ]
       ],
       "datasetInfos": [],
       "dbfsResultPath": null,
       "isJsonSchema": true,
       "metadata": {},
       "overflow": false,
       "plotOptions": {
        "customPlotOptions": {},
        "displayType": "table",
        "pivotAggregation": null,
        "pivotColumns": null,
        "xColumns": null,
        "yColumns": null
       },
       "removedWidgets": [],
       "schema": [
        {
         "metadata": "{}",
         "name": "DESCRICAO",
         "type": "\"string\""
        },
        {
         "metadata": "{}",
         "name": "TOTAL_VENDIDO",
         "type": "\"long\""
        }
       ],
       "type": "table"
      }
     },
     "output_type": "display_data"
    }
   ],
   "source": [
    "%sql\n",
    "select DESCRICAO, COUNT(*) AS TOTAL_VENDIDO\n",
    "from OURO.COMANDAFINAL\n",
    "GROUP BY DESCRICAO\n",
    "ORDER BY 2 DESC\n",
    "limit 10"
   ]
  },
  {
   "cell_type": "markdown",
   "metadata": {
    "application/vnd.databricks.v1+cell": {
     "cellMetadata": {},
     "inputWidgets": {},
     "nuid": "462b7ed4-169d-4ff7-88e0-1599b19194c8",
     "showTitle": false,
     "tableResultSettingsMap": {},
     "title": ""
    }
   },
   "source": [
    "<strong>4.\tQual foi o mês com maior receita de cada ano?</strong>"
   ]
  },
  {
   "cell_type": "code",
   "execution_count": 0,
   "metadata": {
    "application/vnd.databricks.v1+cell": {
     "cellMetadata": {
      "byteLimit": 2048000,
      "implicitDf": true,
      "rowLimit": 10000
     },
     "inputWidgets": {},
     "nuid": "5e461ae4-224d-4c66-b0c8-a5b767942e98",
     "showTitle": true,
     "tableResultSettingsMap": {},
     "title": "RESPOSTA 4"
    }
   },
   "outputs": [
    {
     "output_type": "display_data",
     "data": {
      "text/html": [
       "<style scoped>\n",
       "  .table-result-container {\n",
       "    max-height: 300px;\n",
       "    overflow: auto;\n",
       "  }\n",
       "  table, th, td {\n",
       "    border: 1px solid black;\n",
       "    border-collapse: collapse;\n",
       "  }\n",
       "  th, td {\n",
       "    padding: 5px;\n",
       "  }\n",
       "  th {\n",
       "    text-align: left;\n",
       "  }\n",
       "</style><div class='table-result-container'><table class='table-result'><thead style='background-color: white'><tr><th>ANO</th><th>MES</th><th>VL_TOTAL_PAGTO_MES</th></tr></thead><tbody><tr><td>2024</td><td>Maio</td><td>45899.0</td></tr><tr><td>2025</td><td>Janeiro</td><td>33648.0</td></tr></tbody></table></div>"
      ]
     },
     "metadata": {
      "application/vnd.databricks.v1+output": {
       "addedWidgets": {},
       "aggData": [],
       "aggError": "",
       "aggOverflow": false,
       "aggSchema": [],
       "aggSeriesLimitReached": false,
       "aggType": "",
       "arguments": {},
       "columnCustomDisplayInfos": {},
       "data": [
        [
         2024,
         "Maio",
         45899.0
        ],
        [
         2025,
         "Janeiro",
         33648.0
        ]
       ],
       "datasetInfos": [],
       "dbfsResultPath": null,
       "isJsonSchema": true,
       "metadata": {},
       "overflow": false,
       "plotOptions": {
        "customPlotOptions": {},
        "displayType": "table",
        "pivotAggregation": null,
        "pivotColumns": null,
        "xColumns": null,
        "yColumns": null
       },
       "removedWidgets": [],
       "schema": [
        {
         "metadata": "{}",
         "name": "ANO",
         "type": "\"integer\""
        },
        {
         "metadata": "{}",
         "name": "MES",
         "type": "\"string\""
        },
        {
         "metadata": "{}",
         "name": "VL_TOTAL_PAGTO_MES",
         "type": "\"double\""
        }
       ],
       "type": "table"
      }
     },
     "output_type": "display_data"
    }
   ],
   "source": [
    "%sql\n",
    "(select ANO, MES, Sum(VALOR_PAGTO) as VL_TOTAL_PAGTO_MES\n",
    "from OURO.PAGAMENTOS\n",
    "WHERE ANO = 2024\n",
    "group by ANO, MES\n",
    "order by 3 DESC\n",
    "LIMIT 1)\n",
    "union all\n",
    "(select ANO, MES, Sum(VALOR_PAGTO) as VL_TOTAL_PAGTO_MES\n",
    "from OURO.PAGAMENTOS\n",
    "WHERE ANO = 2025\n",
    "group by ANO, MES\n",
    "order by 3 DESC\n",
    "LIMIT 1)"
   ]
  },
  {
   "cell_type": "markdown",
   "metadata": {
    "application/vnd.databricks.v1+cell": {
     "cellMetadata": {},
     "inputWidgets": {},
     "nuid": "7d5c3fc1-4fab-48cf-82ce-a560c050d4da",
     "showTitle": false,
     "tableResultSettingsMap": {},
     "title": ""
    }
   },
   "source": [
    "<strong>5.\tQual o lucro mensal da empresa, considerando um gasto fixo de R$ 7.000,00 por mês mais as comissões pagas aos Prestadores?</strong>"
   ]
  },
  {
   "cell_type": "code",
   "execution_count": 0,
   "metadata": {
    "application/vnd.databricks.v1+cell": {
     "cellMetadata": {
      "byteLimit": 2048000,
      "implicitDf": true,
      "rowLimit": 10000
     },
     "inputWidgets": {},
     "nuid": "638460ca-5707-4ba3-9484-b08b6ceab334",
     "showTitle": true,
     "tableResultSettingsMap": {},
     "title": "resposta 5"
    }
   },
   "outputs": [
    {
     "output_type": "display_data",
     "data": {
      "text/html": [
       "<style scoped>\n",
       "  .table-result-container {\n",
       "    max-height: 300px;\n",
       "    overflow: auto;\n",
       "  }\n",
       "  table, th, td {\n",
       "    border: 1px solid black;\n",
       "    border-collapse: collapse;\n",
       "  }\n",
       "  th, td {\n",
       "    padding: 5px;\n",
       "  }\n",
       "  th {\n",
       "    text-align: left;\n",
       "  }\n",
       "</style><div class='table-result-container'><table class='table-result'><thead style='background-color: white'><tr><th>ANO</th><th>mes</th><th>LUCRO</th></tr></thead><tbody><tr><td>2024</td><td>Julho</td><td>11195.45</td></tr><tr><td>2024</td><td>Dezembro</td><td>13997.65</td></tr><tr><td>2024</td><td>Março</td><td>11431.1</td></tr><tr><td>2024</td><td>Maio</td><td>14855.2</td></tr><tr><td>2024</td><td>Setembro</td><td>7757.3</td></tr><tr><td>2024</td><td>Outubro</td><td>10990.95</td></tr><tr><td>2024</td><td>Fevereiro</td><td>10534.7</td></tr><tr><td>2025</td><td>Março</td><td>39.75</td></tr><tr><td>2024</td><td>Janeiro</td><td>9052.2</td></tr><tr><td>2024</td><td>Novembro</td><td>9806.0</td></tr><tr><td>2024</td><td>Junho</td><td>12198.9</td></tr><tr><td>2025</td><td>Janeiro</td><td>9719.9</td></tr><tr><td>2024</td><td>Abril</td><td>10025.6</td></tr><tr><td>2024</td><td>Agosto</td><td>11845.3</td></tr><tr><td>2025</td><td>Fevereiro</td><td>8679.9</td></tr></tbody></table></div>"
      ]
     },
     "metadata": {
      "application/vnd.databricks.v1+output": {
       "addedWidgets": {},
       "aggData": [],
       "aggError": "",
       "aggOverflow": false,
       "aggSchema": [],
       "aggSeriesLimitReached": false,
       "aggType": "",
       "arguments": {},
       "columnCustomDisplayInfos": {},
       "data": [
        [
         2024,
         "Julho",
         11195.45
        ],
        [
         2024,
         "Dezembro",
         13997.65
        ],
        [
         2024,
         "Março",
         11431.1
        ],
        [
         2024,
         "Maio",
         14855.2
        ],
        [
         2024,
         "Setembro",
         7757.3
        ],
        [
         2024,
         "Outubro",
         10990.95
        ],
        [
         2024,
         "Fevereiro",
         10534.7
        ],
        [
         2025,
         "Março",
         39.75
        ],
        [
         2024,
         "Janeiro",
         9052.2
        ],
        [
         2024,
         "Novembro",
         9806.0
        ],
        [
         2024,
         "Junho",
         12198.9
        ],
        [
         2025,
         "Janeiro",
         9719.9
        ],
        [
         2024,
         "Abril",
         10025.6
        ],
        [
         2024,
         "Agosto",
         11845.3
        ],
        [
         2025,
         "Fevereiro",
         8679.9
        ]
       ],
       "datasetInfos": [],
       "dbfsResultPath": null,
       "isJsonSchema": true,
       "metadata": {},
       "overflow": false,
       "plotOptions": {
        "customPlotOptions": {},
        "displayType": "table",
        "pivotAggregation": null,
        "pivotColumns": null,
        "xColumns": null,
        "yColumns": null
       },
       "removedWidgets": [],
       "schema": [
        {
         "metadata": "{}",
         "name": "ANO",
         "type": "\"integer\""
        },
        {
         "metadata": "{}",
         "name": "mes",
         "type": "\"string\""
        },
        {
         "metadata": "{}",
         "name": "LUCRO",
         "type": "\"double\""
        }
       ],
       "type": "table"
      }
     },
     "output_type": "display_data"
    }
   ],
   "source": [
    "%sql\n",
    "select F.ANO, case when F.MES  =1 then 'Janeiro'  \n",
    "                  when F.MES =2 then 'Fevereiro'\n",
    "                  when F.MES  =3 then 'Março'\n",
    "                  when F.MES  =4 then 'Abril'\n",
    "                  when F.MES  =5 then 'Maio'\n",
    "                  when F.MES  =6 then 'Junho'\n",
    "                  when F.MES  =7 then 'Julho'\n",
    "                    when F.MES  =8 then 'Agosto'\n",
    "                    when F.MES  =9 then 'Setembro'\n",
    "                    when F.MES  =10 then 'Outubro'\n",
    "                    when F.MES  =11 then 'Novembro'\n",
    "                    when F.MES  =12 then 'Dezembro' end as mes,  \n",
    "                    ROUND((VL_FATURAMENTO_MENSAL - VL_GASTO_MENSAL),2) AS LUCRO\n",
    "from  OURO.FATURAMENTOMENSAL F, OURO.gastomensal G\n",
    "WHERE F.ANO = G.ANO AND \n",
    "      F.MES =  G.MES\n",
    "\n",
    "\n",
    "\n"
   ]
  },
  {
   "cell_type": "markdown",
   "metadata": {
    "application/vnd.databricks.v1+cell": {
     "cellMetadata": {},
     "inputWidgets": {},
     "nuid": "c9537d61-5e5a-43ba-8489-830e0d86fab4",
     "showTitle": false,
     "tableResultSettingsMap": {},
     "title": ""
    }
   },
   "source": [
    "<strong>6.\tQual a forma de pagamento mais utilizada pelos clientes?</strong>"
   ]
  },
  {
   "cell_type": "code",
   "execution_count": 0,
   "metadata": {
    "application/vnd.databricks.v1+cell": {
     "cellMetadata": {
      "byteLimit": 2048000,
      "implicitDf": true,
      "rowLimit": 10000
     },
     "inputWidgets": {},
     "nuid": "5b395d9b-9239-472e-8317-fd16a84be237",
     "showTitle": true,
     "tableResultSettingsMap": {},
     "title": "RESPOSTA 6"
    }
   },
   "outputs": [
    {
     "output_type": "display_data",
     "data": {
      "text/html": [
       "<style scoped>\n",
       "  .table-result-container {\n",
       "    max-height: 300px;\n",
       "    overflow: auto;\n",
       "  }\n",
       "  table, th, td {\n",
       "    border: 1px solid black;\n",
       "    border-collapse: collapse;\n",
       "  }\n",
       "  th, td {\n",
       "    padding: 5px;\n",
       "  }\n",
       "  th {\n",
       "    text-align: left;\n",
       "  }\n",
       "</style><div class='table-result-container'><table class='table-result'><thead style='background-color: white'><tr><th>FORMA_PAGTO</th><th>TOTAL</th></tr></thead><tbody><tr><td>CREDITO</td><td>2804</td></tr><tr><td>DEBITO</td><td>2205</td></tr><tr><td>PIX</td><td>1717</td></tr><tr><td>DINHEIRO</td><td>394</td></tr></tbody></table></div>"
      ]
     },
     "metadata": {
      "application/vnd.databricks.v1+output": {
       "addedWidgets": {},
       "aggData": [],
       "aggError": "",
       "aggOverflow": false,
       "aggSchema": [],
       "aggSeriesLimitReached": false,
       "aggType": "",
       "arguments": {},
       "columnCustomDisplayInfos": {},
       "data": [
        [
         "CREDITO",
         2804
        ],
        [
         "DEBITO",
         2205
        ],
        [
         "PIX",
         1717
        ],
        [
         "DINHEIRO",
         394
        ]
       ],
       "datasetInfos": [],
       "dbfsResultPath": null,
       "isJsonSchema": true,
       "metadata": {},
       "overflow": false,
       "plotOptions": {
        "customPlotOptions": {},
        "displayType": "table",
        "pivotAggregation": null,
        "pivotColumns": null,
        "xColumns": null,
        "yColumns": null
       },
       "removedWidgets": [],
       "schema": [
        {
         "metadata": "{}",
         "name": "FORMA_PAGTO",
         "type": "\"string\""
        },
        {
         "metadata": "{}",
         "name": "TOTAL",
         "type": "\"long\""
        }
       ],
       "type": "table"
      }
     },
     "output_type": "display_data"
    }
   ],
   "source": [
    "%sql\n",
    "SELECT FORMA_PAGTO, COUNT(*) AS TOTAL\n",
    "from OURO.PAGAMENTOS \n",
    "GROUP BY FORMA_PAGTO\n",
    "ORDER BY 2 DESC"
   ]
  },
  {
   "cell_type": "markdown",
   "metadata": {
    "application/vnd.databricks.v1+cell": {
     "cellMetadata": {},
     "inputWidgets": {},
     "nuid": "629923d1-5d71-41f1-b17a-843bd66b058a",
     "showTitle": false,
     "tableResultSettingsMap": {},
     "title": ""
    }
   },
   "source": [
    "<strong>7.\tQuais o três clientes que mais gastaram dinheiro no salão durante o ano?</strong>"
   ]
  },
  {
   "cell_type": "code",
   "execution_count": 0,
   "metadata": {
    "application/vnd.databricks.v1+cell": {
     "cellMetadata": {
      "byteLimit": 2048000,
      "implicitDf": true,
      "rowLimit": 10000
     },
     "inputWidgets": {},
     "nuid": "4ad18c85-bfe9-4d08-ad21-6903cef21eba",
     "showTitle": true,
     "tableResultSettingsMap": {},
     "title": "RESPOSTA 7"
    }
   },
   "outputs": [
    {
     "output_type": "display_data",
     "data": {
      "text/html": [
       "<style scoped>\n",
       "  .table-result-container {\n",
       "    max-height: 300px;\n",
       "    overflow: auto;\n",
       "  }\n",
       "  table, th, td {\n",
       "    border: 1px solid black;\n",
       "    border-collapse: collapse;\n",
       "  }\n",
       "  th, td {\n",
       "    padding: 5px;\n",
       "  }\n",
       "  th {\n",
       "    text-align: left;\n",
       "  }\n",
       "</style><div class='table-result-container'><table class='table-result'><thead style='background-color: white'><tr><th>ANO</th><th>NOMECLIENTE</th><th>VL_GASTO_CLIENTE</th></tr></thead><tbody><tr><td>2024</td><td>DANI LIFE</td><td>9349.0</td></tr><tr><td>2024</td><td>INGRID VITINHO</td><td>9144.0</td></tr><tr><td>2024</td><td>MARCIA CP 906</td><td>9007.0</td></tr><tr><td>2025</td><td>MARCIA CP 906</td><td>2255.0</td></tr><tr><td>2025</td><td>ANA PAULA HP 401</td><td>2179.0</td></tr><tr><td>2025</td><td>ALEXANDRA HP 208</td><td>1376.0</td></tr></tbody></table></div>"
      ]
     },
     "metadata": {
      "application/vnd.databricks.v1+output": {
       "addedWidgets": {},
       "aggData": [],
       "aggError": "",
       "aggOverflow": false,
       "aggSchema": [],
       "aggSeriesLimitReached": false,
       "aggType": "",
       "arguments": {},
       "columnCustomDisplayInfos": {},
       "data": [
        [
         2024,
         "DANI LIFE",
         9349.0
        ],
        [
         2024,
         "INGRID VITINHO",
         9144.0
        ],
        [
         2024,
         "MARCIA CP 906",
         9007.0
        ],
        [
         2025,
         "MARCIA CP 906",
         2255.0
        ],
        [
         2025,
         "ANA PAULA HP 401",
         2179.0
        ],
        [
         2025,
         "ALEXANDRA HP 208",
         1376.0
        ]
       ],
       "datasetInfos": [],
       "dbfsResultPath": null,
       "isJsonSchema": true,
       "metadata": {},
       "overflow": false,
       "plotOptions": {
        "customPlotOptions": {},
        "displayType": "table",
        "pivotAggregation": null,
        "pivotColumns": null,
        "xColumns": null,
        "yColumns": null
       },
       "removedWidgets": [],
       "schema": [
        {
         "metadata": "{}",
         "name": "ANO",
         "type": "\"integer\""
        },
        {
         "metadata": "{}",
         "name": "NOMECLIENTE",
         "type": "\"string\""
        },
        {
         "metadata": "{}",
         "name": "VL_GASTO_CLIENTE",
         "type": "\"double\""
        }
       ],
       "type": "table"
      }
     },
     "output_type": "display_data"
    }
   ],
   "source": [
    "%sql\n",
    "(select ANO,NOMECLIENTE, VL_GASTO_CLIENTE                         \n",
    "from  OURO.GASTO_CLIENTE\n",
    "WHERE ANO = 2024\n",
    "ORDER BY 3 desc\n",
    "LIMIT 3)\n",
    "UNION ALL\n",
    "(select ANO,NOMECLIENTE, VL_GASTO_CLIENTE                         \n",
    "from  OURO.GASTO_CLIENTE\n",
    "WHERE ANO = 2025\n",
    "ORDER BY 3 desc\n",
    "LIMIT 3)\n",
    "\n",
    "\n"
   ]
  },
  {
   "cell_type": "markdown",
   "metadata": {
    "application/vnd.databricks.v1+cell": {
     "cellMetadata": {},
     "inputWidgets": {},
     "nuid": "b4f9bf43-3572-492a-bf0b-e8e00cf70e8c",
     "showTitle": true,
     "tableResultSettingsMap": {},
     "title": "resposta 8"
    }
   },
   "source": [
    "<strong>8.\tCom base nas informações coletadas, quais estratégias podem ser adotadas para aumentar o faturamento do salão?</STRONG><br><br>\n",
    "Na tabela Clientes, foi identificado que os campos data de nascimento e telefone não estavam preenchidos, e não existia um campo para e-mail.\n",
    "\n",
    "Sugestão: Incluir o campo e-mail e preencher esses campos para possibilitar uma comunicação mais eficiente com os clientes.\n",
    "\n",
    "Com a data de nascimento, seria possível enviar mensagens personalizadas de aniversário, oferecendo serviços com desconto, como forma de fidelização.\n",
    "\n",
    "A inclusão de telefone e e-mail permite o envio de promoções e novidades, melhorando o relacionamento com o cliente e incentivando novas visitas.\n",
    "\n",
    "Na tabela Serviços, observou-se que não há pacotes promocionais sendo oferecidos.\n",
    "\n",
    "Sugestão: Criar pacotes com preços especiais para atrair mais clientes e aumentar o ticket médio.\n",
    "\n",
    "Seria interessante identificar os clientes que mais gastam durante o mês e oferecer a eles serviços de brinde ou vantagens exclusivas, como forma de reconhecimento e estímulo à fidelidade."
   ]
  }
 ],
 "metadata": {
  "application/vnd.databricks.v1+notebook": {
   "computePreferences": null,
   "dashboards": [],
   "environmentMetadata": {
    "base_environment": "",
    "environment_version": "1"
   },
   "inputWidgetPreferences": null,
   "language": "python",
   "notebookMetadata": {
    "mostRecentlyExecutedCommandWithImplicitDF": {
     "commandId": 2730663937854923,
     "dataframes": [
      "_sqldf"
     ]
    },
    "pythonIndentUnit": 4
   },
   "notebookName": "Ouro",
   "widgets": {}
  }
 },
 "nbformat": 4,
 "nbformat_minor": 0
}