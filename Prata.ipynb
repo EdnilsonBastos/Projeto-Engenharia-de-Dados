{
 "cells": [
  {
   "cell_type": "markdown",
   "metadata": {
    "application/vnd.databricks.v1+cell": {
     "cellMetadata": {},
     "inputWidgets": {},
     "nuid": "a68e8b64-a604-4ee9-96e7-e543fdfba4fd",
     "showTitle": false,
     "tableResultSettingsMap": {},
     "title": ""
    }
   },
   "source": [
    "<strong>Cria o database Prata</strong>"
   ]
  },
  {
   "cell_type": "code",
   "execution_count": 0,
   "metadata": {
    "application/vnd.databricks.v1+cell": {
     "cellMetadata": {
      "byteLimit": 2048000,
      "implicitDf": true,
      "rowLimit": 10000
     },
     "inputWidgets": {},
     "nuid": "dff1a1a5-27c7-47a2-80ce-345a5f96a38a",
     "showTitle": true,
     "tableResultSettingsMap": {},
     "title": "DATABASE PRATA"
    }
   },
   "outputs": [
    {
     "output_type": "display_data",
     "data": {
      "text/html": [
       "<style scoped>\n",
       "  .table-result-container {\n",
       "    max-height: 300px;\n",
       "    overflow: auto;\n",
       "  }\n",
       "  table, th, td {\n",
       "    border: 1px solid black;\n",
       "    border-collapse: collapse;\n",
       "  }\n",
       "  th, td {\n",
       "    padding: 5px;\n",
       "  }\n",
       "  th {\n",
       "    text-align: left;\n",
       "  }\n",
       "</style><div class='table-result-container'><table class='table-result'><thead style='background-color: white'><tr></tr></thead><tbody></tbody></table></div>"
      ]
     },
     "metadata": {
      "application/vnd.databricks.v1+output": {
       "addedWidgets": {},
       "aggData": [],
       "aggError": "",
       "aggOverflow": false,
       "aggSchema": [],
       "aggSeriesLimitReached": false,
       "aggType": "",
       "arguments": {},
       "columnCustomDisplayInfos": {},
       "data": [],
       "datasetInfos": [],
       "dbfsResultPath": null,
       "isJsonSchema": true,
       "metadata": {},
       "overflow": false,
       "plotOptions": {
        "customPlotOptions": {},
        "displayType": "table",
        "pivotAggregation": null,
        "pivotColumns": null,
        "xColumns": null,
        "yColumns": null
       },
       "removedWidgets": [],
       "schema": [],
       "type": "table"
      }
     },
     "output_type": "display_data"
    }
   ],
   "source": [
    "%sql\n",
    "create database if not exists Prata\n"
   ]
  },
  {
   "cell_type": "markdown",
   "metadata": {
    "application/vnd.databricks.v1+cell": {
     "cellMetadata": {},
     "inputWidgets": {},
     "nuid": "50e2b77b-e880-4d2a-b089-9ae1fad1592b",
     "showTitle": false,
     "tableResultSettingsMap": {},
     "title": ""
    }
   },
   "source": [
    "**Mostra que a coluna \"data_nascimento\" da tabela Clientes está vazia.**"
   ]
  },
  {
   "cell_type": "code",
   "execution_count": 0,
   "metadata": {
    "application/vnd.databricks.v1+cell": {
     "cellMetadata": {
      "byteLimit": 2048000,
      "rowLimit": 10000
     },
     "inputWidgets": {},
     "nuid": "9a928cc2-4a7a-4cfa-a60e-a13241e1e8b5",
     "showTitle": true,
     "tableResultSettingsMap": {},
     "title": "Mostra que a coluna \"data_nascimento\"  esta vazia"
    }
   },
   "outputs": [
    {
     "output_type": "stream",
     "name": "stdout",
     "output_type": "stream",
     "text": [
      "+----------+----+---------------+--------+\n|ID_CLIENTE|NOME|DATA_NASCIMENTO|TELEFONE|\n+----------+----+---------------+--------+\n+----------+----+---------------+--------+\n\n"
     ]
    }
   ],
   "source": [
    "%python \n",
    "resposta = spark.sql(\"SELECT *  FROM bronze.Clientes where DATA_NASCIMENTO is not null\")   \n",
    "resposta.show() "
   ]
  },
  {
   "cell_type": "markdown",
   "metadata": {
    "application/vnd.databricks.v1+cell": {
     "cellMetadata": {},
     "inputWidgets": {},
     "nuid": "79d7b4f0-2d64-413c-a4d9-2adc3bca0678",
     "showTitle": false,
     "tableResultSettingsMap": {},
     "title": ""
    }
   },
   "source": [
    "**Mostra que a coluna \"Telefone\" da tabela Clientes está vazia**"
   ]
  },
  {
   "cell_type": "code",
   "execution_count": 0,
   "metadata": {
    "application/vnd.databricks.v1+cell": {
     "cellMetadata": {
      "byteLimit": 2048000,
      "rowLimit": 10000
     },
     "inputWidgets": {},
     "nuid": "ef75e165-8335-46b2-8d09-da1ea3e1b6fd",
     "showTitle": true,
     "tableResultSettingsMap": {},
     "title": "Mostra que a coluna \"Telefone\" está vazia"
    }
   },
   "outputs": [
    {
     "output_type": "stream",
     "name": "stdout",
     "output_type": "stream",
     "text": [
      "+----------+----+---------------+--------+\n|ID_CLIENTE|NOME|DATA_NASCIMENTO|TELEFONE|\n+----------+----+---------------+--------+\n+----------+----+---------------+--------+\n\n"
     ]
    }
   ],
   "source": [
    "%python \n",
    "resposta = spark.sql(\"SELECT *  FROM bronze.Clientes where TELEFONE is not null\")   \n",
    "resposta.show() "
   ]
  },
  {
   "cell_type": "markdown",
   "metadata": {
    "application/vnd.databricks.v1+cell": {
     "cellMetadata": {},
     "inputWidgets": {},
     "nuid": "27331138-b476-4479-9d05-997a65676dff",
     "showTitle": false,
     "tableResultSettingsMap": {},
     "title": ""
    }
   },
   "source": [
    "**Remove as colunas \"Data_Nascimento\" e \"Telefone\" do dataframe \"clientes\".**"
   ]
  },
  {
   "cell_type": "code",
   "execution_count": 0,
   "metadata": {
    "application/vnd.databricks.v1+cell": {
     "cellMetadata": {
      "byteLimit": 2048000,
      "rowLimit": 10000
     },
     "inputWidgets": {},
     "nuid": "e99886fe-8034-4cec-ad40-8535ca05307b",
     "showTitle": true,
     "tableResultSettingsMap": {},
     "title": "Remover as colunas Data_Nascimento e Telefone"
    }
   },
   "outputs": [
    {
     "output_type": "stream",
     "name": "stdout",
     "output_type": "stream",
     "text": [
      "+----------+----------------+\n|ID_CLIENTE|            NOME|\n+----------+----------------+\n|         1|   MARCIA CP 903|\n|         2|   SIMONE VP 613|\n|         3|ALEXANDRA HP 208|\n|         4| PAULINHA GP 504|\n|         5|   ESTHER GP 814|\n|         6|ROSANGELA GP 102|\n|         7|    BRUNA GP 503|\n|         8|     JANA VP 902|\n|         9|    CARLA VP 405|\n|        10|       DANI FORA|\n+----------+----------------+\nonly showing top 10 rows\n\n"
     ]
    }
   ],
   "source": [
    "%py\n",
    "df_cli = clientes.drop(\"DATA_NASCIMENTO\",\"TELEFONE\")\n",
    "df_cli.show(10)\n"
   ]
  },
  {
   "cell_type": "markdown",
   "metadata": {
    "application/vnd.databricks.v1+cell": {
     "cellMetadata": {},
     "inputWidgets": {},
     "nuid": "9013d87f-dc43-4bdf-9287-a006fb0b2bb9",
     "showTitle": false,
     "tableResultSettingsMap": {},
     "title": ""
    }
   },
   "source": []
  },
  {
   "cell_type": "markdown",
   "metadata": {
    "application/vnd.databricks.v1+cell": {
     "cellMetadata": {},
     "inputWidgets": {},
     "nuid": "cd8a4f4e-3213-49b3-a88b-a5f4c7047fe7",
     "showTitle": false,
     "tableResultSettingsMap": {},
     "title": ""
    }
   },
   "source": [
    "**Criar a tabela \"Clientes\" tratada no database Prata**"
   ]
  },
  {
   "cell_type": "code",
   "execution_count": 0,
   "metadata": {
    "application/vnd.databricks.v1+cell": {
     "cellMetadata": {
      "byteLimit": 2048000,
      "rowLimit": 10000
     },
     "inputWidgets": {},
     "nuid": "7e27a324-46cf-4903-a3e8-3ff806a80e33",
     "showTitle": true,
     "tableResultSettingsMap": {},
     "title": "Criar a tabela Clientes tratada no database Prata"
    }
   },
   "outputs": [],
   "source": [
    "%python\n",
    "df_cli.write.mode(\"overwrite\").saveAsTable('prata.Clientes')"
   ]
  },
  {
   "cell_type": "markdown",
   "metadata": {
    "application/vnd.databricks.v1+cell": {
     "cellMetadata": {},
     "inputWidgets": {},
     "nuid": "9654d56a-e54c-4ee5-97be-da3482b33359",
     "showTitle": false,
     "tableResultSettingsMap": {},
     "title": ""
    }
   },
   "source": [
    "**Mostra que as colunas \"DATA_NASCIMENTO\" e \"TELEFONE\"  foram removidas da tabela Clientes**"
   ]
  },
  {
   "cell_type": "code",
   "execution_count": 0,
   "metadata": {
    "application/vnd.databricks.v1+cell": {
     "cellMetadata": {
      "byteLimit": 2048000,
      "rowLimit": 10000
     },
     "inputWidgets": {},
     "nuid": "998a7a1e-a9e3-48f2-9dc5-d0453c9ab2b7",
     "showTitle": true,
     "tableResultSettingsMap": {},
     "title": "Mostra que as colunas \"DATA_NASCIMENTO\" e \"TELEFONE\"  foram removidas da tabela Cliente"
    }
   },
   "outputs": [
    {
     "output_type": "stream",
     "name": "stdout",
     "output_type": "stream",
     "text": [
      "+----------+----------------+\n|ID_CLIENTE|            NOME|\n+----------+----------------+\n|         1|   MARCIA CP 903|\n|         2|   SIMONE VP 613|\n|         3|ALEXANDRA HP 208|\n|         4| PAULINHA GP 504|\n|         5|   ESTHER GP 814|\n|         6|ROSANGELA GP 102|\n|         7|    BRUNA GP 503|\n|         8|     JANA VP 902|\n|         9|    CARLA VP 405|\n|        10|       DANI FORA|\n+----------+----------------+\nonly showing top 10 rows\n\n"
     ]
    }
   ],
   "source": [
    "%python \n",
    "resposta = spark.sql(\"SELECT * FROM prata.Clientes \")   \n",
    "resposta.show(10) "
   ]
  },
  {
   "cell_type": "markdown",
   "metadata": {
    "application/vnd.databricks.v1+cell": {
     "cellMetadata": {},
     "inputWidgets": {},
     "nuid": "d9fcbfa6-9034-4cea-8294-103ff871989f",
     "showTitle": false,
     "tableResultSettingsMap": {},
     "title": ""
    }
   },
   "source": [
    "**Demonstra que existe um \"X\" na coluna Ativo. Essa coluna aceita somente (\"S\" ou \"N\").**"
   ]
  },
  {
   "cell_type": "code",
   "execution_count": 0,
   "metadata": {
    "application/vnd.databricks.v1+cell": {
     "cellMetadata": {
      "byteLimit": 2048000,
      "rowLimit": 10000
     },
     "inputWidgets": {},
     "nuid": "fd5e1adf-197d-4c7f-a8ae-66872550ecc4",
     "showTitle": true,
     "tableResultSettingsMap": {},
     "title": "Demosntra que existe um \"X\" na coluna Ativo que não existe"
    }
   },
   "outputs": [
    {
     "output_type": "stream",
     "name": "stdout",
     "output_type": "stream",
     "text": [
      "+------------+-------+----+---------------+-----------+----+-----+\n|ID_PRESTADOR|APELIDO|NOME|DATA_NASCIMENTO|     FUNCAO| PIX|ATIVO|\n+------------+-------+----+---------------+-----------+----+-----+\n|          14|   DANI|DANI|           null|     CABELO|null|    X|\n|          18|   NARA|NARA|           null|ESTETICISTA|null|    X|\n+------------+-------+----+---------------+-----------+----+-----+\n\n"
     ]
    }
   ],
   "source": [
    "%python \n",
    "resposta = spark.sql(\"SELECT * FROM bronze.prestadores where ATIVO = 'X' \")   \n",
    "resposta.show() "
   ]
  },
  {
   "cell_type": "markdown",
   "metadata": {
    "application/vnd.databricks.v1+cell": {
     "cellMetadata": {},
     "inputWidgets": {},
     "nuid": "91629667-a96a-4c65-ab65-db811d8fb143",
     "showTitle": false,
     "tableResultSettingsMap": {},
     "title": ""
    }
   },
   "source": [
    "**Atualiza a coluna Ativo igual 'N' quando for igua a \"X\".**"
   ]
  },
  {
   "cell_type": "code",
   "execution_count": 0,
   "metadata": {
    "application/vnd.databricks.v1+cell": {
     "cellMetadata": {
      "byteLimit": 2048000,
      "rowLimit": 10000
     },
     "inputWidgets": {},
     "nuid": "ec12d3bc-22da-4251-90be-a5ff93e38632",
     "showTitle": true,
     "tableResultSettingsMap": {},
     "title": "Atualiza a coluna Ativo= 'N' quando for igual a 'X'"
    }
   },
   "outputs": [],
   "source": [
    "%py\n",
    "from pyspark.sql.functions import when\n",
    "df_final = prestadores.withColumn(\"ATIVO\", when(prestadores.ATIVO == \"X\",\"N\") \\\n",
    "            .otherwise(prestadores.ATIVO))\n"
   ]
  },
  {
   "cell_type": "markdown",
   "metadata": {
    "application/vnd.databricks.v1+cell": {
     "cellMetadata": {},
     "inputWidgets": {},
     "nuid": "cbf150e8-ecf3-4e91-bdfd-f66857240847",
     "showTitle": false,
     "tableResultSettingsMap": {},
     "title": ""
    }
   },
   "source": [
    "**Mostra no data_frame \"df_final \" que as dados que estava com \"X\" foram atualizadas para \"N\".**"
   ]
  },
  {
   "cell_type": "code",
   "execution_count": 0,
   "metadata": {
    "application/vnd.databricks.v1+cell": {
     "cellMetadata": {
      "byteLimit": 2048000,
      "rowLimit": 10000
     },
     "inputWidgets": {},
     "nuid": "c3ad77de-7ee5-48e6-80cd-ad64dd045b1a",
     "showTitle": true,
     "tableResultSettingsMap": {},
     "title": "data_frame filtra as colunas que foram ataulizadas"
    }
   },
   "outputs": [
    {
     "output_type": "stream",
     "name": "stdout",
     "output_type": "stream",
     "text": [
      "+------------+----+-----+\n|ID_PRESTADOR|NOME|ATIVO|\n+------------+----+-----+\n|          14|DANI|    N|\n|          18|NARA|    N|\n+------------+----+-----+\n\n"
     ]
    }
   ],
   "source": [
    "%python \n",
    "df = df_final.filter((df_final[\"ID_PRESTADOR\"]==14) | (df_final[\"ID_PRESTADOR\"]==18))\n",
    "df= df.select(\"ID_PRESTADOR\",\"NOME\",\"ATIVO\")\n",
    "df.show()"
   ]
  },
  {
   "cell_type": "markdown",
   "metadata": {
    "application/vnd.databricks.v1+cell": {
     "cellMetadata": {},
     "inputWidgets": {},
     "nuid": "b3fa1689-cfa7-464a-82f2-aec673b6bb82",
     "showTitle": false,
     "tableResultSettingsMap": {},
     "title": ""
    }
   },
   "source": [
    "**Demontra que a coluna \"DATA_NASCIMENTO\" da tabela \"PRESTADORES\" está vazia.**"
   ]
  },
  {
   "cell_type": "code",
   "execution_count": 0,
   "metadata": {
    "application/vnd.databricks.v1+cell": {
     "cellMetadata": {
      "byteLimit": 2048000,
      "rowLimit": 10000
     },
     "inputWidgets": {},
     "nuid": "70688eb8-0391-4e1f-987b-b2280c2f3547",
     "showTitle": true,
     "tableResultSettingsMap": {},
     "title": "Demontra que a coluna \"DATA_NASCIMENTO\" da tabela \"PRESTADORES\" não foi preenchida"
    }
   },
   "outputs": [
    {
     "output_type": "stream",
     "name": "stdout",
     "output_type": "stream",
     "text": [
      "+------------+-------+----+---------------+------+---+-----+\n|ID_PRESTADOR|APELIDO|NOME|DATA_NASCIMENTO|FUNCAO|PIX|ATIVO|\n+------------+-------+----+---------------+------+---+-----+\n+------------+-------+----+---------------+------+---+-----+\n\n"
     ]
    }
   ],
   "source": [
    "%python \n",
    "resposta = spark.sql(\"SELECT * FROM bronze.prestadores where DATA_NASCIMENTO IS NOT NULL \")   \n",
    "resposta.show() "
   ]
  },
  {
   "cell_type": "markdown",
   "metadata": {
    "application/vnd.databricks.v1+cell": {
     "cellMetadata": {},
     "inputWidgets": {},
     "nuid": "0c045354-68a9-45ce-8a69-b52c593b2232",
     "showTitle": false,
     "tableResultSettingsMap": {},
     "title": ""
    }
   },
   "source": [
    "**Remove a coluna \"DATA_NASCIMENTO\" do datafreme \"prestadores\".**"
   ]
  },
  {
   "cell_type": "code",
   "execution_count": 0,
   "metadata": {
    "application/vnd.databricks.v1+cell": {
     "cellMetadata": {
      "byteLimit": 2048000,
      "rowLimit": 10000
     },
     "inputWidgets": {},
     "nuid": "26b17273-1466-459c-a3a0-179b3fb60329",
     "showTitle": true,
     "tableResultSettingsMap": {},
     "title": "Exclui a coluna \"data_nascimento\" do datafreme \"prestadores\""
    }
   },
   "outputs": [
    {
     "output_type": "stream",
     "name": "stdout",
     "output_type": "stream",
     "text": [
      "+------------+---------+----------------+----------------+--------------------+-----+\n|ID_PRESTADOR|  APELIDO|            NOME|          FUNCAO|                 PIX|ATIVO|\n+------------+---------+----------------+----------------+--------------------+-----+\n|           1|      LEO|LEONARDO MACHADO|          CABELO|21 99562-4420 CEL...|    S|\n|           2|ANA LUCIA|       ANA LUCIA|MANICUREPEDICURE|21 96662-2202 CEL...|    S|\n|           3|   REBECA|          REBECA|MANICUREPEDICURE|  172.249.587.19 CPF|    S|\n|           4|ANA BRITO|       ANA BRITO|          CABELO|                null|    S|\n|           5|    SALAO| SALAO ANABRITTO|           GERAL|                null|    S|\n|           6|  JULIETE|JULIETE FAUSTINO|MANICUREPEDICURE|                null|    S|\n|           7|   SIMONE|          SIMONE|          CABELO|                null|    N|\n|           8| FERNANDA|        FERNANDA|MANICUREPEDICURE|                null|    N|\n|           9|  LUCIANA|         LUCIANA|MANICUREPEDICURE|                null|    S|\n|          10| CRISTINA|        CRISTINA|          CABELO|                null|    N|\n+------------+---------+----------------+----------------+--------------------+-----+\nonly showing top 10 rows\n\n"
     ]
    }
   ],
   "source": [
    "%py\n",
    "df_pre = df_final.drop(\"DATA_NASCIMENTO\")\n",
    "df_pre.show(10)"
   ]
  },
  {
   "cell_type": "markdown",
   "metadata": {
    "application/vnd.databricks.v1+cell": {
     "cellMetadata": {},
     "inputWidgets": {},
     "nuid": "a6d2db43-4057-4a9e-bff7-d24390068beb",
     "showTitle": false,
     "tableResultSettingsMap": {},
     "title": ""
    }
   },
   "source": [
    "**Cria a tabela \"Prestadores\" no database Prata.**"
   ]
  },
  {
   "cell_type": "code",
   "execution_count": 0,
   "metadata": {
    "application/vnd.databricks.v1+cell": {
     "cellMetadata": {
      "byteLimit": 2048000,
      "rowLimit": 10000
     },
     "inputWidgets": {},
     "nuid": "bdaebdaa-3a1a-4d0e-ae37-a391d9986028",
     "showTitle": true,
     "tableResultSettingsMap": {},
     "title": "Cria a tabela \"Prestadores\" no database Prata"
    }
   },
   "outputs": [],
   "source": [
    "%python\n",
    "df_pre.write.mode(\"overwrite\").saveAsTable('prata.Prestadores')"
   ]
  },
  {
   "cell_type": "markdown",
   "metadata": {
    "application/vnd.databricks.v1+cell": {
     "cellMetadata": {},
     "inputWidgets": {},
     "nuid": "74cd8c24-2548-4611-8e9b-4362a61008f2",
     "showTitle": false,
     "tableResultSettingsMap": {},
     "title": ""
    }
   },
   "source": [
    "**Demonstra que a tabela \"Prestadores\" foi criada no database Prata.**"
   ]
  },
  {
   "cell_type": "code",
   "execution_count": 0,
   "metadata": {
    "application/vnd.databricks.v1+cell": {
     "cellMetadata": {
      "byteLimit": 2048000,
      "rowLimit": 10000
     },
     "inputWidgets": {},
     "nuid": "a96982d4-9559-40cf-bcb5-7fbb80c18ea4",
     "showTitle": true,
     "tableResultSettingsMap": {},
     "title": "Demonstra que a tabela \"Prestadores\" foi criada no database Prata"
    }
   },
   "outputs": [
    {
     "output_type": "stream",
     "name": "stdout",
     "output_type": "stream",
     "text": [
      "+------------+---------+----------------+----------------+--------------------+-----+\n|ID_PRESTADOR|  APELIDO|            NOME|          FUNCAO|                 PIX|ATIVO|\n+------------+---------+----------------+----------------+--------------------+-----+\n|           1|      LEO|LEONARDO MACHADO|          CABELO|21 99562-4420 CEL...|    S|\n|           2|ANA LUCIA|       ANA LUCIA|MANICUREPEDICURE|21 96662-2202 CEL...|    S|\n|           3|   REBECA|          REBECA|MANICUREPEDICURE|  172.249.587.19 CPF|    S|\n|           4|ANA BRITO|       ANA BRITO|          CABELO|                null|    S|\n|           5|    SALAO| SALAO ANABRITTO|           GERAL|                null|    S|\n|           6|  JULIETE|JULIETE FAUSTINO|MANICUREPEDICURE|                null|    S|\n|           7|   SIMONE|          SIMONE|          CABELO|                null|    N|\n|           8| FERNANDA|        FERNANDA|MANICUREPEDICURE|                null|    N|\n|           9|  LUCIANA|         LUCIANA|MANICUREPEDICURE|                null|    S|\n|          10| CRISTINA|        CRISTINA|          CABELO|                null|    N|\n+------------+---------+----------------+----------------+--------------------+-----+\nonly showing top 10 rows\n\n"
     ]
    }
   ],
   "source": [
    "%python \n",
    "resposta = spark.sql(\"SELECT * FROM prata.prestadores\")   \n",
    "resposta.show(10) "
   ]
  },
  {
   "cell_type": "markdown",
   "metadata": {
    "application/vnd.databricks.v1+cell": {
     "cellMetadata": {},
     "inputWidgets": {},
     "nuid": "c2d4295f-a313-4364-9a63-2aa5c3d3505c",
     "showTitle": false,
     "tableResultSettingsMap": {},
     "title": ""
    }
   },
   "source": [
    "**Cria as colunas Ano e Mês no dataframe \"comandacliente\" que vai ser usado pra responder  um quesito.**"
   ]
  },
  {
   "cell_type": "code",
   "execution_count": 0,
   "metadata": {
    "application/vnd.databricks.v1+cell": {
     "cellMetadata": {
      "byteLimit": 2048000,
      "rowLimit": 10000
     },
     "inputWidgets": {},
     "nuid": "44490426-d834-4a68-ac8e-c88f67b91b1d",
     "showTitle": true,
     "tableResultSettingsMap": {},
     "title": "Cria as colunas Ano e Mês que vai ser usado pra responder  um quesito"
    }
   },
   "outputs": [
    {
     "output_type": "stream",
     "name": "stdout",
     "output_type": "stream",
     "text": [
      "+----------+------------+----+-------+\n|ID_COMANDA|DATA_SERVICO| ANO|    MES|\n+----------+------------+----+-------+\n|      6430|  2024-01-04|2024|JANEIRO|\n|      6430|  2024-01-04|2024|JANEIRO|\n|      6430|  2024-01-04|2024|JANEIRO|\n|      6431|  2024-01-04|2024|JANEIRO|\n|      6431|  2024-01-04|2024|JANEIRO|\n|      6431|  2024-01-04|2024|JANEIRO|\n|      6431|  2024-01-04|2024|JANEIRO|\n|      6432|  2024-01-04|2024|JANEIRO|\n|      6432|  2024-01-04|2024|JANEIRO|\n|      6433|  2024-01-04|2024|JANEIRO|\n+----------+------------+----+-------+\nonly showing top 10 rows\n\n"
     ]
    }
   ],
   "source": [
    "%python\n",
    "from pyspark.sql import SparkSession\n",
    "from pyspark.sql.functions import split, col\n",
    "from pyspark.sql.functions import when\n",
    "dfanomes = comandacliente.withColumn('ANO', split(comandacliente['DATA_SERVICO'], '-').getItem(0)) \\\n",
    "       .withColumn('MES', split(comandacliente['DATA_SERVICO'], '-').getItem(1)) \n",
    "\n",
    "   \n",
    "dfanomes = dfanomes.withColumn(\"MES\", when(dfanomes.MES == 1,\"JANEIRO\")   \\\n",
    "                                         .when(dfanomes.MES == 2,\"FEVEREIRO\") \\\n",
    "                                         .when(dfanomes.MES == 3,\"MARÇO\")     \\\n",
    "                                         .when(dfanomes.MES == 4,\"ABRIL\")     \\\n",
    "                                         .when(dfanomes.MES == 5,\"MAIO\")      \\\n",
    "                                         .when(dfanomes.MES == 6,\"JUNHO\")     \\\n",
    "                                         .when(dfanomes.MES == 7,\"JULHO\")     \\\n",
    "                                         .when(dfanomes.MES == 8,\"AGOSTO\")    \\\n",
    "                                         .when(dfanomes.MES == 9,\"SETEMBRO\")  \\\n",
    "                                         .when(dfanomes.MES == 10,\"OUTUBRO\")  \\\n",
    "                                         .when(dfanomes.MES == 11,\"NOVEMBRO\") \\\n",
    "                                         .when(dfanomes.MES == 12,\"DEZEMBRO\")                                           \n",
    "\n",
    "            .otherwise(dfanomes.MES))\n",
    "df_select = dfanomes.select(\"ID_COMANDA\",\"DATA_SERVICO\",\"ANO\",\"MES\")            \n",
    "df_select.show(10)"
   ]
  },
  {
   "cell_type": "markdown",
   "metadata": {
    "application/vnd.databricks.v1+cell": {
     "cellMetadata": {},
     "inputWidgets": {},
     "nuid": "c8714308-6f22-4092-92b9-38a2d5007587",
     "showTitle": false,
     "tableResultSettingsMap": {},
     "title": ""
    }
   },
   "source": [
    "**Cria a tabela \"ComandaCliente\" no database Prata.**"
   ]
  },
  {
   "cell_type": "code",
   "execution_count": 0,
   "metadata": {
    "application/vnd.databricks.v1+cell": {
     "cellMetadata": {
      "byteLimit": 2048000,
      "rowLimit": 10000
     },
     "inputWidgets": {},
     "nuid": "2f7d0a4d-d766-4103-868d-e503ca00ee04",
     "showTitle": true,
     "tableResultSettingsMap": {},
     "title": "Cria a tabela \"ComandaCliente\"no database Prata"
    }
   },
   "outputs": [],
   "source": [
    "%python\n",
    "dfanomes.write.mode(\"overwrite\").saveAsTable('prata.ComandaCliente')"
   ]
  },
  {
   "cell_type": "markdown",
   "metadata": {
    "application/vnd.databricks.v1+cell": {
     "cellMetadata": {},
     "inputWidgets": {},
     "nuid": "34a3b629-c0bb-4c96-bf4f-d706bac9cd25",
     "showTitle": false,
     "tableResultSettingsMap": {},
     "title": ""
    }
   },
   "source": [
    "**Cria a tabela \"Pagamentos\" no database Prata.**"
   ]
  },
  {
   "cell_type": "code",
   "execution_count": 0,
   "metadata": {
    "application/vnd.databricks.v1+cell": {
     "cellMetadata": {
      "byteLimit": 2048000,
      "rowLimit": 10000
     },
     "inputWidgets": {},
     "nuid": "631608fa-4e87-457f-be37-99074cefc68b",
     "showTitle": true,
     "tableResultSettingsMap": {},
     "title": "Cria a tabela Pagamentos no database Prata"
    }
   },
   "outputs": [],
   "source": [
    "%python\n",
    "pagamentos.write.mode(\"overwrite\").saveAsTable('prata.Pagamentos')"
   ]
  },
  {
   "cell_type": "markdown",
   "metadata": {
    "application/vnd.databricks.v1+cell": {
     "cellMetadata": {},
     "inputWidgets": {},
     "nuid": "bd02f36d-3824-4524-87cf-cadaf84d3c3c",
     "showTitle": false,
     "tableResultSettingsMap": {},
     "title": ""
    }
   },
   "source": [
    "**Cria a tabela \"Servicos\" no database Prata.**"
   ]
  },
  {
   "cell_type": "code",
   "execution_count": 0,
   "metadata": {
    "application/vnd.databricks.v1+cell": {
     "cellMetadata": {
      "byteLimit": 2048000,
      "rowLimit": 10000
     },
     "inputWidgets": {},
     "nuid": "739b7628-657a-4152-ab4d-3355d7660bb3",
     "showTitle": true,
     "tableResultSettingsMap": {},
     "title": "Cria a tabela \"Servicos\" no database Prata"
    }
   },
   "outputs": [],
   "source": [
    "%python\n",
    "servicos.write.mode(\"overwrite\").saveAsTable('prata.Servicos')"
   ]
  },
  {
   "cell_type": "markdown",
   "metadata": {
    "application/vnd.databricks.v1+cell": {
     "cellMetadata": {},
     "inputWidgets": {},
     "nuid": "e07c164c-602e-4f11-aad9-67bada26f438",
     "showTitle": false,
     "tableResultSettingsMap": {},
     "title": ""
    }
   },
   "source": [
    "**Cria o dataframe \"df_pagamentos\" que vai ser usado para criar a tabela \"Pagamentos\" no database Ouro.**"
   ]
  },
  {
   "cell_type": "code",
   "execution_count": 0,
   "metadata": {
    "application/vnd.databricks.v1+cell": {
     "cellMetadata": {
      "byteLimit": 2048000,
      "implicitDf": true,
      "rowLimit": 10000
     },
     "inputWidgets": {},
     "nuid": "727819ca-19eb-4c7a-a6dc-af2f13c18bf9",
     "showTitle": false,
     "tableResultSettingsMap": {},
     "title": ""
    }
   },
   "outputs": [
    {
     "output_type": "stream",
     "name": "stdout",
     "output_type": "stream",
     "text": [
      "+----+-------+-----------+-----------+\n| Ano|    mes|VALOR_PAGTO|Forma_Pagto|\n+----+-------+-----------+-----------+\n|2024|Janeiro|     176.00|     DEBITO|\n|2024|Janeiro|     325.00|    CREDITO|\n|2024|Janeiro|     172.00|     DEBITO|\n|2024|Janeiro|      35.00|        PIX|\n|2024|Janeiro|      29.00|   DINHEIRO|\n|2024|Janeiro|      49.00|     DEBITO|\n|2024|Janeiro|      35.00|        PIX|\n|2024|Janeiro|      49.00|    CREDITO|\n|2024|Janeiro|      29.00|    CREDITO|\n|2024|Janeiro|      40.00|     DEBITO|\n+----+-------+-----------+-----------+\nonly showing top 10 rows\n\n"
     ]
    }
   ],
   "source": [
    "%py\n",
    "sql =\"\"\"SELECT Year(data_pagamento) as Ano, case when month(data_pagamento)  =1 then 'Janeiro'  when month(data_pagamento)  =2 then 'Fevereiro'\n",
    "when month(data_pagamento)  =3 then 'Março'\n",
    "when month(data_pagamento)  =4 then 'Abril'\n",
    "                    when month(data_pagamento)  =5 then 'Maio'\n",
    "                    when month(data_pagamento)  =6 then 'Junho'\n",
    "                    when month(data_pagamento)  =7 then 'Julho'\n",
    "                    when month(data_pagamento)  =8 then 'Agosto'\n",
    "                    when month(data_pagamento)  =9 then 'Setembro'\n",
    "                    when month(data_pagamento)  =10 then 'Outubro'\n",
    "                    when month(data_pagamento)  =11 then 'Novembro'\n",
    "                    when month(data_pagamento)  =12 then 'Dezembro' end as mes,\n",
    "VALOR_PAGTO,forma_pago as Forma_Pagto \n",
    "FROM Prata.Pagamentos \n",
    "\"\"\"\n",
    "\n",
    "df_pagamentos = spark.sql(sql)\n",
    "df_pagamentos.show(10)\n",
    "\n",
    "\n"
   ]
  },
  {
   "cell_type": "markdown",
   "metadata": {
    "application/vnd.databricks.v1+cell": {
     "cellMetadata": {},
     "inputWidgets": {},
     "nuid": "bee9e935-8083-425b-bf5f-90c640d97eb5",
     "showTitle": false,
     "tableResultSettingsMap": {},
     "title": ""
    }
   },
   "source": [
    "**Cria o dataframe \"df_comandafinal\" que vai ser usado para criar a tabela \"comandafinal\" no database Ouro.**"
   ]
  },
  {
   "cell_type": "code",
   "execution_count": 0,
   "metadata": {
    "application/vnd.databricks.v1+cell": {
     "cellMetadata": {
      "byteLimit": 2048000,
      "rowLimit": 10000
     },
     "inputWidgets": {},
     "nuid": "e41a9ce8-9686-4c7c-85dc-59d618922c54",
     "showTitle": false,
     "tableResultSettingsMap": {},
     "title": ""
    }
   },
   "outputs": [
    {
     "output_type": "stream",
     "name": "stdout",
     "output_type": "stream",
     "text": [
      "+-----------+----------------+-------------+----------------+--------------------+-------+\n|Ano_Servico|  Nome_Prestador|Valor_Servico|Comissao_servico|           Descricao|    mes|\n+-----------+----------------+-------------+----------------+--------------------+-------+\n|       2024|          REBECA|        49.00|              55|            PE + MAO|Janeiro|\n|       2024|       ANA BRITO|        47.00|              50|SOBRANCELHAS C/ D...|Janeiro|\n|       2024|       ANA BRITO|        80.00|              50|APLICACAO + LAVAG...|Janeiro|\n|       2024|          REBECA|        29.00|              55|                 MAO|Janeiro|\n|       2024|       ANA BRITO|        69.00|              50|      CORTE FEMININO|Janeiro|\n|       2024|       ANA BRITO|       180.00|              40|CAUTERIZACAO - TR...|Janeiro|\n|       2024|       ANA BRITO|        47.00|              50|SOBRANCELHAS C/ D...|Janeiro|\n|       2024|JULIETE FAUSTINO|        52.00|              55|            PE + MAO|Janeiro|\n|       2024|LEONARDO MACHADO|       120.00|              40|CAUTERIZACAO - TR...|Janeiro|\n|       2024|JULIETE FAUSTINO|        29.00|              55|                 MAO|Janeiro|\n+-----------+----------------+-------------+----------------+--------------------+-------+\nonly showing top 10 rows\n\n"
     ]
    }
   ],
   "source": [
    "%py\n",
    "sql =\"\"\"select cast(C.ANO as integer) as Ano_Servico, \n",
    "P.Nome as Nome_Prestador,  C.VALOR as Valor_Servico,\n",
    "C.Comissao as Comissao_servico,S.Descricao,\n",
    "case when month(C.data_servico)  =1 then 'Janeiro'\n",
    "                    when month(C.data_servico)  =2 then 'Fevereiro'\n",
    "                    when month(C.data_servico)  =3 then 'Março'\n",
    "                    when month(C.data_servico)  =4 then 'Abril'\n",
    "                    when month(C.data_servico)  =5 then 'Maio'\n",
    "                    when month(C.data_servico)  =6 then 'Junho'\n",
    "                    when month(C.data_servico)  =7 then 'Julho'\n",
    "                    when month(C.data_servico)  =8 then 'Agosto'\n",
    "                    when month(C.data_servico)  =9 then 'Setembro'\n",
    "                    when month(C.data_servico)  =10 then 'Outubro'\n",
    "                    when month(C.data_servico)  =11 then 'Novembro'\n",
    "                    when month(C.data_servico)  =12 then 'Dezembro' end as mes\n",
    "from Prata.prestadores as P, Prata.comandacliente as C, Prata.Servicos as S\n",
    "where P.ID_PRESTADOR = C.ID_PRESTADOR and \n",
    "    C.ID_SERVICO = S.ID_SERVICO\"\"\"\n",
    "\n",
    "df_comandafinal = spark.sql(sql)\n",
    "df_comandafinal.show(10)\n",
    "\n"
   ]
  },
  {
   "cell_type": "markdown",
   "metadata": {
    "application/vnd.databricks.v1+cell": {
     "cellMetadata": {},
     "inputWidgets": {},
     "nuid": "b07dc861-0f74-4497-9432-851398b2d2cd",
     "showTitle": false,
     "tableResultSettingsMap": {},
     "title": ""
    }
   },
   "source": [
    "**Cria o dataframe \"df_gasto\" que vai ser usado para criar a tabela \"GastoMensal\" no database Ouro**."
   ]
  },
  {
   "cell_type": "code",
   "execution_count": 0,
   "metadata": {
    "application/vnd.databricks.v1+cell": {
     "cellMetadata": {
      "byteLimit": 2048000,
      "rowLimit": 10000
     },
     "inputWidgets": {},
     "nuid": "edb4e85e-a8fe-4987-b31f-661fc1db6748",
     "showTitle": false,
     "tableResultSettingsMap": {},
     "title": ""
    }
   },
   "outputs": [
    {
     "output_type": "stream",
     "name": "stdout",
     "output_type": "stream",
     "text": [
      "+----+---+---------------+\n| ANO|MES|VL_GASTO_MENSAL|\n+----+---+---------------+\n|2024|  7|       26802.55|\n|2024| 12|       29703.35|\n|2024|  3|        26899.9|\n|2024|  5|        31043.8|\n|2024|  9|        23194.7|\n|2024| 10|       26839.05|\n|2024|  2|        26098.3|\n|2025|  3|       14730.25|\n|2024|  1|        24243.8|\n|2024| 11|        25080.0|\n+----+---+---------------+\nonly showing top 10 rows\n\n"
     ]
    }
   ],
   "source": [
    "%py\n",
    "sql = \"\"\"\n",
    "select YEAR(DATA_SERVICO) AS ANO,MONTH(DATA_SERVICO) AS MES, ROUND((SUM((VALOR * COMISSAO)/100)+ 7000),2) AS VL_GASTO_MENSAL                          \n",
    "from  PRATA.COMANDACLIENTE \n",
    "GROUP BY YEAR(DATA_SERVICO), MONTH(DATA_SERVICO)\n",
    "\"\"\"\n",
    "\n",
    "df_gasto =spark.sql(sql)\n",
    "df_gasto.show(10)\n",
    "\n",
    "\n"
   ]
  },
  {
   "cell_type": "markdown",
   "metadata": {
    "application/vnd.databricks.v1+cell": {
     "cellMetadata": {},
     "inputWidgets": {},
     "nuid": "1366f323-b95f-4d24-b3e6-37328fc8a5a2",
     "showTitle": false,
     "tableResultSettingsMap": {},
     "title": ""
    }
   },
   "source": [
    "**Cria o dataframe \"df_faturamento\" que vai ser usado para criar a tabela \"FaturamentoMensal\" no database Ouro.**"
   ]
  },
  {
   "cell_type": "code",
   "execution_count": 0,
   "metadata": {
    "application/vnd.databricks.v1+cell": {
     "cellMetadata": {
      "byteLimit": 2048000,
      "implicitDf": true,
      "rowLimit": 10000
     },
     "inputWidgets": {},
     "nuid": "315aad0d-92a9-488e-b4f7-9443815b8214",
     "showTitle": false,
     "tableResultSettingsMap": {},
     "title": ""
    }
   },
   "outputs": [
    {
     "output_type": "stream",
     "name": "stdout",
     "output_type": "stream",
     "text": [
      "+----+---+---------------------+\n| ANO|MES|VL_FATURAMENTO_MENSAL|\n+----+---+---------------------+\n|2024|  7|              37998.0|\n|2024| 12|              43701.0|\n|2024|  3|              38331.0|\n|2024|  5|              45899.0|\n|2024|  9|              30952.0|\n|2024| 10|              37830.0|\n|2024|  2|              36633.0|\n|2025|  3|              14770.0|\n|2024|  1|              33296.0|\n|2024| 11|              34886.0|\n+----+---+---------------------+\nonly showing top 10 rows\n\n"
     ]
    }
   ],
   "source": [
    "%py\n",
    "sql = \"\"\"\n",
    "select YEAR(DATA_PAGAMENTO) AS ANO, MONTH(DATA_PAGAMENTO) AS MES , SUM(VALOR_PAGTO) AS VL_FATURAMENTO_MENSAL                         \n",
    "from  PRATA.PAGAMENTOS\n",
    "GROUP BY YEAR(DATA_PAGAMENTO), MONTH(DATA_PAGAMENTO)\n",
    "\"\"\"\n",
    "\n",
    "df_faturamento =spark.sql(sql)\n",
    "df_faturamento.show(10)\n"
   ]
  },
  {
   "cell_type": "markdown",
   "metadata": {
    "application/vnd.databricks.v1+cell": {
     "cellMetadata": {},
     "inputWidgets": {},
     "nuid": "f76bf6ec-0e5d-48c0-9955-5368198e3e3a",
     "showTitle": false,
     "tableResultSettingsMap": {},
     "title": ""
    }
   },
   "source": [
    "**Cria o dataframe \"df_gasto_cliente\" que vai ser usado para criar a tabela \"Gasto_Cliente\" no database Ouro.**"
   ]
  },
  {
   "cell_type": "code",
   "execution_count": 0,
   "metadata": {
    "application/vnd.databricks.v1+cell": {
     "cellMetadata": {
      "byteLimit": 2048000,
      "rowLimit": 10000
     },
     "inputWidgets": {},
     "nuid": "260116c8-bc20-4e09-aab3-bdbecfc57771",
     "showTitle": false,
     "tableResultSettingsMap": {},
     "title": ""
    }
   },
   "outputs": [
    {
     "output_type": "stream",
     "name": "stdout",
     "output_type": "stream",
     "text": [
      "+----+-----------------+----------------+\n| ANO|      NOMECLIENTE|VL_GASTO_CLIENTE|\n+----+-----------------+----------------+\n|2024|ALESSANDRA HP 802|          1856.0|\n|2024|    SILVIA GP 414|           355.0|\n|2024|  FERNANDO HP 614|           350.0|\n|2024|    RENATA GP 105|           280.0|\n|2025|    RENATA HP 210|            35.0|\n|2024|      RITA GP 508|           658.0|\n+----+-----------------+----------------+\nonly showing top 6 rows\n\n"
     ]
    }
   ],
   "source": [
    "%py\n",
    "sql = \"\"\"\n",
    "select YEAR(CC.DATA_SERVICO) AS ANO, C.NOME AS NOMECLIENTE,  SUM(CAST(CC.VALOR AS FLOAT)) AS VL_GASTO_CLIENTE                         \n",
    "from  PRATA.CLIENTES AS C, PRATA.COMANDACLIENTE AS CC\n",
    "WHERE C.ID_CLIENTE = CC.ID_CLIENTE \n",
    "GROUP BY YEAR(CC.DATA_SERVICO), C.NOME\n",
    "\"\"\"\n",
    "\n",
    "df_gasto_cliente =spark.sql(sql)\n",
    "df_gasto_cliente.show(6)"
   ]
  }
 ],
 "metadata": {
  "application/vnd.databricks.v1+notebook": {
   "computePreferences": null,
   "dashboards": [],
   "environmentMetadata": {
    "base_environment": "",
    "environment_version": "1"
   },
   "inputWidgetPreferences": null,
   "language": "python",
   "notebookMetadata": {
    "mostRecentlyExecutedCommandWithImplicitDF": {
     "commandId": 2730663937854905,
     "dataframes": [
      "_sqldf"
     ]
    },
    "pythonIndentUnit": 4
   },
   "notebookName": "Prata",
   "widgets": {}
  }
 },
 "nbformat": 4,
 "nbformat_minor": 0
}