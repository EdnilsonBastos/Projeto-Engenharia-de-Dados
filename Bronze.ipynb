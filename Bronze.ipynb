{
 "cells": [
  {
   "cell_type": "code",
   "execution_count": 0,
   "metadata": {
    "application/vnd.databricks.v1+cell": {
     "cellMetadata": {},
     "inputWidgets": {},
     "nuid": "c6dd35d7-7387-4b86-8674-7ef8a7749513",
     "showTitle": false,
     "tableResultSettingsMap": {},
     "title": ""
    }
   },
   "outputs": [],
   "source": [
    "%run\n",
    "./Importar_arquivos"
   ]
  },
  {
   "cell_type": "code",
   "execution_count": 0,
   "metadata": {
    "application/vnd.databricks.v1+cell": {
     "cellMetadata": {
      "byteLimit": 2048000,
      "rowLimit": 10000
     },
     "inputWidgets": {},
     "nuid": "71910b82-8674-4e62-a314-1dc54335abf7",
     "showTitle": true,
     "tableResultSettingsMap": {},
     "title": "Criação do database Bronze"
    }
   },
   "outputs": [
    {
     "output_type": "display_data",
     "data": {
      "text/html": [
       "<style scoped>\n",
       "  .table-result-container {\n",
       "    max-height: 300px;\n",
       "    overflow: auto;\n",
       "  }\n",
       "  table, th, td {\n",
       "    border: 1px solid black;\n",
       "    border-collapse: collapse;\n",
       "  }\n",
       "  th, td {\n",
       "    padding: 5px;\n",
       "  }\n",
       "  th {\n",
       "    text-align: left;\n",
       "  }\n",
       "</style><div class='table-result-container'><table class='table-result'><thead style='background-color: white'><tr></tr></thead><tbody></tbody></table></div>"
      ]
     },
     "metadata": {
      "application/vnd.databricks.v1+output": {
       "addedWidgets": {},
       "aggData": [],
       "aggError": "",
       "aggOverflow": false,
       "aggSchema": [],
       "aggSeriesLimitReached": false,
       "aggType": "",
       "arguments": {},
       "columnCustomDisplayInfos": {},
       "data": [],
       "datasetInfos": [],
       "dbfsResultPath": null,
       "isJsonSchema": true,
       "metadata": {
        "isDbfsCommandResult": false
       },
       "overflow": false,
       "plotOptions": {
        "customPlotOptions": {},
        "displayType": "table",
        "pivotAggregation": null,
        "pivotColumns": null,
        "xColumns": null,
        "yColumns": null
       },
       "removedWidgets": [],
       "schema": [],
       "type": "table"
      }
     },
     "output_type": "display_data"
    }
   ],
   "source": [
    "%sql\n",
    "create database IF not exists Bronze"
   ]
  },
  {
   "cell_type": "markdown",
   "metadata": {
    "application/vnd.databricks.v1+cell": {
     "cellMetadata": {
      "byteLimit": 2048000,
      "rowLimit": 10000
     },
     "inputWidgets": {},
     "nuid": "30a9f990-1ca5-4e97-ac27-79680f658497",
     "showTitle": false,
     "tableResultSettingsMap": {},
     "title": ""
    }
   },
   "source": [
    "**Criação da tabela Clientes no database Bronze a partir do Dataframe clientes**"
   ]
  },
  {
   "cell_type": "code",
   "execution_count": 0,
   "metadata": {
    "application/vnd.databricks.v1+cell": {
     "cellMetadata": {
      "byteLimit": 2048000,
      "rowLimit": 10000
     },
     "inputWidgets": {},
     "nuid": "cc611b3e-410e-4817-9ab2-904a94ab80fd",
     "showTitle": false,
     "tableResultSettingsMap": {},
     "title": ""
    }
   },
   "outputs": [],
   "source": [
    "%py\n",
    "clientes.write.mode(\"overwrite\").saveAsTable('bronze.Clientes')"
   ]
  },
  {
   "cell_type": "markdown",
   "metadata": {
    "application/vnd.databricks.v1+cell": {
     "cellMetadata": {
      "byteLimit": 2048000,
      "rowLimit": 10000
     },
     "inputWidgets": {},
     "nuid": "bd51b8df-3057-4cf2-8ab0-faf512900424",
     "showTitle": false,
     "tableResultSettingsMap": {},
     "title": ""
    }
   },
   "source": [
    "**Criação da tabela Prestadores no database Bronze a partir do dataframe prestadores**\n"
   ]
  },
  {
   "cell_type": "code",
   "execution_count": 0,
   "metadata": {
    "application/vnd.databricks.v1+cell": {
     "cellMetadata": {
      "byteLimit": 2048000,
      "rowLimit": 10000
     },
     "inputWidgets": {},
     "nuid": "f0b81de0-9e7c-4bf4-99ae-c09926cfd2ce",
     "showTitle": false,
     "tableResultSettingsMap": {},
     "title": ""
    }
   },
   "outputs": [],
   "source": [
    "%python \n",
    "prestadores.write.mode(\"overwrite\").saveAsTable('bronze.Prestadores')"
   ]
  },
  {
   "cell_type": "markdown",
   "metadata": {
    "application/vnd.databricks.v1+cell": {
     "cellMetadata": {
      "byteLimit": 2048000,
      "rowLimit": 10000
     },
     "inputWidgets": {},
     "nuid": "c4ca1e75-69f6-41c0-9937-eb431cc1001d",
     "showTitle": false,
     "tableResultSettingsMap": {},
     "title": ""
    }
   },
   "source": [
    "**Criação da tabela Pagamentos no database Bronze a partir do dataframe pagamentos**"
   ]
  },
  {
   "cell_type": "code",
   "execution_count": 0,
   "metadata": {
    "application/vnd.databricks.v1+cell": {
     "cellMetadata": {
      "byteLimit": 2048000,
      "rowLimit": 10000
     },
     "inputWidgets": {},
     "nuid": "7fa51f5e-a1e1-4233-ad60-732fda65132b",
     "showTitle": true,
     "tableResultSettingsMap": {},
     "title": "Criação da tabela Pagamentos a partir do Dataframe"
    }
   },
   "outputs": [],
   "source": [
    "%python \n",
    "pagamentos.write.mode(\"overwrite\").saveAsTable('bronze.Pagamentos')"
   ]
  },
  {
   "cell_type": "markdown",
   "metadata": {
    "application/vnd.databricks.v1+cell": {
     "cellMetadata": {
      "byteLimit": 2048000,
      "rowLimit": 10000
     },
     "inputWidgets": {},
     "nuid": "e6ca1575-f7fb-438e-a2ae-8db9bd8dd5db",
     "showTitle": false,
     "tableResultSettingsMap": {},
     "title": ""
    }
   },
   "source": [
    "**Criação da tabela ComandaCliente no database Bronze a partir do dataframe comandacliente**"
   ]
  },
  {
   "cell_type": "code",
   "execution_count": 0,
   "metadata": {
    "application/vnd.databricks.v1+cell": {
     "cellMetadata": {
      "byteLimit": 2048000,
      "rowLimit": 10000
     },
     "inputWidgets": {},
     "nuid": "860f8040-affb-480a-aa95-6dd2c24761fb",
     "showTitle": false,
     "tableResultSettingsMap": {},
     "title": ""
    }
   },
   "outputs": [],
   "source": [
    "%python \n",
    "comandacliente.write.mode(\"overwrite\").saveAsTable('bronze.ComandaCliente')"
   ]
  },
  {
   "cell_type": "markdown",
   "metadata": {
    "application/vnd.databricks.v1+cell": {
     "cellMetadata": {
      "byteLimit": 2048000,
      "rowLimit": 10000
     },
     "inputWidgets": {},
     "nuid": "983b7ef7-0621-4d4c-83a7-cf08d4d8f3b0",
     "showTitle": false,
     "tableResultSettingsMap": {},
     "title": ""
    }
   },
   "source": [
    "**Criação da tabela Servicos no database Bronze a partir do dataframe servicos**"
   ]
  },
  {
   "cell_type": "code",
   "execution_count": 0,
   "metadata": {
    "application/vnd.databricks.v1+cell": {
     "cellMetadata": {
      "byteLimit": 2048000,
      "rowLimit": 10000
     },
     "inputWidgets": {},
     "nuid": "4ba936df-e606-4ee2-a6bf-0991a0a1f75e",
     "showTitle": true,
     "tableResultSettingsMap": {},
     "title": "Criação da tabela Servicos  a partir do Dataframe"
    }
   },
   "outputs": [],
   "source": [
    "%python \n",
    "servicos.write.mode(\"overwrite\").saveAsTable('bronze.Servicos')"
   ]
  },
  {
   "cell_type": "markdown",
   "metadata": {
    "application/vnd.databricks.v1+cell": {
     "cellMetadata": {
      "byteLimit": 2048000,
      "rowLimit": 10000
     },
     "inputWidgets": {},
     "nuid": "f25a2527-d1dc-4406-8023-4b0d3b310ce6",
     "showTitle": false,
     "tableResultSettingsMap": {},
     "title": ""
    }
   },
   "source": [
    "**Mostra que as tabelas foram criadas no database Bronze**"
   ]
  },
  {
   "cell_type": "code",
   "execution_count": 0,
   "metadata": {
    "application/vnd.databricks.v1+cell": {
     "cellMetadata": {
      "byteLimit": 2048000,
      "rowLimit": 10000
     },
     "inputWidgets": {},
     "nuid": "de651384-b200-455e-8bfa-3959a93c2d44",
     "showTitle": false,
     "tableResultSettingsMap": {},
     "title": ""
    }
   },
   "outputs": [
    {
     "output_type": "display_data",
     "data": {
      "text/html": [
       "<style scoped>\n",
       "  .table-result-container {\n",
       "    max-height: 300px;\n",
       "    overflow: auto;\n",
       "  }\n",
       "  table, th, td {\n",
       "    border: 1px solid black;\n",
       "    border-collapse: collapse;\n",
       "  }\n",
       "  th, td {\n",
       "    padding: 5px;\n",
       "  }\n",
       "  th {\n",
       "    text-align: left;\n",
       "  }\n",
       "</style><div class='table-result-container'><table class='table-result'><thead style='background-color: white'><tr><th>ID_CLIENTE</th><th>NOME</th><th>DATA_NASCIMENTO</th><th>TELEFONE</th></tr></thead><tbody><tr><td>1</td><td>MARCIA CP 903</td><td>null</td><td>null</td></tr><tr><td>2</td><td>SIMONE VP 613</td><td>null</td><td>null</td></tr><tr><td>3</td><td>ALEXANDRA HP 208</td><td>null</td><td>null</td></tr><tr><td>4</td><td>PAULINHA GP 504</td><td>null</td><td>null</td></tr><tr><td>5</td><td>ESTHER GP 814</td><td>null</td><td>null</td></tr></tbody></table></div>"
      ]
     },
     "metadata": {
      "application/vnd.databricks.v1+output": {
       "addedWidgets": {},
       "aggData": [],
       "aggError": "",
       "aggOverflow": false,
       "aggSchema": [],
       "aggSeriesLimitReached": false,
       "aggType": "",
       "arguments": {},
       "columnCustomDisplayInfos": {},
       "data": [
        [
         1,
         "MARCIA CP 903",
         null,
         null
        ],
        [
         2,
         "SIMONE VP 613",
         null,
         null
        ],
        [
         3,
         "ALEXANDRA HP 208",
         null,
         null
        ],
        [
         4,
         "PAULINHA GP 504",
         null,
         null
        ],
        [
         5,
         "ESTHER GP 814",
         null,
         null
        ]
       ],
       "datasetInfos": [],
       "dbfsResultPath": null,
       "isJsonSchema": true,
       "metadata": {
        "isDbfsCommandResult": false
       },
       "overflow": false,
       "plotOptions": {
        "customPlotOptions": {},
        "displayType": "table",
        "pivotAggregation": null,
        "pivotColumns": null,
        "xColumns": null,
        "yColumns": null
       },
       "removedWidgets": [],
       "schema": [
        {
         "metadata": "{}",
         "name": "ID_CLIENTE",
         "type": "\"integer\""
        },
        {
         "metadata": "{}",
         "name": "NOME",
         "type": "\"string\""
        },
        {
         "metadata": "{}",
         "name": "DATA_NASCIMENTO",
         "type": "\"string\""
        },
        {
         "metadata": "{}",
         "name": "TELEFONE",
         "type": "\"string\""
        }
       ],
       "type": "table"
      }
     },
     "output_type": "display_data"
    }
   ],
   "source": [
    "%sql\n",
    "select * from Bronze.clientes limit 5"
   ]
  },
  {
   "cell_type": "code",
   "execution_count": 0,
   "metadata": {
    "application/vnd.databricks.v1+cell": {
     "cellMetadata": {
      "byteLimit": 2048000,
      "rowLimit": 10000
     },
     "inputWidgets": {},
     "nuid": "ad9267f8-e795-41b7-9e24-b824c23aa522",
     "showTitle": false,
     "tableResultSettingsMap": {},
     "title": ""
    }
   },
   "outputs": [
    {
     "output_type": "display_data",
     "data": {
      "text/html": [
       "<style scoped>\n",
       "  .table-result-container {\n",
       "    max-height: 300px;\n",
       "    overflow: auto;\n",
       "  }\n",
       "  table, th, td {\n",
       "    border: 1px solid black;\n",
       "    border-collapse: collapse;\n",
       "  }\n",
       "  th, td {\n",
       "    padding: 5px;\n",
       "  }\n",
       "  th {\n",
       "    text-align: left;\n",
       "  }\n",
       "</style><div class='table-result-container'><table class='table-result'><thead style='background-color: white'><tr><th>ID</th><th>DATA_SERVICO</th><th>ID_COMANDA</th><th>ID_PRESTADOR</th><th>ID_SERVICO</th><th>ID_CLIENTE</th><th>VALOR</th><th>COMISSAO</th><th>ID_EMPRESA</th></tr></thead><tbody><tr><td>1</td><td>2024-01-04</td><td>6430</td><td>3</td><td>44</td><td>349</td><td>49.00</td><td>55</td><td>1</td></tr><tr><td>2</td><td>2024-01-04</td><td>6430</td><td>4</td><td>58</td><td>349</td><td>47.00</td><td>50</td><td>1</td></tr><tr><td>3</td><td>2024-01-04</td><td>6430</td><td>4</td><td>5</td><td>349</td><td>80.00</td><td>50</td><td>1</td></tr><tr><td>4</td><td>2024-01-04</td><td>6431</td><td>3</td><td>35</td><td>1214</td><td>29.00</td><td>55</td><td>1</td></tr><tr><td>5</td><td>2024-01-04</td><td>6431</td><td>4</td><td>20</td><td>1214</td><td>69.00</td><td>50</td><td>1</td></tr></tbody></table></div>"
      ]
     },
     "metadata": {
      "application/vnd.databricks.v1+output": {
       "addedWidgets": {},
       "aggData": [],
       "aggError": "",
       "aggOverflow": false,
       "aggSchema": [],
       "aggSeriesLimitReached": false,
       "aggType": "",
       "arguments": {},
       "columnCustomDisplayInfos": {},
       "data": [
        [
         1,
         "2024-01-04",
         6430,
         3,
         44,
         349,
         "49.00",
         55,
         1
        ],
        [
         2,
         "2024-01-04",
         6430,
         4,
         58,
         349,
         "47.00",
         50,
         1
        ],
        [
         3,
         "2024-01-04",
         6430,
         4,
         5,
         349,
         "80.00",
         50,
         1
        ],
        [
         4,
         "2024-01-04",
         6431,
         3,
         35,
         1214,
         "29.00",
         55,
         1
        ],
        [
         5,
         "2024-01-04",
         6431,
         4,
         20,
         1214,
         "69.00",
         50,
         1
        ]
       ],
       "datasetInfos": [],
       "dbfsResultPath": null,
       "isJsonSchema": true,
       "metadata": {
        "isDbfsCommandResult": false
       },
       "overflow": false,
       "plotOptions": {
        "customPlotOptions": {},
        "displayType": "table",
        "pivotAggregation": null,
        "pivotColumns": null,
        "xColumns": null,
        "yColumns": null
       },
       "removedWidgets": [],
       "schema": [
        {
         "metadata": "{}",
         "name": "ID",
         "type": "\"integer\""
        },
        {
         "metadata": "{\"__detected_date_formats\":\"d/M/yyyy\"}",
         "name": "DATA_SERVICO",
         "type": "\"date\""
        },
        {
         "metadata": "{}",
         "name": "ID_COMANDA",
         "type": "\"integer\""
        },
        {
         "metadata": "{}",
         "name": "ID_PRESTADOR",
         "type": "\"integer\""
        },
        {
         "metadata": "{}",
         "name": "ID_SERVICO",
         "type": "\"integer\""
        },
        {
         "metadata": "{}",
         "name": "ID_CLIENTE",
         "type": "\"integer\""
        },
        {
         "metadata": "{}",
         "name": "VALOR",
         "type": "\"string\""
        },
        {
         "metadata": "{}",
         "name": "COMISSAO",
         "type": "\"integer\""
        },
        {
         "metadata": "{}",
         "name": "ID_EMPRESA",
         "type": "\"integer\""
        }
       ],
       "type": "table"
      }
     },
     "output_type": "display_data"
    }
   ],
   "source": [
    "%sql\n",
    "select * from Bronze.comandacliente limit 5"
   ]
  },
  {
   "cell_type": "code",
   "execution_count": 0,
   "metadata": {
    "application/vnd.databricks.v1+cell": {
     "cellMetadata": {
      "byteLimit": 2048000,
      "rowLimit": 10000
     },
     "inputWidgets": {},
     "nuid": "adfc33ad-3431-408f-9009-eb48281824f9",
     "showTitle": false,
     "tableResultSettingsMap": {},
     "title": ""
    }
   },
   "outputs": [
    {
     "output_type": "display_data",
     "data": {
      "text/html": [
       "<style scoped>\n",
       "  .table-result-container {\n",
       "    max-height: 300px;\n",
       "    overflow: auto;\n",
       "  }\n",
       "  table, th, td {\n",
       "    border: 1px solid black;\n",
       "    border-collapse: collapse;\n",
       "  }\n",
       "  th, td {\n",
       "    padding: 5px;\n",
       "  }\n",
       "  th {\n",
       "    text-align: left;\n",
       "  }\n",
       "</style><div class='table-result-container'><table class='table-result'><thead style='background-color: white'><tr><th>ID_PAGAMENTO</th><th>ID_COMANDA</th><th>VALOR_PAGTO</th><th>FORMA_PAGO</th><th>DATA_PAGAMENTO</th></tr></thead><tbody><tr><td>1</td><td>6430</td><td>176.00</td><td>DEBITO</td><td>2024-01-04</td></tr><tr><td>2</td><td>6431</td><td>325.00</td><td>CREDITO</td><td>2024-01-04</td></tr><tr><td>3</td><td>6432</td><td>172.00</td><td>DEBITO</td><td>2024-01-04</td></tr><tr><td>4</td><td>6433</td><td>35.00</td><td>PIX</td><td>2024-01-04</td></tr><tr><td>5</td><td>6434</td><td>29.00</td><td>DINHEIRO</td><td>2024-01-04</td></tr></tbody></table></div>"
      ]
     },
     "metadata": {
      "application/vnd.databricks.v1+output": {
       "addedWidgets": {},
       "aggData": [],
       "aggError": "",
       "aggOverflow": false,
       "aggSchema": [],
       "aggSeriesLimitReached": false,
       "aggType": "",
       "arguments": {},
       "columnCustomDisplayInfos": {},
       "data": [
        [
         1,
         6430,
         "176.00",
         "DEBITO",
         "2024-01-04"
        ],
        [
         2,
         6431,
         "325.00",
         "CREDITO",
         "2024-01-04"
        ],
        [
         3,
         6432,
         "172.00",
         "DEBITO",
         "2024-01-04"
        ],
        [
         4,
         6433,
         "35.00",
         "PIX",
         "2024-01-04"
        ],
        [
         5,
         6434,
         "29.00",
         "DINHEIRO",
         "2024-01-04"
        ]
       ],
       "datasetInfos": [],
       "dbfsResultPath": null,
       "isJsonSchema": true,
       "metadata": {
        "isDbfsCommandResult": false
       },
       "overflow": false,
       "plotOptions": {
        "customPlotOptions": {},
        "displayType": "table",
        "pivotAggregation": null,
        "pivotColumns": null,
        "xColumns": null,
        "yColumns": null
       },
       "removedWidgets": [],
       "schema": [
        {
         "metadata": "{}",
         "name": "ID_PAGAMENTO",
         "type": "\"integer\""
        },
        {
         "metadata": "{}",
         "name": "ID_COMANDA",
         "type": "\"integer\""
        },
        {
         "metadata": "{}",
         "name": "VALOR_PAGTO",
         "type": "\"string\""
        },
        {
         "metadata": "{}",
         "name": "FORMA_PAGO",
         "type": "\"string\""
        },
        {
         "metadata": "{\"__detected_date_formats\":\"d/M/yyyy\"}",
         "name": "DATA_PAGAMENTO",
         "type": "\"date\""
        }
       ],
       "type": "table"
      }
     },
     "output_type": "display_data"
    }
   ],
   "source": [
    "%sql\n",
    "select * from Bronze.pagamentos limit 5"
   ]
  },
  {
   "cell_type": "code",
   "execution_count": 0,
   "metadata": {
    "application/vnd.databricks.v1+cell": {
     "cellMetadata": {
      "byteLimit": 2048000,
      "rowLimit": 10000
     },
     "inputWidgets": {},
     "nuid": "7e5440a8-b590-4a2d-b03a-fbba1bf18d0a",
     "showTitle": false,
     "tableResultSettingsMap": {},
     "title": ""
    }
   },
   "outputs": [
    {
     "output_type": "display_data",
     "data": {
      "text/html": [
       "<style scoped>\n",
       "  .table-result-container {\n",
       "    max-height: 300px;\n",
       "    overflow: auto;\n",
       "  }\n",
       "  table, th, td {\n",
       "    border: 1px solid black;\n",
       "    border-collapse: collapse;\n",
       "  }\n",
       "  th, td {\n",
       "    padding: 5px;\n",
       "  }\n",
       "  th {\n",
       "    text-align: left;\n",
       "  }\n",
       "</style><div class='table-result-container'><table class='table-result'><thead style='background-color: white'><tr><th>ID_PRESTADOR</th><th>APELIDO</th><th>NOME</th><th>DATA_NASCIMENTO</th><th>FUNCAO</th><th>PIX</th><th>ATIVO</th></tr></thead><tbody><tr><td>1</td><td>LEO</td><td>LEONARDO MACHADO</td><td>null</td><td>CABELO</td><td>21 99562-4420 CELULAR</td><td>S</td></tr><tr><td>2</td><td>ANA LUCIA</td><td>ANA LUCIA</td><td>null</td><td>MANICUREPEDICURE</td><td>21 96662-2202 CELULAR</td><td>S</td></tr><tr><td>3</td><td>REBECA</td><td>REBECA</td><td>null</td><td>MANICUREPEDICURE</td><td>172.249.587.19 CPF</td><td>S</td></tr><tr><td>4</td><td>ANA BRITO</td><td>ANA BRITO</td><td>null</td><td>CABELO</td><td>null</td><td>S</td></tr><tr><td>5</td><td>SALAO</td><td>SALAO ANABRITTO</td><td>null</td><td>GERAL</td><td>null</td><td>S</td></tr></tbody></table></div>"
      ]
     },
     "metadata": {
      "application/vnd.databricks.v1+output": {
       "addedWidgets": {},
       "aggData": [],
       "aggError": "",
       "aggOverflow": false,
       "aggSchema": [],
       "aggSeriesLimitReached": false,
       "aggType": "",
       "arguments": {},
       "columnCustomDisplayInfos": {},
       "data": [
        [
         1,
         "LEO",
         "LEONARDO MACHADO",
         null,
         "CABELO",
         "21 99562-4420 CELULAR",
         "S"
        ],
        [
         2,
         "ANA LUCIA",
         "ANA LUCIA",
         null,
         "MANICUREPEDICURE",
         "21 96662-2202 CELULAR",
         "S"
        ],
        [
         3,
         "REBECA",
         "REBECA",
         null,
         "MANICUREPEDICURE",
         "172.249.587.19 CPF",
         "S"
        ],
        [
         4,
         "ANA BRITO",
         "ANA BRITO",
         null,
         "CABELO",
         null,
         "S"
        ],
        [
         5,
         "SALAO",
         "SALAO ANABRITTO",
         null,
         "GERAL",
         null,
         "S"
        ]
       ],
       "datasetInfos": [],
       "dbfsResultPath": null,
       "isJsonSchema": true,
       "metadata": {
        "isDbfsCommandResult": false
       },
       "overflow": false,
       "plotOptions": {
        "customPlotOptions": {},
        "displayType": "table",
        "pivotAggregation": null,
        "pivotColumns": null,
        "xColumns": null,
        "yColumns": null
       },
       "removedWidgets": [],
       "schema": [
        {
         "metadata": "{}",
         "name": "ID_PRESTADOR",
         "type": "\"integer\""
        },
        {
         "metadata": "{}",
         "name": "APELIDO",
         "type": "\"string\""
        },
        {
         "metadata": "{}",
         "name": "NOME",
         "type": "\"string\""
        },
        {
         "metadata": "{}",
         "name": "DATA_NASCIMENTO",
         "type": "\"string\""
        },
        {
         "metadata": "{}",
         "name": "FUNCAO",
         "type": "\"string\""
        },
        {
         "metadata": "{}",
         "name": "PIX",
         "type": "\"string\""
        },
        {
         "metadata": "{}",
         "name": "ATIVO",
         "type": "\"string\""
        }
       ],
       "type": "table"
      }
     },
     "output_type": "display_data"
    }
   ],
   "source": [
    "%sql\n",
    "select * from Bronze.prestadores limit 5"
   ]
  },
  {
   "cell_type": "code",
   "execution_count": 0,
   "metadata": {
    "application/vnd.databricks.v1+cell": {
     "cellMetadata": {
      "byteLimit": 2048000,
      "rowLimit": 10000
     },
     "inputWidgets": {},
     "nuid": "c40886ce-c8d0-4ddf-af69-a11cd1d78610",
     "showTitle": false,
     "tableResultSettingsMap": {},
     "title": ""
    }
   },
   "outputs": [
    {
     "output_type": "display_data",
     "data": {
      "text/html": [
       "<style scoped>\n",
       "  .table-result-container {\n",
       "    max-height: 300px;\n",
       "    overflow: auto;\n",
       "  }\n",
       "  table, th, td {\n",
       "    border: 1px solid black;\n",
       "    border-collapse: collapse;\n",
       "  }\n",
       "  th, td {\n",
       "    padding: 5px;\n",
       "  }\n",
       "  th {\n",
       "    text-align: left;\n",
       "  }\n",
       "</style><div class='table-result-container'><table class='table-result'><thead style='background-color: white'><tr><th>ID_SERVICO</th><th>DESCRICAO</th><th>FUNCAO</th><th>VALOR</th><th>COMISSAO</th></tr></thead><tbody><tr><td>1</td><td>ALINHAMENTO TERMICO PROGRESSIVA / BOTOX - CURTO</td><td>CABELO</td><td>140.00</td><td>40</td></tr><tr><td>2</td><td>ALINHAMENTO TERMICO PROGRESSIVA / BOTOX - EXTRA</td><td>CABELO</td><td>220.00</td><td>40</td></tr><tr><td>3</td><td>ALINHAMENTO TERMICO PROGRESSIVA / BOTOX - LONGO</td><td>CABELO</td><td>190.00</td><td>40</td></tr><tr><td>4</td><td>ALINHAMENTO TERMICO PROGRESSIVA / BOTOX - MEDIO</td><td>CABELO</td><td>160.00</td><td>40</td></tr><tr><td>5</td><td>APLICACAO + LAVAGEM - tintura do cliente</td><td>CABELO</td><td>70.00</td><td>50</td></tr><tr><td>6</td><td>BANHO DE CALCIO</td><td>MANICUREPEDICURE</td><td>85.00</td><td>60</td></tr><tr><td>7</td><td>BANHO DE GEL</td><td>MANICUREPEDICURE</td><td>85.00</td><td>60</td></tr><tr><td>8</td><td>BARBA</td><td>CABELO</td><td>20.00</td><td>50</td></tr><tr><td>9</td><td>BLINDAGEM</td><td>MANICUREPEDICURE</td><td>60.00</td><td>50</td></tr><tr><td>10</td><td>BUCO</td><td>CABELO</td><td>35.00</td><td>50</td></tr><tr><td>11</td><td>CAUTERIZACAO - TRISS/ANETHUM - CURTO</td><td>CABELO</td><td>80.00</td><td>40</td></tr><tr><td>12</td><td>CAUTERIZACAO - TRISS/ANETHUM - EXTRA LONGO</td><td>CABELO</td><td>170.00</td><td>40</td></tr><tr><td>13</td><td>CAUTERIZACAO - TRISS/ANETHUM - LONGO</td><td>CABELO</td><td>130.00</td><td>40</td></tr><tr><td>14</td><td>CAUTERIZACAO - TRISS/ANETHUM - MEDIO</td><td>CABELO</td><td>100.00</td><td>40</td></tr><tr><td>15</td><td>COLOCACAO DE ACRIGEL</td><td>MANICUREPEDICURE</td><td>170.00</td><td>60</td></tr><tr><td>16</td><td>COLOCACAO DE BANHO DE GEL</td><td>MANICUREPEDICURE</td><td>85.00</td><td>60</td></tr><tr><td>17</td><td>COLOCACAO DE CILIOS</td><td>CABELO</td><td>120.00</td><td>60</td></tr><tr><td>18</td><td>COLOCACAO DE FIBRA VIDRO</td><td>MANICUREPEDICURE</td><td>200.00</td><td>60</td></tr><tr><td>19</td><td>COLOCACAO DE PORCELANA</td><td>MANICUREPEDICURE</td><td>200.00</td><td>60</td></tr><tr><td>20</td><td>CORTE FEMININO</td><td>CABELO</td><td>80.00</td><td>50</td></tr><tr><td>21</td><td>CORTE INFANTIL</td><td>CABELO</td><td>40.00</td><td>50</td></tr><tr><td>22</td><td>CORTE MASCULINO MAQUINA</td><td>CABELO</td><td>30.00</td><td>50</td></tr><tr><td>23</td><td>CORTE MASCULINO TESOURA</td><td>CABELO</td><td>45.00</td><td>50</td></tr><tr><td>24</td><td>CRONOGRAMA CAPILAR</td><td>CABELO</td><td>70.00</td><td>50</td></tr><tr><td>25</td><td>DEPILACAO FACIAL</td><td>CABELO</td><td>80.00</td><td>50</td></tr><tr><td>26</td><td>ESCOVA + HIDRATACAO DE LAVATORIO -  CURTO</td><td>CABELO</td><td>50.00</td><td>50</td></tr><tr><td>27</td><td>ESCOVA + HIDRATACAO DE LAVATORIO -  EXTRA LONGO</td><td>CABELO</td><td>90.00</td><td>50</td></tr><tr><td>28</td><td>ESCOVA + HIDRATACAO DE LAVATORIO -  LONGO</td><td>CABELO</td><td>70.00</td><td>50</td></tr><tr><td>29</td><td>ESCOVA + HIDRATACAO DE LAVATORIO -  MEDIO</td><td>CABELO</td><td>60.00</td><td>50</td></tr><tr><td>30</td><td>ESMALTACAO - PE OU MAO</td><td>MANICUREPEDICURE</td><td>17.00</td><td>55</td></tr><tr><td>31</td><td>FRANCESINHA</td><td>MANICUREPEDICURE</td><td>3.00</td><td>55</td></tr><tr><td>32</td><td>HIGIENIZACAO DOS FIOS</td><td>CABELO</td><td>20.00</td><td>50</td></tr><tr><td>33</td><td>MANUTENCAO DE ACRIGEL</td><td>MANICUREPEDICURE</td><td>90.00</td><td>60</td></tr><tr><td>34</td><td>MANUTENCAO FIBRA</td><td>MANICUREPEDICURE</td><td>100.00</td><td>60</td></tr><tr><td>35</td><td>MAO</td><td>MANICUREPEDICURE</td><td>31.00</td><td>55</td></tr><tr><td>36</td><td>MAQUIAGEM ADULTO</td><td>CABELO</td><td>120.00</td><td>60</td></tr><tr><td>37</td><td>MAQUIAGEM CRIANCA</td><td>CABELO</td><td>70.00</td><td>60</td></tr><tr><td>38</td><td>MECHAS - CURTO</td><td>CABELO</td><td>140.00</td><td>40</td></tr><tr><td>39</td><td>MECHAS - EXTRA LONGO</td><td>CABELO</td><td>280.00</td><td>40</td></tr><tr><td>40</td><td>MECHAS - LONGO</td><td>CABELO</td><td>220.00</td><td>40</td></tr><tr><td>41</td><td>MECHAS - MEDIO</td><td>CABELO</td><td>180.00</td><td>40</td></tr><tr><td>42</td><td>MICROPIGMENTACAO</td><td>CABELO</td><td>380.00</td><td>50</td></tr><tr><td>43</td><td>PE</td><td>MANICUREPEDICURE</td><td>31.00</td><td>55</td></tr><tr><td>44</td><td>PE + MAO</td><td>MANICUREPEDICURE</td><td>55.00</td><td>55</td></tr><tr><td>45</td><td>PE + MAO - divido por opvao do cliente</td><td>MANICUREPEDICURE</td><td>58.00</td><td>55</td></tr><tr><td>46</td><td>PENTEADO - ADULTO</td><td>CABELO</td><td>130.00</td><td>60</td></tr><tr><td>47</td><td>PENTEADO - CRIANCA</td><td>CABELO</td><td>90.00</td><td>60</td></tr><tr><td>48</td><td>RAIZ / 3 DEDOS</td><td>CABELO</td><td>130.00</td><td>40</td></tr><tr><td>49</td><td>RAIZ / 5 DEDOS</td><td>CABELO</td><td>149.00</td><td>40</td></tr><tr><td>50</td><td>RECONSTRUCAO CAPILAR - CURTO - SEM ESCOVA</td><td>CABELO</td><td>50.00</td><td>40</td></tr><tr><td>51</td><td>RECONSTRUCAO CAPILAR - EXTRA LONGO - SEM ESCOVA</td><td>CABELO</td><td>110.00</td><td>40</td></tr><tr><td>52</td><td>RECONSTRUCAO CAPILAR - LONGO - SEM ESCOVA</td><td>CABELO</td><td>90.00</td><td>40</td></tr><tr><td>53</td><td>RECONSTRUCAO CAPILAR - MEDIO - SEM ESCOVA</td><td>CABELO</td><td>80.00</td><td>40</td></tr><tr><td>54</td><td>REPOSICAO DE UNHA</td><td>MANICUREPEDICURE</td><td>10.00</td><td>50</td></tr><tr><td>55</td><td>RETOQUE / RAIZ</td><td>CABELO</td><td>90.00</td><td>40</td></tr><tr><td>56</td><td>SECAGEM DOS FIOS</td><td>CABELO</td><td>20.00</td><td>50</td></tr><tr><td>57</td><td>SELAGEM</td><td>MANICUREPEDICURE</td><td>40.00</td><td>50</td></tr><tr><td>58</td><td>SOBRANCELHAS C/ DESIGN</td><td>CABELO</td><td>47.00</td><td>50</td></tr><tr><td>59</td><td>SOBRANCELHAS C/ HENNA</td><td>CABELO</td><td>59.00</td><td>60</td></tr><tr><td>60</td><td>SPA DOS PES</td><td>MANICUREPEDICURE</td><td>25.00</td><td>55</td></tr><tr><td>61</td><td>TERAPIA CAPILAR</td><td>CABELO</td><td>160.00</td><td>60</td></tr><tr><td>62</td><td>TRANSFORMACAO DE COR</td><td>CABELO</td><td>120.00</td><td>40</td></tr><tr><td>63</td><td>SELAGEM</td><td>MANICUREPEDICURE</td><td>35.00</td><td>60</td></tr><tr><td>64</td><td>RETIRADA DA MANUTENCAO</td><td>MANICUREPEDICURE</td><td>80.00</td><td>60</td></tr><tr><td>65</td><td>MASSAGEM CORPORAL</td><td>MANICUREPEDICURE</td><td>70.00</td><td>0</td></tr><tr><td>66</td><td>BUCO</td><td>MANICUREPEDICURE</td><td>35.00</td><td>50</td></tr><tr><td>67</td><td>SOBRANCELHAS C/ DESIGN</td><td>MANICUREPEDICURE</td><td>39.00</td><td>50</td></tr><tr><td>68</td><td>TAXA</td><td>MANICUREPEDICURE</td><td>10.00</td><td>100</td></tr><tr><td>69</td><td>CAIXINHA</td><td>MANICUREPEDICURE</td><td>0.00</td><td>100</td></tr><tr><td>70</td><td>TINTURA</td><td>CABELO</td><td>140.00</td><td>40</td></tr><tr><td>71</td><td>TAXA</td><td>CABELO</td><td>10.00</td><td>100</td></tr><tr><td>72</td><td>CAIXINHA</td><td>CABELO</td><td>0.00</td><td>100</td></tr><tr><td>73</td><td>PE + MAO (PROMOCAO)</td><td>MANICUREPEDICURE</td><td>44.00</td><td>55</td></tr><tr><td>74</td><td>MAO(PROMOCAO)</td><td>MANICUREPEDICURE</td><td>29.00</td><td>55</td></tr><tr><td>75</td><td>PE(PROMOCAO)</td><td>MANICUREPEDICURE</td><td>29.00</td><td>55</td></tr><tr><td>76</td><td>PLASTICA</td><td>MANICUREPEDICURE</td><td>50.00</td><td>55</td></tr><tr><td>77</td><td>MASSAGEM RELAX</td><td>ESTETICISTA</td><td>140.00</td><td>60</td></tr><tr><td>78</td><td>MASSAGEM MODELADORA</td><td>ESTETICISTA</td><td>130.00</td><td>60</td></tr><tr><td>79</td><td>MASSAGEM MODELADORA C/ APARELHOS</td><td>ESTETICISTA</td><td>145.00</td><td>60</td></tr><tr><td>80</td><td>DRENAGEM CORPORAL</td><td>ESTETICISTA</td><td>130.00</td><td>60</td></tr><tr><td>81</td><td>DRENAGEM FACIAL</td><td>ESTETICISTA</td><td>70.00</td><td>60</td></tr><tr><td>82</td><td>LIMPEZA DE PELE ADCOS (COM EXTRACAO)</td><td>ESTETICISTA</td><td>130.00</td><td>60</td></tr><tr><td>83</td><td>LIMPEZA DE PELE EXPRESSO</td><td>ESTETICISTA</td><td>90.00</td><td>60</td></tr><tr><td>84</td><td>DERMAPLANNING</td><td>ESTETICISTA</td><td>100.00</td><td>60</td></tr><tr><td>85</td><td>BUCO</td><td>ESTETICISTA</td><td>35.00</td><td>60</td></tr><tr><td>86</td><td>VIRILHA</td><td>ESTETICISTA</td><td>70.00</td><td>60</td></tr><tr><td>87</td><td>AXILA</td><td>ESTETICISTA</td><td>30.00</td><td>60</td></tr><tr><td>88</td><td>PACOTE MASSAGEM</td><td>ESTETICISTA</td><td>720.00</td><td>60</td></tr><tr><td>90</td><td>EXTRACAO DE VERRUGAS</td><td>ESTETICISTA</td><td>153.00</td><td>60</td></tr><tr><td>91</td><td>MANUTENCAO DE CILIOS</td><td>ESTETICISTA</td><td>85.00</td><td>60</td></tr><tr><td>93</td><td>CAIXINHA</td><td>ESTETICISTA</td><td>0.00</td><td>100</td></tr><tr><td>94</td><td>SOBRANCELHAS C/ DESIGN</td><td>ESTETICISTA</td><td>47.00</td><td>50</td></tr><tr><td>95</td><td>SOBRANCELHAS C\\ HENNA</td><td>ESTETICISTA</td><td>59.00</td><td>60</td></tr></tbody></table></div>"
      ]
     },
     "metadata": {
      "application/vnd.databricks.v1+output": {
       "addedWidgets": {},
       "aggData": [],
       "aggError": "",
       "aggOverflow": false,
       "aggSchema": [],
       "aggSeriesLimitReached": false,
       "aggType": "",
       "arguments": {},
       "columnCustomDisplayInfos": {},
       "data": [
        [
         1,
         "ALINHAMENTO TERMICO PROGRESSIVA / BOTOX - CURTO",
         "CABELO",
         "140.00",
         40
        ],
        [
         2,
         "ALINHAMENTO TERMICO PROGRESSIVA / BOTOX - EXTRA",
         "CABELO",
         "220.00",
         40
        ],
        [
         3,
         "ALINHAMENTO TERMICO PROGRESSIVA / BOTOX - LONGO",
         "CABELO",
         "190.00",
         40
        ],
        [
         4,
         "ALINHAMENTO TERMICO PROGRESSIVA / BOTOX - MEDIO",
         "CABELO",
         "160.00",
         40
        ],
        [
         5,
         "APLICACAO + LAVAGEM - tintura do cliente",
         "CABELO",
         "70.00",
         50
        ],
        [
         6,
         "BANHO DE CALCIO",
         "MANICUREPEDICURE",
         "85.00",
         60
        ],
        [
         7,
         "BANHO DE GEL",
         "MANICUREPEDICURE",
         "85.00",
         60
        ],
        [
         8,
         "BARBA",
         "CABELO",
         "20.00",
         50
        ],
        [
         9,
         "BLINDAGEM",
         "MANICUREPEDICURE",
         "60.00",
         50
        ],
        [
         10,
         "BUCO",
         "CABELO",
         "35.00",
         50
        ],
        [
         11,
         "CAUTERIZACAO - TRISS/ANETHUM - CURTO",
         "CABELO",
         "80.00",
         40
        ],
        [
         12,
         "CAUTERIZACAO - TRISS/ANETHUM - EXTRA LONGO",
         "CABELO",
         "170.00",
         40
        ],
        [
         13,
         "CAUTERIZACAO - TRISS/ANETHUM - LONGO",
         "CABELO",
         "130.00",
         40
        ],
        [
         14,
         "CAUTERIZACAO - TRISS/ANETHUM - MEDIO",
         "CABELO",
         "100.00",
         40
        ],
        [
         15,
         "COLOCACAO DE ACRIGEL",
         "MANICUREPEDICURE",
         "170.00",
         60
        ],
        [
         16,
         "COLOCACAO DE BANHO DE GEL",
         "MANICUREPEDICURE",
         "85.00",
         60
        ],
        [
         17,
         "COLOCACAO DE CILIOS",
         "CABELO",
         "120.00",
         60
        ],
        [
         18,
         "COLOCACAO DE FIBRA VIDRO",
         "MANICUREPEDICURE",
         "200.00",
         60
        ],
        [
         19,
         "COLOCACAO DE PORCELANA",
         "MANICUREPEDICURE",
         "200.00",
         60
        ],
        [
         20,
         "CORTE FEMININO",
         "CABELO",
         "80.00",
         50
        ],
        [
         21,
         "CORTE INFANTIL",
         "CABELO",
         "40.00",
         50
        ],
        [
         22,
         "CORTE MASCULINO MAQUINA",
         "CABELO",
         "30.00",
         50
        ],
        [
         23,
         "CORTE MASCULINO TESOURA",
         "CABELO",
         "45.00",
         50
        ],
        [
         24,
         "CRONOGRAMA CAPILAR",
         "CABELO",
         "70.00",
         50
        ],
        [
         25,
         "DEPILACAO FACIAL",
         "CABELO",
         "80.00",
         50
        ],
        [
         26,
         "ESCOVA + HIDRATACAO DE LAVATORIO -  CURTO",
         "CABELO",
         "50.00",
         50
        ],
        [
         27,
         "ESCOVA + HIDRATACAO DE LAVATORIO -  EXTRA LONGO",
         "CABELO",
         "90.00",
         50
        ],
        [
         28,
         "ESCOVA + HIDRATACAO DE LAVATORIO -  LONGO",
         "CABELO",
         "70.00",
         50
        ],
        [
         29,
         "ESCOVA + HIDRATACAO DE LAVATORIO -  MEDIO",
         "CABELO",
         "60.00",
         50
        ],
        [
         30,
         "ESMALTACAO - PE OU MAO",
         "MANICUREPEDICURE",
         "17.00",
         55
        ],
        [
         31,
         "FRANCESINHA",
         "MANICUREPEDICURE",
         "3.00",
         55
        ],
        [
         32,
         "HIGIENIZACAO DOS FIOS",
         "CABELO",
         "20.00",
         50
        ],
        [
         33,
         "MANUTENCAO DE ACRIGEL",
         "MANICUREPEDICURE",
         "90.00",
         60
        ],
        [
         34,
         "MANUTENCAO FIBRA",
         "MANICUREPEDICURE",
         "100.00",
         60
        ],
        [
         35,
         "MAO",
         "MANICUREPEDICURE",
         "31.00",
         55
        ],
        [
         36,
         "MAQUIAGEM ADULTO",
         "CABELO",
         "120.00",
         60
        ],
        [
         37,
         "MAQUIAGEM CRIANCA",
         "CABELO",
         "70.00",
         60
        ],
        [
         38,
         "MECHAS - CURTO",
         "CABELO",
         "140.00",
         40
        ],
        [
         39,
         "MECHAS - EXTRA LONGO",
         "CABELO",
         "280.00",
         40
        ],
        [
         40,
         "MECHAS - LONGO",
         "CABELO",
         "220.00",
         40
        ],
        [
         41,
         "MECHAS - MEDIO",
         "CABELO",
         "180.00",
         40
        ],
        [
         42,
         "MICROPIGMENTACAO",
         "CABELO",
         "380.00",
         50
        ],
        [
         43,
         "PE",
         "MANICUREPEDICURE",
         "31.00",
         55
        ],
        [
         44,
         "PE + MAO",
         "MANICUREPEDICURE",
         "55.00",
         55
        ],
        [
         45,
         "PE + MAO - divido por opvao do cliente",
         "MANICUREPEDICURE",
         "58.00",
         55
        ],
        [
         46,
         "PENTEADO - ADULTO",
         "CABELO",
         "130.00",
         60
        ],
        [
         47,
         "PENTEADO - CRIANCA",
         "CABELO",
         "90.00",
         60
        ],
        [
         48,
         "RAIZ / 3 DEDOS",
         "CABELO",
         "130.00",
         40
        ],
        [
         49,
         "RAIZ / 5 DEDOS",
         "CABELO",
         "149.00",
         40
        ],
        [
         50,
         "RECONSTRUCAO CAPILAR - CURTO - SEM ESCOVA",
         "CABELO",
         "50.00",
         40
        ],
        [
         51,
         "RECONSTRUCAO CAPILAR - EXTRA LONGO - SEM ESCOVA",
         "CABELO",
         "110.00",
         40
        ],
        [
         52,
         "RECONSTRUCAO CAPILAR - LONGO - SEM ESCOVA",
         "CABELO",
         "90.00",
         40
        ],
        [
         53,
         "RECONSTRUCAO CAPILAR - MEDIO - SEM ESCOVA",
         "CABELO",
         "80.00",
         40
        ],
        [
         54,
         "REPOSICAO DE UNHA",
         "MANICUREPEDICURE",
         "10.00",
         50
        ],
        [
         55,
         "RETOQUE / RAIZ",
         "CABELO",
         "90.00",
         40
        ],
        [
         56,
         "SECAGEM DOS FIOS",
         "CABELO",
         "20.00",
         50
        ],
        [
         57,
         "SELAGEM",
         "MANICUREPEDICURE",
         "40.00",
         50
        ],
        [
         58,
         "SOBRANCELHAS C/ DESIGN",
         "CABELO",
         "47.00",
         50
        ],
        [
         59,
         "SOBRANCELHAS C/ HENNA",
         "CABELO",
         "59.00",
         60
        ],
        [
         60,
         "SPA DOS PES",
         "MANICUREPEDICURE",
         "25.00",
         55
        ],
        [
         61,
         "TERAPIA CAPILAR",
         "CABELO",
         "160.00",
         60
        ],
        [
         62,
         "TRANSFORMACAO DE COR",
         "CABELO",
         "120.00",
         40
        ],
        [
         63,
         "SELAGEM",
         "MANICUREPEDICURE",
         "35.00",
         60
        ],
        [
         64,
         "RETIRADA DA MANUTENCAO",
         "MANICUREPEDICURE",
         "80.00",
         60
        ],
        [
         65,
         "MASSAGEM CORPORAL",
         "MANICUREPEDICURE",
         "70.00",
         0
        ],
        [
         66,
         "BUCO",
         "MANICUREPEDICURE",
         "35.00",
         50
        ],
        [
         67,
         "SOBRANCELHAS C/ DESIGN",
         "MANICUREPEDICURE",
         "39.00",
         50
        ],
        [
         68,
         "TAXA",
         "MANICUREPEDICURE",
         "10.00",
         100
        ],
        [
         69,
         "CAIXINHA",
         "MANICUREPEDICURE",
         "0.00",
         100
        ],
        [
         70,
         "TINTURA",
         "CABELO",
         "140.00",
         40
        ],
        [
         71,
         "TAXA",
         "CABELO",
         "10.00",
         100
        ],
        [
         72,
         "CAIXINHA",
         "CABELO",
         "0.00",
         100
        ],
        [
         73,
         "PE + MAO (PROMOCAO)",
         "MANICUREPEDICURE",
         "44.00",
         55
        ],
        [
         74,
         "MAO(PROMOCAO)",
         "MANICUREPEDICURE",
         "29.00",
         55
        ],
        [
         75,
         "PE(PROMOCAO)",
         "MANICUREPEDICURE",
         "29.00",
         55
        ],
        [
         76,
         "PLASTICA",
         "MANICUREPEDICURE",
         "50.00",
         55
        ],
        [
         77,
         "MASSAGEM RELAX",
         "ESTETICISTA",
         "140.00",
         60
        ],
        [
         78,
         "MASSAGEM MODELADORA",
         "ESTETICISTA",
         "130.00",
         60
        ],
        [
         79,
         "MASSAGEM MODELADORA C/ APARELHOS",
         "ESTETICISTA",
         "145.00",
         60
        ],
        [
         80,
         "DRENAGEM CORPORAL",
         "ESTETICISTA",
         "130.00",
         60
        ],
        [
         81,
         "DRENAGEM FACIAL",
         "ESTETICISTA",
         "70.00",
         60
        ],
        [
         82,
         "LIMPEZA DE PELE ADCOS (COM EXTRACAO)",
         "ESTETICISTA",
         "130.00",
         60
        ],
        [
         83,
         "LIMPEZA DE PELE EXPRESSO",
         "ESTETICISTA",
         "90.00",
         60
        ],
        [
         84,
         "DERMAPLANNING",
         "ESTETICISTA",
         "100.00",
         60
        ],
        [
         85,
         "BUCO",
         "ESTETICISTA",
         "35.00",
         60
        ],
        [
         86,
         "VIRILHA",
         "ESTETICISTA",
         "70.00",
         60
        ],
        [
         87,
         "AXILA",
         "ESTETICISTA",
         "30.00",
         60
        ],
        [
         88,
         "PACOTE MASSAGEM",
         "ESTETICISTA",
         "720.00",
         60
        ],
        [
         90,
         "EXTRACAO DE VERRUGAS",
         "ESTETICISTA",
         "153.00",
         60
        ],
        [
         91,
         "MANUTENCAO DE CILIOS",
         "ESTETICISTA",
         "85.00",
         60
        ],
        [
         93,
         "CAIXINHA",
         "ESTETICISTA",
         "0.00",
         100
        ],
        [
         94,
         "SOBRANCELHAS C/ DESIGN",
         "ESTETICISTA",
         "47.00",
         50
        ],
        [
         95,
         "SOBRANCELHAS C\\ HENNA",
         "ESTETICISTA",
         "59.00",
         60
        ]
       ],
       "datasetInfos": [],
       "dbfsResultPath": null,
       "isJsonSchema": true,
       "metadata": {
        "isDbfsCommandResult": false
       },
       "overflow": false,
       "plotOptions": {
        "customPlotOptions": {},
        "displayType": "table",
        "pivotAggregation": null,
        "pivotColumns": null,
        "xColumns": null,
        "yColumns": null
       },
       "removedWidgets": [],
       "schema": [
        {
         "metadata": "{}",
         "name": "ID_SERVICO",
         "type": "\"integer\""
        },
        {
         "metadata": "{}",
         "name": "DESCRICAO",
         "type": "\"string\""
        },
        {
         "metadata": "{}",
         "name": "FUNCAO",
         "type": "\"string\""
        },
        {
         "metadata": "{}",
         "name": "VALOR",
         "type": "\"string\""
        },
        {
         "metadata": "{}",
         "name": "COMISSAO",
         "type": "\"integer\""
        }
       ],
       "type": "table"
      }
     },
     "output_type": "display_data"
    }
   ],
   "source": [
    "%sql\n",
    "select * from Bronze.servicos"
   ]
  }
 ],
 "metadata": {
  "application/vnd.databricks.v1+notebook": {
   "computePreferences": null,
   "dashboards": [],
   "environmentMetadata": {
    "base_environment": "",
    "environment_version": "1"
   },
   "inputWidgetPreferences": null,
   "language": "python",
   "notebookMetadata": {
    "mostRecentlyExecutedCommandWithImplicitDF": {
     "commandId": -1,
     "dataframes": [
      "_sqldf"
     ]
    },
    "pythonIndentUnit": 4
   },
   "notebookName": "Bronze",
   "widgets": {}
  }
 },
 "nbformat": 4,
 "nbformat_minor": 0
}