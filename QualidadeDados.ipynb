{
 "cells": [
  {
   "cell_type": "markdown",
   "metadata": {
    "application/vnd.databricks.v1+cell": {
     "cellMetadata": {},
     "inputWidgets": {},
     "nuid": "3c69e737-2802-451d-b361-0c569aa0f407",
     "showTitle": false,
     "tableResultSettingsMap": {},
     "title": ""
    }
   },
   "source": [
    "**Demostra que existe nome de clientes repetidos na tabela \"Clientes\"**"
   ]
  },
  {
   "cell_type": "code",
   "execution_count": 0,
   "metadata": {
    "application/vnd.databricks.v1+cell": {
     "cellMetadata": {
      "byteLimit": 2048000,
      "rowLimit": 10000
     },
     "inputWidgets": {},
     "nuid": "7e6f100f-9ee9-4467-b09d-814897a72490",
     "showTitle": false,
     "tableResultSettingsMap": {},
     "title": ""
    }
   },
   "outputs": [
    {
     "output_type": "display_data",
     "data": {
      "text/html": [
       "<style scoped>\n",
       "  .table-result-container {\n",
       "    max-height: 300px;\n",
       "    overflow: auto;\n",
       "  }\n",
       "  table, th, td {\n",
       "    border: 1px solid black;\n",
       "    border-collapse: collapse;\n",
       "  }\n",
       "  th, td {\n",
       "    padding: 5px;\n",
       "  }\n",
       "  th {\n",
       "    text-align: left;\n",
       "  }\n",
       "</style><div class='table-result-container'><table class='table-result'><thead style='background-color: white'><tr><th>Nome</th><th>total</th></tr></thead><tbody><tr><td>RAYANE VP 501</td><td>2</td></tr><tr><td>CLAUDIA GP 203</td><td>2</td></tr><tr><td>ADRIANA HP 909</td><td>2</td></tr><tr><td>HELENY VP 708</td><td>2</td></tr><tr><td>ANDRESSA</td><td>2</td></tr><tr><td>LAISSA GP 806</td><td>2</td></tr><tr><td>RAQUEL CP 914</td><td>2</td></tr><tr><td>CARLOS GP 408</td><td>2</td></tr><tr><td>CAROL VP 803</td><td>2</td></tr><tr><td>VANDERLEIA GP 509</td><td>2</td></tr><tr><td>TATIANA VP 902</td><td>2</td></tr><tr><td>FERNANDA CP 201</td><td>2</td></tr><tr><td>CAROL VP 701</td><td>2</td></tr><tr><td>BERNARDO HP 801</td><td>2</td></tr><tr><td>ROBERTA CP 206</td><td>2</td></tr><tr><td>JOSE VP 803</td><td>2</td></tr><tr><td>THATIANA VP 401</td><td>2</td></tr><tr><td>JANETE</td><td>2</td></tr><tr><td>MARIANA GATO</td><td>2</td></tr><tr><td>RENTATA CP 103</td><td>2</td></tr><tr><td>ALINE HP 507</td><td>2</td></tr><tr><td>DIONE RG</td><td>2</td></tr><tr><td>ANA PAULA HP 401</td><td>2</td></tr><tr><td>VANESSA VP 802</td><td>2</td></tr></tbody></table></div>"
      ]
     },
     "metadata": {
      "application/vnd.databricks.v1+output": {
       "addedWidgets": {},
       "aggData": [],
       "aggError": "",
       "aggOverflow": false,
       "aggSchema": [],
       "aggSeriesLimitReached": false,
       "aggType": "",
       "arguments": {},
       "columnCustomDisplayInfos": {},
       "data": [
        [
         "RAYANE VP 501",
         2
        ],
        [
         "CLAUDIA GP 203",
         2
        ],
        [
         "ADRIANA HP 909",
         2
        ],
        [
         "HELENY VP 708",
         2
        ],
        [
         "ANDRESSA",
         2
        ],
        [
         "LAISSA GP 806",
         2
        ],
        [
         "RAQUEL CP 914",
         2
        ],
        [
         "CARLOS GP 408",
         2
        ],
        [
         "CAROL VP 803",
         2
        ],
        [
         "VANDERLEIA GP 509",
         2
        ],
        [
         "TATIANA VP 902",
         2
        ],
        [
         "FERNANDA CP 201",
         2
        ],
        [
         "CAROL VP 701",
         2
        ],
        [
         "BERNARDO HP 801",
         2
        ],
        [
         "ROBERTA CP 206",
         2
        ],
        [
         "JOSE VP 803",
         2
        ],
        [
         "THATIANA VP 401",
         2
        ],
        [
         "JANETE",
         2
        ],
        [
         "MARIANA GATO",
         2
        ],
        [
         "RENTATA CP 103",
         2
        ],
        [
         "ALINE HP 507",
         2
        ],
        [
         "DIONE RG",
         2
        ],
        [
         "ANA PAULA HP 401",
         2
        ],
        [
         "VANESSA VP 802",
         2
        ]
       ],
       "datasetInfos": [],
       "dbfsResultPath": null,
       "isJsonSchema": true,
       "metadata": {
        "isDbfsCommandResult": false
       },
       "overflow": false,
       "plotOptions": {
        "customPlotOptions": {},
        "displayType": "table",
        "pivotAggregation": null,
        "pivotColumns": null,
        "xColumns": null,
        "yColumns": null
       },
       "removedWidgets": [],
       "schema": [
        {
         "metadata": "{}",
         "name": "Nome",
         "type": "\"string\""
        },
        {
         "metadata": "{}",
         "name": "total",
         "type": "\"long\""
        }
       ],
       "type": "table"
      }
     },
     "output_type": "display_data"
    }
   ],
   "source": [
    "%sql\n",
    "Select Nome, count(*) as total \n",
    "from bronze.clientes\n",
    "group by Nome\n",
    "having count(*)> 1"
   ]
  },
  {
   "cell_type": "markdown",
   "metadata": {
    "application/vnd.databricks.v1+cell": {
     "cellMetadata": {},
     "inputWidgets": {},
     "nuid": "4a7a9400-bbf3-4ef4-8ee1-1c5bf0ba0a8e",
     "showTitle": false,
     "tableResultSettingsMap": {},
     "title": ""
    }
   },
   "source": [
    "**Demostra que na coluna \"Ativo\" tem dados com \"X\",sendo que essa coluna era para aceitar somente (\"S\" ou \"N\").**"
   ]
  },
  {
   "cell_type": "code",
   "execution_count": 0,
   "metadata": {
    "application/vnd.databricks.v1+cell": {
     "cellMetadata": {
      "byteLimit": 2048000,
      "rowLimit": 10000
     },
     "inputWidgets": {},
     "nuid": "87e441cc-37d7-4c70-aaf1-cde3af2b3234",
     "showTitle": false,
     "tableResultSettingsMap": {},
     "title": ""
    }
   },
   "outputs": [
    {
     "output_type": "display_data",
     "data": {
      "text/html": [
       "<style scoped>\n",
       "  .table-result-container {\n",
       "    max-height: 300px;\n",
       "    overflow: auto;\n",
       "  }\n",
       "  table, th, td {\n",
       "    border: 1px solid black;\n",
       "    border-collapse: collapse;\n",
       "  }\n",
       "  th, td {\n",
       "    padding: 5px;\n",
       "  }\n",
       "  th {\n",
       "    text-align: left;\n",
       "  }\n",
       "</style><div class='table-result-container'><table class='table-result'><thead style='background-color: white'><tr><th>ID_PRESTADOR</th><th>APELIDO</th><th>NOME</th><th>DATA_NASCIMENTO</th><th>FUNCAO</th><th>PIX</th><th>ATIVO</th></tr></thead><tbody><tr><td>14</td><td>DANI</td><td>DANI</td><td>null</td><td>CABELO</td><td>null</td><td>X</td></tr><tr><td>18</td><td>NARA</td><td>NARA</td><td>null</td><td>ESTETICISTA</td><td>null</td><td>X</td></tr></tbody></table></div>"
      ]
     },
     "metadata": {
      "application/vnd.databricks.v1+output": {
       "addedWidgets": {},
       "aggData": [],
       "aggError": "",
       "aggOverflow": false,
       "aggSchema": [],
       "aggSeriesLimitReached": false,
       "aggType": "",
       "arguments": {},
       "columnCustomDisplayInfos": {},
       "data": [
        [
         14,
         "DANI",
         "DANI",
         null,
         "CABELO",
         null,
         "X"
        ],
        [
         18,
         "NARA",
         "NARA",
         null,
         "ESTETICISTA",
         null,
         "X"
        ]
       ],
       "datasetInfos": [],
       "dbfsResultPath": null,
       "isJsonSchema": true,
       "metadata": {
        "isDbfsCommandResult": false
       },
       "overflow": false,
       "plotOptions": {
        "customPlotOptions": {},
        "displayType": "table",
        "pivotAggregation": null,
        "pivotColumns": null,
        "xColumns": null,
        "yColumns": null
       },
       "removedWidgets": [],
       "schema": [
        {
         "metadata": "{}",
         "name": "ID_PRESTADOR",
         "type": "\"integer\""
        },
        {
         "metadata": "{}",
         "name": "APELIDO",
         "type": "\"string\""
        },
        {
         "metadata": "{}",
         "name": "NOME",
         "type": "\"string\""
        },
        {
         "metadata": "{}",
         "name": "DATA_NASCIMENTO",
         "type": "\"string\""
        },
        {
         "metadata": "{}",
         "name": "FUNCAO",
         "type": "\"string\""
        },
        {
         "metadata": "{}",
         "name": "PIX",
         "type": "\"string\""
        },
        {
         "metadata": "{}",
         "name": "ATIVO",
         "type": "\"string\""
        }
       ],
       "type": "table"
      }
     },
     "output_type": "display_data"
    }
   ],
   "source": [
    "%sql\n",
    "SELECT * from bronze.prestadores\n",
    "WHERE ativo = 'X'"
   ]
  },
  {
   "cell_type": "markdown",
   "metadata": {
    "application/vnd.databricks.v1+cell": {
     "cellMetadata": {},
     "inputWidgets": {},
     "nuid": "1e08f557-8d03-46bd-b1bf-1ee06980e560",
     "showTitle": false,
     "tableResultSettingsMap": {},
     "title": ""
    }
   },
   "source": []
  },
  {
   "cell_type": "markdown",
   "metadata": {
    "application/vnd.databricks.v1+cell": {
     "cellMetadata": {},
     "inputWidgets": {},
     "nuid": "5e058616-9d9e-401f-90e8-0f771307b630",
     "showTitle": false,
     "tableResultSettingsMap": {},
     "title": ""
    }
   },
   "source": [
    "**Demostra tem serviços repetidos na tabela \"Servicos\".**"
   ]
  },
  {
   "cell_type": "code",
   "execution_count": 0,
   "metadata": {
    "application/vnd.databricks.v1+cell": {
     "cellMetadata": {
      "byteLimit": 2048000,
      "rowLimit": 10000
     },
     "inputWidgets": {},
     "nuid": "b4121675-dbbf-492c-993b-4dad6d759df3",
     "showTitle": false,
     "tableResultSettingsMap": {},
     "title": ""
    }
   },
   "outputs": [
    {
     "output_type": "display_data",
     "data": {
      "text/html": [
       "<style scoped>\n",
       "  .table-result-container {\n",
       "    max-height: 300px;\n",
       "    overflow: auto;\n",
       "  }\n",
       "  table, th, td {\n",
       "    border: 1px solid black;\n",
       "    border-collapse: collapse;\n",
       "  }\n",
       "  th, td {\n",
       "    padding: 5px;\n",
       "  }\n",
       "  th {\n",
       "    text-align: left;\n",
       "  }\n",
       "</style><div class='table-result-container'><table class='table-result'><thead style='background-color: white'><tr><th>DESCRICAO</th><th>total</th></tr></thead><tbody><tr><td>BUCO</td><td>3</td></tr><tr><td>SOBRANCELHAS C/ DESIGN</td><td>3</td></tr><tr><td>SELAGEM</td><td>2</td></tr></tbody></table></div>"
      ]
     },
     "metadata": {
      "application/vnd.databricks.v1+output": {
       "addedWidgets": {},
       "aggData": [],
       "aggError": "",
       "aggOverflow": false,
       "aggSchema": [],
       "aggSeriesLimitReached": false,
       "aggType": "",
       "arguments": {},
       "columnCustomDisplayInfos": {},
       "data": [
        [
         "BUCO",
         3
        ],
        [
         "SOBRANCELHAS C/ DESIGN",
         3
        ],
        [
         "SELAGEM",
         2
        ]
       ],
       "datasetInfos": [],
       "dbfsResultPath": null,
       "isJsonSchema": true,
       "metadata": {
        "isDbfsCommandResult": false
       },
       "overflow": false,
       "plotOptions": {
        "customPlotOptions": {},
        "displayType": "table",
        "pivotAggregation": null,
        "pivotColumns": null,
        "xColumns": null,
        "yColumns": null
       },
       "removedWidgets": [],
       "schema": [
        {
         "metadata": "{}",
         "name": "DESCRICAO",
         "type": "\"string\""
        },
        {
         "metadata": "{}",
         "name": "total",
         "type": "\"long\""
        }
       ],
       "type": "table"
      }
     },
     "output_type": "display_data"
    }
   ],
   "source": [
    "%sql\n",
    "Select DESCRICAO, count(*) as total  \n",
    "from bronze.servicos\n",
    "group by DESCRICAO\n",
    "having count(*)> 1"
   ]
  },
  {
   "cell_type": "markdown",
   "metadata": {
    "application/vnd.databricks.v1+cell": {
     "cellMetadata": {},
     "inputWidgets": {},
     "nuid": "fc526ad7-0ffa-4ba5-849c-e8675e09182c",
     "showTitle": false,
     "tableResultSettingsMap": {},
     "title": ""
    }
   },
   "source": [
    "**Demonstra que a coluna \"PIX\" tem duas informações: um número do pix e o tipo de pix, poderia ficar separado.**"
   ]
  },
  {
   "cell_type": "code",
   "execution_count": 0,
   "metadata": {
    "application/vnd.databricks.v1+cell": {
     "cellMetadata": {
      "byteLimit": 2048000,
      "rowLimit": 10000
     },
     "inputWidgets": {},
     "nuid": "ae3c29df-231f-4df0-a2d5-54d4404a8942",
     "showTitle": false,
     "tableResultSettingsMap": {},
     "title": ""
    }
   },
   "outputs": [
    {
     "output_type": "display_data",
     "data": {
      "text/html": [
       "<style scoped>\n",
       "  .table-result-container {\n",
       "    max-height: 300px;\n",
       "    overflow: auto;\n",
       "  }\n",
       "  table, th, td {\n",
       "    border: 1px solid black;\n",
       "    border-collapse: collapse;\n",
       "  }\n",
       "  th, td {\n",
       "    padding: 5px;\n",
       "  }\n",
       "  th {\n",
       "    text-align: left;\n",
       "  }\n",
       "</style><div class='table-result-container'><table class='table-result'><thead style='background-color: white'><tr><th>NOME</th><th>PIX</th></tr></thead><tbody><tr><td>LEONARDO MACHADO</td><td>21 99562-4420 CELULAR</td></tr><tr><td>ANA LUCIA</td><td>21 96662-2202 CELULAR</td></tr><tr><td>REBECA</td><td>172.249.587.19 CPF</td></tr><tr><td>ANA BRITO</td><td>null</td></tr><tr><td>SALAO ANABRITTO</td><td>null</td></tr><tr><td>JULIETE FAUSTINO</td><td>null</td></tr><tr><td>SIMONE</td><td>null</td></tr><tr><td>FERNANDA</td><td>null</td></tr><tr><td>LUCIANA</td><td>null</td></tr><tr><td>CRISTINA</td><td>null</td></tr><tr><td>JEANE</td><td>null</td></tr><tr><td>RENATO</td><td>null</td></tr><tr><td>CICA</td><td>null</td></tr><tr><td>DANI</td><td>null</td></tr><tr><td>TAYNARA</td><td>null</td></tr><tr><td>CINTIA</td><td>null</td></tr><tr><td>SANDRA</td><td>null</td></tr><tr><td>NARA</td><td>null</td></tr><tr><td>LUANA</td><td>null</td></tr></tbody></table></div>"
      ]
     },
     "metadata": {
      "application/vnd.databricks.v1+output": {
       "addedWidgets": {},
       "aggData": [],
       "aggError": "",
       "aggOverflow": false,
       "aggSchema": [],
       "aggSeriesLimitReached": false,
       "aggType": "",
       "arguments": {},
       "columnCustomDisplayInfos": {},
       "data": [
        [
         "LEONARDO MACHADO",
         "21 99562-4420 CELULAR"
        ],
        [
         "ANA LUCIA",
         "21 96662-2202 CELULAR"
        ],
        [
         "REBECA",
         "172.249.587.19 CPF"
        ],
        [
         "ANA BRITO",
         null
        ],
        [
         "SALAO ANABRITTO",
         null
        ],
        [
         "JULIETE FAUSTINO",
         null
        ],
        [
         "SIMONE",
         null
        ],
        [
         "FERNANDA",
         null
        ],
        [
         "LUCIANA",
         null
        ],
        [
         "CRISTINA",
         null
        ],
        [
         "JEANE",
         null
        ],
        [
         "RENATO",
         null
        ],
        [
         "CICA",
         null
        ],
        [
         "DANI",
         null
        ],
        [
         "TAYNARA",
         null
        ],
        [
         "CINTIA",
         null
        ],
        [
         "SANDRA",
         null
        ],
        [
         "NARA",
         null
        ],
        [
         "LUANA",
         null
        ]
       ],
       "datasetInfos": [],
       "dbfsResultPath": null,
       "isJsonSchema": true,
       "metadata": {
        "isDbfsCommandResult": false
       },
       "overflow": false,
       "plotOptions": {
        "customPlotOptions": {},
        "displayType": "table",
        "pivotAggregation": null,
        "pivotColumns": null,
        "xColumns": null,
        "yColumns": null
       },
       "removedWidgets": [],
       "schema": [
        {
         "metadata": "{}",
         "name": "NOME",
         "type": "\"string\""
        },
        {
         "metadata": "{}",
         "name": "PIX",
         "type": "\"string\""
        }
       ],
       "type": "table"
      }
     },
     "output_type": "display_data"
    }
   ],
   "source": [
    "%sql\n",
    "select NOME, PIX \n",
    "FROM bronze.prestadores\n"
   ]
  }
 ],
 "metadata": {
  "application/vnd.databricks.v1+notebook": {
   "computePreferences": null,
   "dashboards": [],
   "environmentMetadata": {
    "base_environment": "",
    "environment_version": "1"
   },
   "inputWidgetPreferences": null,
   "language": "python",
   "notebookMetadata": {
    "pythonIndentUnit": 4
   },
   "notebookName": "QualidadeDados",
   "widgets": {}
  }
 },
 "nbformat": 4,
 "nbformat_minor": 0
}