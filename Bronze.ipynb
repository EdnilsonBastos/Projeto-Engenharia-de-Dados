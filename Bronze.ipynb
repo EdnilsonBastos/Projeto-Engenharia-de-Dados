{
 "cells": [
  {
   "cell_type": "markdown",
   "metadata": {
    "application/vnd.databricks.v1+cell": {
     "cellMetadata": {},
     "inputWidgets": {},
     "nuid": "7dea28ed-f1f2-4af3-855c-d4cb47999719",
     "showTitle": false,
     "tableResultSettingsMap": {},
     "title": ""
    }
   },
   "source": [
    "<strong>Criação do database Bronze</strong>"
   ]
  },
  {
   "cell_type": "code",
   "execution_count": 0,
   "metadata": {
    "application/vnd.databricks.v1+cell": {
     "cellMetadata": {
      "byteLimit": 2048000,
      "implicitDf": true,
      "rowLimit": 10000
     },
     "inputWidgets": {},
     "nuid": "71910b82-8674-4e62-a314-1dc54335abf7",
     "showTitle": true,
     "tableResultSettingsMap": {},
     "title": "Criação do database Bronze"
    }
   },
   "outputs": [
    {
     "output_type": "display_data",
     "data": {
      "text/html": [
       "<style scoped>\n",
       "  .table-result-container {\n",
       "    max-height: 300px;\n",
       "    overflow: auto;\n",
       "  }\n",
       "  table, th, td {\n",
       "    border: 1px solid black;\n",
       "    border-collapse: collapse;\n",
       "  }\n",
       "  th, td {\n",
       "    padding: 5px;\n",
       "  }\n",
       "  th {\n",
       "    text-align: left;\n",
       "  }\n",
       "</style><div class='table-result-container'><table class='table-result'><thead style='background-color: white'><tr></tr></thead><tbody></tbody></table></div>"
      ]
     },
     "metadata": {
      "application/vnd.databricks.v1+output": {
       "addedWidgets": {},
       "aggData": [],
       "aggError": "",
       "aggOverflow": false,
       "aggSchema": [],
       "aggSeriesLimitReached": false,
       "aggType": "",
       "arguments": {},
       "columnCustomDisplayInfos": {},
       "data": [],
       "datasetInfos": [],
       "dbfsResultPath": null,
       "isJsonSchema": true,
       "metadata": {},
       "overflow": false,
       "plotOptions": {
        "customPlotOptions": {},
        "displayType": "table",
        "pivotAggregation": null,
        "pivotColumns": null,
        "xColumns": null,
        "yColumns": null
       },
       "removedWidgets": [],
       "schema": [],
       "type": "table"
      }
     },
     "output_type": "display_data"
    }
   ],
   "source": [
    "%sql\n",
    "create database IF not exists Bronze"
   ]
  },
  {
   "cell_type": "markdown",
   "metadata": {
    "application/vnd.databricks.v1+cell": {
     "cellMetadata": {
      "byteLimit": 2048000,
      "rowLimit": 10000
     },
     "inputWidgets": {},
     "nuid": "30a9f990-1ca5-4e97-ac27-79680f658497",
     "showTitle": false,
     "tableResultSettingsMap": {},
     "title": ""
    }
   },
   "source": [
    "**Criação da tabela Clientes no database Bronze a partir do Dataframe clientes**"
   ]
  },
  {
   "cell_type": "code",
   "execution_count": 0,
   "metadata": {
    "application/vnd.databricks.v1+cell": {
     "cellMetadata": {
      "byteLimit": 2048000,
      "rowLimit": 10000
     },
     "inputWidgets": {},
     "nuid": "cc611b3e-410e-4817-9ab2-904a94ab80fd",
     "showTitle": false,
     "tableResultSettingsMap": {},
     "title": ""
    }
   },
   "outputs": [],
   "source": [
    "%py\n",
    "clientes.write.mode(\"overwrite\").saveAsTable('bronze.Clientes')"
   ]
  },
  {
   "cell_type": "markdown",
   "metadata": {
    "application/vnd.databricks.v1+cell": {
     "cellMetadata": {
      "byteLimit": 2048000,
      "rowLimit": 10000
     },
     "inputWidgets": {},
     "nuid": "bd51b8df-3057-4cf2-8ab0-faf512900424",
     "showTitle": false,
     "tableResultSettingsMap": {},
     "title": ""
    }
   },
   "source": [
    "**Criação da tabela Prestadores no database Bronze a partir do dataframe prestadores**\n"
   ]
  },
  {
   "cell_type": "code",
   "execution_count": 0,
   "metadata": {
    "application/vnd.databricks.v1+cell": {
     "cellMetadata": {
      "byteLimit": 2048000,
      "rowLimit": 10000
     },
     "inputWidgets": {},
     "nuid": "f0b81de0-9e7c-4bf4-99ae-c09926cfd2ce",
     "showTitle": false,
     "tableResultSettingsMap": {},
     "title": ""
    }
   },
   "outputs": [],
   "source": [
    "%python \n",
    "prestadores.write.mode(\"overwrite\").saveAsTable('bronze.Prestadores')"
   ]
  },
  {
   "cell_type": "markdown",
   "metadata": {
    "application/vnd.databricks.v1+cell": {
     "cellMetadata": {
      "byteLimit": 2048000,
      "rowLimit": 10000
     },
     "inputWidgets": {},
     "nuid": "c4ca1e75-69f6-41c0-9937-eb431cc1001d",
     "showTitle": false,
     "tableResultSettingsMap": {},
     "title": ""
    }
   },
   "source": [
    "**Criação da tabela Pagamentos no database Bronze a partir do dataframe pagamentos**"
   ]
  },
  {
   "cell_type": "code",
   "execution_count": 0,
   "metadata": {
    "application/vnd.databricks.v1+cell": {
     "cellMetadata": {
      "byteLimit": 2048000,
      "rowLimit": 10000
     },
     "inputWidgets": {},
     "nuid": "7fa51f5e-a1e1-4233-ad60-732fda65132b",
     "showTitle": true,
     "tableResultSettingsMap": {},
     "title": "Criação da tabela Pagamentos a partir do Dataframe"
    }
   },
   "outputs": [],
   "source": [
    "%python \n",
    "pagamentos.write.mode(\"overwrite\").saveAsTable('bronze.Pagamentos')"
   ]
  },
  {
   "cell_type": "markdown",
   "metadata": {
    "application/vnd.databricks.v1+cell": {
     "cellMetadata": {
      "byteLimit": 2048000,
      "rowLimit": 10000
     },
     "inputWidgets": {},
     "nuid": "e6ca1575-f7fb-438e-a2ae-8db9bd8dd5db",
     "showTitle": false,
     "tableResultSettingsMap": {},
     "title": ""
    }
   },
   "source": [
    "**Criação da tabela ComandaCliente no database Bronze a partir do dataframe comandacliente**"
   ]
  },
  {
   "cell_type": "code",
   "execution_count": 0,
   "metadata": {
    "application/vnd.databricks.v1+cell": {
     "cellMetadata": {
      "byteLimit": 2048000,
      "rowLimit": 10000
     },
     "inputWidgets": {},
     "nuid": "860f8040-affb-480a-aa95-6dd2c24761fb",
     "showTitle": false,
     "tableResultSettingsMap": {},
     "title": ""
    }
   },
   "outputs": [],
   "source": [
    "%python \n",
    "comandacliente.write.mode(\"overwrite\").saveAsTable('bronze.ComandaCliente')"
   ]
  },
  {
   "cell_type": "markdown",
   "metadata": {
    "application/vnd.databricks.v1+cell": {
     "cellMetadata": {
      "byteLimit": 2048000,
      "rowLimit": 10000
     },
     "inputWidgets": {},
     "nuid": "983b7ef7-0621-4d4c-83a7-cf08d4d8f3b0",
     "showTitle": false,
     "tableResultSettingsMap": {},
     "title": ""
    }
   },
   "source": [
    "**Criação da tabela Servicos no database Bronze a partir do dataframe servicos**"
   ]
  },
  {
   "cell_type": "code",
   "execution_count": 0,
   "metadata": {
    "application/vnd.databricks.v1+cell": {
     "cellMetadata": {
      "byteLimit": 2048000,
      "rowLimit": 10000
     },
     "inputWidgets": {},
     "nuid": "4ba936df-e606-4ee2-a6bf-0991a0a1f75e",
     "showTitle": true,
     "tableResultSettingsMap": {},
     "title": "Criação da tabela Servicos  a partir do Dataframe"
    }
   },
   "outputs": [],
   "source": [
    "%python \n",
    "servicos.write.mode(\"overwrite\").saveAsTable('bronze.Servicos')"
   ]
  },
  {
   "cell_type": "markdown",
   "metadata": {
    "application/vnd.databricks.v1+cell": {
     "cellMetadata": {
      "byteLimit": 2048000,
      "rowLimit": 10000
     },
     "inputWidgets": {},
     "nuid": "f25a2527-d1dc-4406-8023-4b0d3b310ce6",
     "showTitle": false,
     "tableResultSettingsMap": {},
     "title": ""
    }
   },
   "source": [
    "**Mostra que as tabelas foram criadas no database Bronze**"
   ]
  },
  {
   "cell_type": "code",
   "execution_count": 0,
   "metadata": {
    "application/vnd.databricks.v1+cell": {
     "cellMetadata": {
      "byteLimit": 2048000,
      "implicitDf": true,
      "rowLimit": 10000
     },
     "inputWidgets": {},
     "nuid": "de651384-b200-455e-8bfa-3959a93c2d44",
     "showTitle": false,
     "tableResultSettingsMap": {},
     "title": ""
    }
   },
   "outputs": [
    {
     "output_type": "display_data",
     "data": {
      "text/html": [
       "<style scoped>\n",
       "  .table-result-container {\n",
       "    max-height: 300px;\n",
       "    overflow: auto;\n",
       "  }\n",
       "  table, th, td {\n",
       "    border: 1px solid black;\n",
       "    border-collapse: collapse;\n",
       "  }\n",
       "  th, td {\n",
       "    padding: 5px;\n",
       "  }\n",
       "  th {\n",
       "    text-align: left;\n",
       "  }\n",
       "</style><div class='table-result-container'><table class='table-result'><thead style='background-color: white'><tr><th>ID_CLIENTE</th><th>NOME</th><th>DATA_NASCIMENTO</th><th>TELEFONE</th></tr></thead><tbody><tr><td>1</td><td>MARCIA CP 903</td><td>null</td><td>null</td></tr><tr><td>2</td><td>SIMONE VP 613</td><td>null</td><td>null</td></tr><tr><td>3</td><td>ALEXANDRA HP 208</td><td>null</td><td>null</td></tr><tr><td>4</td><td>PAULINHA GP 504</td><td>null</td><td>null</td></tr><tr><td>5</td><td>ESTHER GP 814</td><td>null</td><td>null</td></tr></tbody></table></div>"
      ]
     },
     "metadata": {
      "application/vnd.databricks.v1+output": {
       "addedWidgets": {},
       "aggData": [],
       "aggError": "",
       "aggOverflow": false,
       "aggSchema": [],
       "aggSeriesLimitReached": false,
       "aggType": "",
       "arguments": {},
       "columnCustomDisplayInfos": {},
       "data": [
        [
         1,
         "MARCIA CP 903",
         null,
         null
        ],
        [
         2,
         "SIMONE VP 613",
         null,
         null
        ],
        [
         3,
         "ALEXANDRA HP 208",
         null,
         null
        ],
        [
         4,
         "PAULINHA GP 504",
         null,
         null
        ],
        [
         5,
         "ESTHER GP 814",
         null,
         null
        ]
       ],
       "datasetInfos": [],
       "dbfsResultPath": null,
       "isJsonSchema": true,
       "metadata": {},
       "overflow": false,
       "plotOptions": {
        "customPlotOptions": {},
        "displayType": "table",
        "pivotAggregation": null,
        "pivotColumns": null,
        "xColumns": null,
        "yColumns": null
       },
       "removedWidgets": [],
       "schema": [
        {
         "metadata": "{}",
         "name": "ID_CLIENTE",
         "type": "\"integer\""
        },
        {
         "metadata": "{}",
         "name": "NOME",
         "type": "\"string\""
        },
        {
         "metadata": "{}",
         "name": "DATA_NASCIMENTO",
         "type": "\"string\""
        },
        {
         "metadata": "{}",
         "name": "TELEFONE",
         "type": "\"string\""
        }
       ],
       "type": "table"
      }
     },
     "output_type": "display_data"
    }
   ],
   "source": [
    "%sql\n",
    "select * from Bronze.clientes limit 5"
   ]
  },
  {
   "cell_type": "code",
   "execution_count": 0,
   "metadata": {
    "application/vnd.databricks.v1+cell": {
     "cellMetadata": {
      "byteLimit": 2048000,
      "implicitDf": true,
      "rowLimit": 10000
     },
     "inputWidgets": {},
     "nuid": "ad9267f8-e795-41b7-9e24-b824c23aa522",
     "showTitle": false,
     "tableResultSettingsMap": {},
     "title": ""
    }
   },
   "outputs": [
    {
     "output_type": "display_data",
     "data": {
      "text/html": [
       "<style scoped>\n",
       "  .table-result-container {\n",
       "    max-height: 300px;\n",
       "    overflow: auto;\n",
       "  }\n",
       "  table, th, td {\n",
       "    border: 1px solid black;\n",
       "    border-collapse: collapse;\n",
       "  }\n",
       "  th, td {\n",
       "    padding: 5px;\n",
       "  }\n",
       "  th {\n",
       "    text-align: left;\n",
       "  }\n",
       "</style><div class='table-result-container'><table class='table-result'><thead style='background-color: white'><tr><th>ID</th><th>DATA_SERVICO</th><th>ID_COMANDA</th><th>ID_PRESTADOR</th><th>ID_SERVICO</th><th>ID_CLIENTE</th><th>VALOR</th><th>COMISSAO</th><th>ID_EMPRESA</th></tr></thead><tbody><tr><td>1</td><td>2024-01-04</td><td>6430</td><td>3</td><td>44</td><td>349</td><td>49.00</td><td>55</td><td>1</td></tr><tr><td>2</td><td>2024-01-04</td><td>6430</td><td>4</td><td>58</td><td>349</td><td>47.00</td><td>50</td><td>1</td></tr><tr><td>3</td><td>2024-01-04</td><td>6430</td><td>4</td><td>5</td><td>349</td><td>80.00</td><td>50</td><td>1</td></tr><tr><td>4</td><td>2024-01-04</td><td>6431</td><td>3</td><td>35</td><td>1214</td><td>29.00</td><td>55</td><td>1</td></tr><tr><td>5</td><td>2024-01-04</td><td>6431</td><td>4</td><td>20</td><td>1214</td><td>69.00</td><td>50</td><td>1</td></tr></tbody></table></div>"
      ]
     },
     "metadata": {
      "application/vnd.databricks.v1+output": {
       "addedWidgets": {},
       "aggData": [],
       "aggError": "",
       "aggOverflow": false,
       "aggSchema": [],
       "aggSeriesLimitReached": false,
       "aggType": "",
       "arguments": {},
       "columnCustomDisplayInfos": {},
       "data": [
        [
         1,
         "2024-01-04",
         6430,
         3,
         44,
         349,
         "49.00",
         55,
         1
        ],
        [
         2,
         "2024-01-04",
         6430,
         4,
         58,
         349,
         "47.00",
         50,
         1
        ],
        [
         3,
         "2024-01-04",
         6430,
         4,
         5,
         349,
         "80.00",
         50,
         1
        ],
        [
         4,
         "2024-01-04",
         6431,
         3,
         35,
         1214,
         "29.00",
         55,
         1
        ],
        [
         5,
         "2024-01-04",
         6431,
         4,
         20,
         1214,
         "69.00",
         50,
         1
        ]
       ],
       "datasetInfos": [],
       "dbfsResultPath": null,
       "isJsonSchema": true,
       "metadata": {},
       "overflow": false,
       "plotOptions": {
        "customPlotOptions": {},
        "displayType": "table",
        "pivotAggregation": null,
        "pivotColumns": null,
        "xColumns": null,
        "yColumns": null
       },
       "removedWidgets": [],
       "schema": [
        {
         "metadata": "{}",
         "name": "ID",
         "type": "\"integer\""
        },
        {
         "metadata": "{\"__detected_date_formats\":\"d/M/yyyy\"}",
         "name": "DATA_SERVICO",
         "type": "\"date\""
        },
        {
         "metadata": "{}",
         "name": "ID_COMANDA",
         "type": "\"integer\""
        },
        {
         "metadata": "{}",
         "name": "ID_PRESTADOR",
         "type": "\"integer\""
        },
        {
         "metadata": "{}",
         "name": "ID_SERVICO",
         "type": "\"integer\""
        },
        {
         "metadata": "{}",
         "name": "ID_CLIENTE",
         "type": "\"integer\""
        },
        {
         "metadata": "{}",
         "name": "VALOR",
         "type": "\"string\""
        },
        {
         "metadata": "{}",
         "name": "COMISSAO",
         "type": "\"integer\""
        },
        {
         "metadata": "{}",
         "name": "ID_EMPRESA",
         "type": "\"integer\""
        }
       ],
       "type": "table"
      }
     },
     "output_type": "display_data"
    }
   ],
   "source": [
    "%sql\n",
    "select * from Bronze.comandacliente limit 5"
   ]
  },
  {
   "cell_type": "code",
   "execution_count": 0,
   "metadata": {
    "application/vnd.databricks.v1+cell": {
     "cellMetadata": {
      "byteLimit": 2048000,
      "implicitDf": true,
      "rowLimit": 10000
     },
     "inputWidgets": {},
     "nuid": "adfc33ad-3431-408f-9009-eb48281824f9",
     "showTitle": false,
     "tableResultSettingsMap": {},
     "title": ""
    }
   },
   "outputs": [
    {
     "output_type": "display_data",
     "data": {
      "text/html": [
       "<style scoped>\n",
       "  .table-result-container {\n",
       "    max-height: 300px;\n",
       "    overflow: auto;\n",
       "  }\n",
       "  table, th, td {\n",
       "    border: 1px solid black;\n",
       "    border-collapse: collapse;\n",
       "  }\n",
       "  th, td {\n",
       "    padding: 5px;\n",
       "  }\n",
       "  th {\n",
       "    text-align: left;\n",
       "  }\n",
       "</style><div class='table-result-container'><table class='table-result'><thead style='background-color: white'><tr><th>ID_PAGAMENTO</th><th>ID_COMANDA</th><th>VALOR_PAGTO</th><th>FORMA_PAGO</th><th>DATA_PAGAMENTO</th></tr></thead><tbody><tr><td>1</td><td>6430</td><td>176.00</td><td>DEBITO</td><td>2024-01-04</td></tr><tr><td>2</td><td>6431</td><td>325.00</td><td>CREDITO</td><td>2024-01-04</td></tr><tr><td>3</td><td>6432</td><td>172.00</td><td>DEBITO</td><td>2024-01-04</td></tr><tr><td>4</td><td>6433</td><td>35.00</td><td>PIX</td><td>2024-01-04</td></tr><tr><td>5</td><td>6434</td><td>29.00</td><td>DINHEIRO</td><td>2024-01-04</td></tr></tbody></table></div>"
      ]
     },
     "metadata": {
      "application/vnd.databricks.v1+output": {
       "addedWidgets": {},
       "aggData": [],
       "aggError": "",
       "aggOverflow": false,
       "aggSchema": [],
       "aggSeriesLimitReached": false,
       "aggType": "",
       "arguments": {},
       "columnCustomDisplayInfos": {},
       "data": [
        [
         1,
         6430,
         "176.00",
         "DEBITO",
         "2024-01-04"
        ],
        [
         2,
         6431,
         "325.00",
         "CREDITO",
         "2024-01-04"
        ],
        [
         3,
         6432,
         "172.00",
         "DEBITO",
         "2024-01-04"
        ],
        [
         4,
         6433,
         "35.00",
         "PIX",
         "2024-01-04"
        ],
        [
         5,
         6434,
         "29.00",
         "DINHEIRO",
         "2024-01-04"
        ]
       ],
       "datasetInfos": [],
       "dbfsResultPath": null,
       "isJsonSchema": true,
       "metadata": {},
       "overflow": false,
       "plotOptions": {
        "customPlotOptions": {},
        "displayType": "table",
        "pivotAggregation": null,
        "pivotColumns": null,
        "xColumns": null,
        "yColumns": null
       },
       "removedWidgets": [],
       "schema": [
        {
         "metadata": "{}",
         "name": "ID_PAGAMENTO",
         "type": "\"integer\""
        },
        {
         "metadata": "{}",
         "name": "ID_COMANDA",
         "type": "\"integer\""
        },
        {
         "metadata": "{}",
         "name": "VALOR_PAGTO",
         "type": "\"string\""
        },
        {
         "metadata": "{}",
         "name": "FORMA_PAGO",
         "type": "\"string\""
        },
        {
         "metadata": "{\"__detected_date_formats\":\"d/M/yyyy\"}",
         "name": "DATA_PAGAMENTO",
         "type": "\"date\""
        }
       ],
       "type": "table"
      }
     },
     "output_type": "display_data"
    }
   ],
   "source": [
    "%sql\n",
    "select * from Bronze.pagamentos limit 5"
   ]
  },
  {
   "cell_type": "code",
   "execution_count": 0,
   "metadata": {
    "application/vnd.databricks.v1+cell": {
     "cellMetadata": {
      "byteLimit": 2048000,
      "implicitDf": true,
      "rowLimit": 10000
     },
     "inputWidgets": {},
     "nuid": "7e5440a8-b590-4a2d-b03a-fbba1bf18d0a",
     "showTitle": false,
     "tableResultSettingsMap": {},
     "title": ""
    }
   },
   "outputs": [
    {
     "output_type": "display_data",
     "data": {
      "text/html": [
       "<style scoped>\n",
       "  .table-result-container {\n",
       "    max-height: 300px;\n",
       "    overflow: auto;\n",
       "  }\n",
       "  table, th, td {\n",
       "    border: 1px solid black;\n",
       "    border-collapse: collapse;\n",
       "  }\n",
       "  th, td {\n",
       "    padding: 5px;\n",
       "  }\n",
       "  th {\n",
       "    text-align: left;\n",
       "  }\n",
       "</style><div class='table-result-container'><table class='table-result'><thead style='background-color: white'><tr><th>ID_PRESTADOR</th><th>APELIDO</th><th>NOME</th><th>DATA_NASCIMENTO</th><th>FUNCAO</th><th>PIX</th><th>ATIVO</th></tr></thead><tbody><tr><td>1</td><td>LEO</td><td>LEONARDO MACHADO</td><td>null</td><td>CABELO</td><td>21 99562-4420 CELULAR</td><td>S</td></tr><tr><td>2</td><td>ANA LUCIA</td><td>ANA LUCIA</td><td>null</td><td>MANICUREPEDICURE</td><td>21 96662-2202 CELULAR</td><td>S</td></tr><tr><td>3</td><td>REBECA</td><td>REBECA</td><td>null</td><td>MANICUREPEDICURE</td><td>172.249.587.19 CPF</td><td>S</td></tr><tr><td>4</td><td>ANA BRITO</td><td>ANA BRITO</td><td>null</td><td>CABELO</td><td>null</td><td>S</td></tr><tr><td>5</td><td>SALAO</td><td>SALAO ANABRITTO</td><td>null</td><td>GERAL</td><td>null</td><td>S</td></tr></tbody></table></div>"
      ]
     },
     "metadata": {
      "application/vnd.databricks.v1+output": {
       "addedWidgets": {},
       "aggData": [],
       "aggError": "",
       "aggOverflow": false,
       "aggSchema": [],
       "aggSeriesLimitReached": false,
       "aggType": "",
       "arguments": {},
       "columnCustomDisplayInfos": {},
       "data": [
        [
         1,
         "LEO",
         "LEONARDO MACHADO",
         null,
         "CABELO",
         "21 99562-4420 CELULAR",
         "S"
        ],
        [
         2,
         "ANA LUCIA",
         "ANA LUCIA",
         null,
         "MANICUREPEDICURE",
         "21 96662-2202 CELULAR",
         "S"
        ],
        [
         3,
         "REBECA",
         "REBECA",
         null,
         "MANICUREPEDICURE",
         "172.249.587.19 CPF",
         "S"
        ],
        [
         4,
         "ANA BRITO",
         "ANA BRITO",
         null,
         "CABELO",
         null,
         "S"
        ],
        [
         5,
         "SALAO",
         "SALAO ANABRITTO",
         null,
         "GERAL",
         null,
         "S"
        ]
       ],
       "datasetInfos": [],
       "dbfsResultPath": null,
       "isJsonSchema": true,
       "metadata": {},
       "overflow": false,
       "plotOptions": {
        "customPlotOptions": {},
        "displayType": "table",
        "pivotAggregation": null,
        "pivotColumns": null,
        "xColumns": null,
        "yColumns": null
       },
       "removedWidgets": [],
       "schema": [
        {
         "metadata": "{}",
         "name": "ID_PRESTADOR",
         "type": "\"integer\""
        },
        {
         "metadata": "{}",
         "name": "APELIDO",
         "type": "\"string\""
        },
        {
         "metadata": "{}",
         "name": "NOME",
         "type": "\"string\""
        },
        {
         "metadata": "{}",
         "name": "DATA_NASCIMENTO",
         "type": "\"string\""
        },
        {
         "metadata": "{}",
         "name": "FUNCAO",
         "type": "\"string\""
        },
        {
         "metadata": "{}",
         "name": "PIX",
         "type": "\"string\""
        },
        {
         "metadata": "{}",
         "name": "ATIVO",
         "type": "\"string\""
        }
       ],
       "type": "table"
      }
     },
     "output_type": "display_data"
    }
   ],
   "source": [
    "%sql\n",
    "select * from Bronze.prestadores limit 5"
   ]
  },
  {
   "cell_type": "code",
   "execution_count": 0,
   "metadata": {
    "application/vnd.databricks.v1+cell": {
     "cellMetadata": {
      "byteLimit": 2048000,
      "implicitDf": true,
      "rowLimit": 10000
     },
     "inputWidgets": {},
     "nuid": "c40886ce-c8d0-4ddf-af69-a11cd1d78610",
     "showTitle": false,
     "tableResultSettingsMap": {},
     "title": ""
    }
   },
   "outputs": [
    {
     "output_type": "display_data",
     "data": {
      "text/html": [
       "<style scoped>\n",
       "  .table-result-container {\n",
       "    max-height: 300px;\n",
       "    overflow: auto;\n",
       "  }\n",
       "  table, th, td {\n",
       "    border: 1px solid black;\n",
       "    border-collapse: collapse;\n",
       "  }\n",
       "  th, td {\n",
       "    padding: 5px;\n",
       "  }\n",
       "  th {\n",
       "    text-align: left;\n",
       "  }\n",
       "</style><div class='table-result-container'><table class='table-result'><thead style='background-color: white'><tr><th>ID_SERVICO</th><th>DESCRICAO</th><th>FUNCAO</th><th>VALOR</th><th>COMISSAO</th></tr></thead><tbody><tr><td>1</td><td>ALINHAMENTO TERMICO PROGRESSIVA / BOTOX - CURTO</td><td>CABELO</td><td>140.00</td><td>40</td></tr><tr><td>2</td><td>ALINHAMENTO TERMICO PROGRESSIVA / BOTOX - EXTRA</td><td>CABELO</td><td>220.00</td><td>40</td></tr><tr><td>3</td><td>ALINHAMENTO TERMICO PROGRESSIVA / BOTOX - LONGO</td><td>CABELO</td><td>190.00</td><td>40</td></tr><tr><td>4</td><td>ALINHAMENTO TERMICO PROGRESSIVA / BOTOX - MEDIO</td><td>CABELO</td><td>160.00</td><td>40</td></tr><tr><td>5</td><td>APLICACAO + LAVAGEM - tintura do cliente</td><td>CABELO</td><td>70.00</td><td>50</td></tr></tbody></table></div>"
      ]
     },
     "metadata": {
      "application/vnd.databricks.v1+output": {
       "addedWidgets": {},
       "aggData": [],
       "aggError": "",
       "aggOverflow": false,
       "aggSchema": [],
       "aggSeriesLimitReached": false,
       "aggType": "",
       "arguments": {},
       "columnCustomDisplayInfos": {},
       "data": [
        [
         1,
         "ALINHAMENTO TERMICO PROGRESSIVA / BOTOX - CURTO",
         "CABELO",
         "140.00",
         40
        ],
        [
         2,
         "ALINHAMENTO TERMICO PROGRESSIVA / BOTOX - EXTRA",
         "CABELO",
         "220.00",
         40
        ],
        [
         3,
         "ALINHAMENTO TERMICO PROGRESSIVA / BOTOX - LONGO",
         "CABELO",
         "190.00",
         40
        ],
        [
         4,
         "ALINHAMENTO TERMICO PROGRESSIVA / BOTOX - MEDIO",
         "CABELO",
         "160.00",
         40
        ],
        [
         5,
         "APLICACAO + LAVAGEM - tintura do cliente",
         "CABELO",
         "70.00",
         50
        ]
       ],
       "datasetInfos": [],
       "dbfsResultPath": null,
       "isJsonSchema": true,
       "metadata": {},
       "overflow": false,
       "plotOptions": {
        "customPlotOptions": {},
        "displayType": "table",
        "pivotAggregation": null,
        "pivotColumns": null,
        "xColumns": null,
        "yColumns": null
       },
       "removedWidgets": [],
       "schema": [
        {
         "metadata": "{}",
         "name": "ID_SERVICO",
         "type": "\"integer\""
        },
        {
         "metadata": "{}",
         "name": "DESCRICAO",
         "type": "\"string\""
        },
        {
         "metadata": "{}",
         "name": "FUNCAO",
         "type": "\"string\""
        },
        {
         "metadata": "{}",
         "name": "VALOR",
         "type": "\"string\""
        },
        {
         "metadata": "{}",
         "name": "COMISSAO",
         "type": "\"integer\""
        }
       ],
       "type": "table"
      }
     },
     "output_type": "display_data"
    }
   ],
   "source": [
    "%sql\n",
    "select * from bronze.servicos limit 5"
   ]
  }
 ],
 "metadata": {
  "application/vnd.databricks.v1+notebook": {
   "computePreferences": null,
   "dashboards": [],
   "environmentMetadata": {
    "base_environment": "",
    "environment_version": "1"
   },
   "inputWidgetPreferences": null,
   "language": "python",
   "notebookMetadata": {
    "mostRecentlyExecutedCommandWithImplicitDF": {
     "commandId": 353986617724769,
     "dataframes": [
      "_sqldf"
     ]
    },
    "pythonIndentUnit": 4
   },
   "notebookName": "Bronze",
   "widgets": {}
  }
 },
 "nbformat": 4,
 "nbformat_minor": 0
}