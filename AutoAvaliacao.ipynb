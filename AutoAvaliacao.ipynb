{
 "cells": [
  {
   "cell_type": "markdown",
   "metadata": {
    "application/vnd.databricks.v1+cell": {
     "cellMetadata": {},
     "inputWidgets": {},
     "nuid": "a459c24c-ef25-4f15-a820-99f415f2451b",
     "showTitle": false,
     "tableResultSettingsMap": {},
     "title": ""
    }
   },
   "source": [
    "<STRONG>AUTOAVALIAÇÃO</STRONG><br><br>\n",
    "<p align=\"Justify\"> Tive bastante dificuldade para compreender o modelo de dados inicialmente, o que exigiu uma reunião com o desenvolvedor responsável pelo sistema para esclarecer dúvidas e entender melhor a estrutura.\n",
    "Após essa conversa, consegui avançar no trabalho com os dados, realizando as etapas de limpeza e processamento necessárias para calcular as métricas solicitadas pelo dono do salão.\n",
    "Durante esse processo, identifiquei problemas de qualidade nos dados, além de uma falha de normalização na tabela Prestador, onde o conteúdo da coluna \"Funcao\" se repetia diversas vezes, de forma redundante.\n",
    "Depois de aplicar os tratamentos adequados e criar as tabelas finais na camada OURO, consegui responder as setes perguntas principais relacionadas ao negócio.\n",
    "Na última pergunta, em vez de uma resposta direta, deixei uma sugestão baseada em insights observados durante a análise do modelo e dos dados estudados.</p>\n",
    "\n",
    "\n"
   ]
  },
  {
   "cell_type": "markdown",
   "metadata": {
    "application/vnd.databricks.v1+cell": {
     "cellMetadata": {},
     "inputWidgets": {},
     "nuid": "9c5db4d7-d1dd-49f2-922a-bc7f86386c04",
     "showTitle": false,
     "tableResultSettingsMap": {},
     "title": ""
    }
   },
   "source": [
    "<strong>PREPARAÇÃO DA TABELA PARA RESPONDER OS QUESITOS:</strong><br>\n",
    "1, 3, 4 e  6 <br>\n",
    "<strong>OBETIVO</strong>:<br>\n",
    "O objetivo foi estruturar os dados de pagamento de forma mais legível e organizada, facilitando a análise mensal dos valores pagos por forma de pagamento. Essa estrutura permite futuras análises comparativas e geração de dashboards, com uma visão clara de quanto foi pago, quando e por qual meio de pagamento.\n",
    "\n",
    "<strong>EXPLICAÇÃO DA PREPARAÇÃO DA CONSULTA</strong><br>\n",
    "Criei uma consulta SQL na camada Prata utilizando a função “YEAR()” para extrair o ano da coluna “Data_Pagamento”. Também apliquei a função “MONTH()” em conjunto com a cláusula “CASE WHEN” para converter o número do mês em seu nome por extenso, criando a coluna “MES”. Além disso, adicionei as colunas “FORMA_PAGTO” e “VALOR_PAGTO” em que o resultado da consulta foi armazenado no Data Frame  “df_pagamentos”.\n",
    "\n",
    "<strong>1.\tQual o faturamento anual da empresa?:</strong><br>\n",
    "<strong>Solução:</strong><br>\n",
    "A partir do Data Frame “df_pagamentos”, gerei a tabela “Pagamentos” na camada Ouro. Em seguida, realizei uma consulta na tabela “Pagamentos”, selecionando o ano, somando os valores da coluna “Valor_Pagamento”, agrupando e ordenando os resultados por ano.\n"
   ]
  },
  {
   "cell_type": "markdown",
   "metadata": {
    "application/vnd.databricks.v1+cell": {
     "cellMetadata": {},
     "inputWidgets": {},
     "nuid": "692cf3b4-6cf0-4838-966a-90a180728fec",
     "showTitle": false,
     "tableResultSettingsMap": {},
     "title": ""
    }
   },
   "source": [
    "<strong>PREPARAÇÃO DA TABELA PARA RESPONDER OS QUESITOS:</strong><br>\n",
    "2  e 4<br>\n",
    "<strong>OBETIVO:</strong><br>\n",
    "O objetivo desta consulta é obter uma visão detalhada dos serviços realizados por cada prestador, organizando as informações por ano e mês, e incluindo os principais dados financeiros e descritivos do atendimento.\n",
    "\n",
    "<strong>EXPLICAÇÃO DA PREPARAÇÃO DA CONSULTA</strong><br>\n",
    "Criei uma consulta SQL na camada Prata trazendo as colunas “ANO, VALOR e COMISSAO”, extraídas da tabela “ComandaCliente”. Utilizei a função “MONTH() “ em conjunto com a cláusula “CASE WHEN” para converter o número do mês no nome por extenso, criando a coluna “MES”.\n",
    "Além disso, incluí a coluna “NOME”, proveniente da tabela Prestador, e a coluna “DESCRICAO”, da tabela Servicos.\n",
    "Para isso, realizei as seguintes junções:\n",
    "•\tA tabela “Prestador” foi unida à tabela “ComandaCliente” pela chave “ID_PRESTADOR”.\n",
    "•\tA tabela “ComandaCliente” foi unida à tabela “Servicos” pela chave ID_SERVICO.\n",
    "O resultado da consulta foi armazenado no Data Frame “df_comandafinal”.\n",
    "\n",
    "\n",
    "<strong>2.\tQuais os três Prestadores receberam os maiores valores durante os anos de 2024 e 2025?</strong><br>\n",
    "<strong>Solução:</strong><br>\n",
    "A partir do DataFrame df_comandafinal, gerei a tabela ”COMANDAFINAL” na camada Ouro. Em seguida, realizei uma consulta nessa tabela, selecionando as colunas “ano_servico” e “nome_prestador”, além de somar os valores da coluna “Valor_Servico”. Apliquei um filtro por “ano_servico”, agrupei os dados por “ano_servico” e “nome_prestado” e ordenei os resultados em ordem decrescente com base no valor total de “Valor_Servico”, retornando os três primeiros registros.\n",
    "Utilizei a cláusula “UNION ALL” para unir os resultados referentes aos anos de 2024 e 2025.\n"
   ]
  },
  {
   "cell_type": "markdown",
   "metadata": {
    "application/vnd.databricks.v1+cell": {
     "cellMetadata": {},
     "inputWidgets": {},
     "nuid": "1a92baa5-3054-4087-940d-8f72034c4052",
     "showTitle": false,
     "tableResultSettingsMap": {},
     "title": ""
    }
   },
   "source": [
    "<strong>3.\tQuais são os dez Serviços mais vendidos por ano?</strong><br>\n",
    "<strong>Solução:</strong><br>\n",
    "Com a tabela “COMANDAFINAL” já criada, realizei uma consulta selecionando a coluna “descrição” e contando a quantidade de ocorrências de cada valor dessa coluna. Agrupei os dados por “descrição” e ordenei os resultados pela quantidade em ordem decrescente, limitando a saída aos dez primeiros registros.\n"
   ]
  },
  {
   "cell_type": "markdown",
   "metadata": {
    "application/vnd.databricks.v1+cell": {
     "cellMetadata": {},
     "inputWidgets": {},
     "nuid": "554ee40d-49e5-4bb1-9c45-573ad7a08c36",
     "showTitle": false,
     "tableResultSettingsMap": {},
     "title": ""
    }
   },
   "source": [
    "<strong>4.\tQual foi o mês com maior receita de cada ano?</strong><br>\n",
    "<strong>Solução:</strong><br>\n",
    "Com a tabela “PAGAMENTOS” já criada, Em seguida, realizei uma consulta nessa tabela, selecionando as colunas “Ano” e “mes”, além de somar os valores da coluna “Valor_Pagto”.\n",
    "Apliquei um filtro por “ano”, agrupei os dados por “ano e mes”  e ordenei os resultados em ordem decrescente com base no valor total de “Valor_Pagto”, retornando somente o  primeiro registro.\n",
    "Utilizei a cláusula “UNION ALL” para unir os resultados referentes aos anos de 2024 e 2025.\n"
   ]
  },
  {
   "cell_type": "markdown",
   "metadata": {
    "application/vnd.databricks.v1+cell": {
     "cellMetadata": {},
     "inputWidgets": {},
     "nuid": "ec0d4c46-54d2-465e-a31a-c941bfd8c1fb",
     "showTitle": false,
     "tableResultSettingsMap": {},
     "title": ""
    }
   },
   "source": [
    "<strong>PREPARAÇÃO DA TABELA PARA RESPONDER O QUESITO:</strong><br>\n",
    "5<br>\n",
    "<strong>OBJETIVO 1 parte:</strong><br>\n",
    "Calcular o valor total gasto mensalmente, considerando a comissão e somando um valor fixo de "R$ 7.000 por mês".<br>\n",
    "<strong>EXPLICAÇÃO DA CONSULTA</strong><br>\n",
    "Criei uma consulta SQL na camada Prata, utilizando a função \"YEAR()\" para extrair o ano da coluna DATA_SERVICO, e a função \"MONTH()\" para extrair o mês.\n",
    "Na mesma consulta, calculei o total da comissão mensal com a fórmula:\n",
    "(VALOR * COMISSAO / 100), somando ainda um valor fixo de R$ 7.000, conforme informado pelo proprietário do salão. Em seguida, agrupei os dados por ano e mês, consolidando o valor total pago em comissões por mês. O resultado dessa consulta foi armazenado no DataFrame chamado “df_gasto”.<br>\n",
    "\n",
    "<strong>OBJETIVO 2 parte:</strong><br> \n",
    "Essa consulta está agrupando os pagamentos por ano e mês, e somando o valor pago em cada mês.\n",
    "<strong>EXPLICAÇÃO DA CONSULTA</strong><br> \n",
    "Criei uma consulta SQL na camada Prata utilizando a função “YEAR()” para extrair o ano da coluna “Data_PAGAMENTO”. Também apliquei a função “MONTH()” para extrair a coluna “MES”. Em seguida, agrupei os dados por ano e mês, consolidando o valor total do faturamento por mês. O resultado dessa consulta foi armazenado  no Data Frame  chamado “df_faturamento”\n",
    "\n",
    "<strong>5.\tQual o lucro mensal da empresa, considerando um gasto fixo de R$ 7.000,00 por mês mais as comissões pagas aos Prestadores?</strong><br>\n",
    "<strong>Solução:</strong><br>\n",
    "A partir do DataFrame df_gasto, gerei a tabela GASTOMENSAL na camada Ouro. Da mesma forma, com base no DataFrame df_faturamento, criei a tabela FATURAMENTOMENSAL, também na camada Ouro.\n",
    "Em seguida, realizei uma consulta sobre essas duas tabelas para calcular o lucro mensal, selecionando as colunas \"ANO\" e \"MÊS\", além de realizar o seguinte cálculo: (VL_FATURAMENTO_MENSAL - VL_GASTO_MENSAL) Esse cálculo representa o lucro mensal de cada período. Para isso, foi realizada uma junção entre as tabelas GASTOMENSAL e FATURAMENTOMENSAL, utilizando as colunas \"ANO\" e \"MÊS\" como chaves de ligação. Após a junção, os dados foram agrupados por ano e mês, consolidando o resultado final.\n"
   ]
  },
  {
   "cell_type": "markdown",
   "metadata": {
    "application/vnd.databricks.v1+cell": {
     "cellMetadata": {},
     "inputWidgets": {},
     "nuid": "fbb9ef03-0da4-4e04-9b2c-dc1484970b44",
     "showTitle": false,
     "tableResultSettingsMap": {},
     "title": ""
    }
   },
   "source": [
    "<strong>6.\tQual a forma de pagamento mais utilizada pelos clientes?</strong><br> \n",
    "<strong>Solucão:</strong><br> \n",
    "Com a tabela “PAGAMENTOS” já criada, realizei uma consulta selecionando coluna “forma_pagto” e contando a quantidade de ocorrências de cada valor dessa coluna. Agrupei os dados por “forma_pagto” e ordenei os resultados pela quantidade em ordem decrescente.\n"
   ]
  },
  {
   "cell_type": "markdown",
   "metadata": {
    "application/vnd.databricks.v1+cell": {
     "cellMetadata": {},
     "inputWidgets": {},
     "nuid": "a1f858e1-6538-4869-8476-f359c8d87b65",
     "showTitle": false,
     "tableResultSettingsMap": {},
     "title": ""
    }
   },
   "source": [
    "<strong>PREPARAÇÃO DA TABELA PARA RESPONDER OS QUESITOS:</strong><br>\n",
    "7<br>\n",
    "<strong>OBJETIVO:</strong><br>\n",
    "O objetivo desta consulta é analisar o valor total gasto por cada cliente ao longo dos anos, permitindo uma visão do comportamento de consumo anual dos clientes do salão.<br>\n",
    "<strong>EXPLICAÇÃO DA CONSULTA</strong><br>\n",
    "Criei uma consulta SQL na camada Prata  utilizando a função “YEAR()” para extrair o ano da coluna “Data_Servico”, extraídas da tabela “ComandaCliente”. Além disso, incluí a coluna “NOME”, proveniente da tabela “Clientes”, e fiz a soma da coluna  “VALOR”, da tabela “COMANDACLIENTE”.\n",
    "Para isso, realizei as seguintes junções:\n",
    "•\tA tabela “CLIENTES” foi unida à tabela “ComandaCliente” pela chave “ID_CLIENTE”.\n",
    "O resultado da consulta foi armazenado no Data Frame “df_gasto_cliente”.\n",
    "\n",
    "<strong>7.\tQuais o três clientes que mais gastaram dinheiro no salão durante o ano?</strong><br>\n",
    "<strong>SOLUÇÃO:</strong><br>\n",
    "A partir do DataFrame “df_gasto_cliente”, gerei a tabela ”GASTO_CLIENTE” na camada Ouro. Em seguida, realizei uma consulta nessa tabela, selecionando as colunas “Ano” , “nomecliente”  e “VL_Gasto_Cliente”. Apliquei um filtro por “ano” e ordenei os resultados em ordem decrescente com base no valor total de “VL_Gasto_Cliente”, retornando somente os  três primeiros registro. Utilizei a cláusula “UNION ALL” para unir os resultados referentes aos anos de 2024 e 2025.\n"
   ]
  },
  {
   "cell_type": "markdown",
   "metadata": {
    "application/vnd.databricks.v1+cell": {
     "cellMetadata": {},
     "inputWidgets": {},
     "nuid": "7d7fe787-4ef6-44a5-99d0-baa4e81b2bfd",
     "showTitle": false,
     "tableResultSettingsMap": {},
     "title": ""
    }
   },
   "source": [
    "<strong>8.\tCom base nas informações coletadas, quais estratégias podem ser adotadas para aumentar o faturamento do salão?</strong><br>\n",
    "Não teve uma solução via consulta SQL.  Ficou somente algumas recomendações através da observação dos dados.\n",
    "\n",
    "Na tabela Clientes, foi identificado que os campos data de nascimento e telefone não estavam preenchidos, e não existia um campo para e-mail.<br>\n",
    "\n",
    "<strong>Sugestão:</strong><br>\n",
    " Incluir o campo e-mail e preencher esses campos para possibilitar uma comunicação mais eficiente com os clientes.<br>\n",
    "Com a data de nascimento, seria possível enviar mensagens personalizadas de aniversário, oferecendo serviços com desconto, como forma de fidelização.<br>\n",
    "A inclusão de telefone e e-mail permite o envio de promoções e novidades, melhorando o relacionamento com o cliente e incentivando novas visitas.<br>\n",
    "Na tabela Serviços, observou-se que não há pacotes promocionais sendo oferecidos.<br>\n",
    "<strong>Sugestão: </strong><br>\n",
    "Criar pacotes com preços especiais para atrair mais clientes e aumentar o ticket médio.\n",
    "Seria interessante identificar os clientes que mais gastam durante o mês e oferecer a eles serviços de brinde ou vantagens exclusivas, como forma de reconhecimento e estímulo à fidelidade.\n"
   ]
  }
 ],
 "metadata": {
  "application/vnd.databricks.v1+notebook": {
   "computePreferences": null,
   "dashboards": [],
   "environmentMetadata": {
    "base_environment": "",
    "environment_version": "1"
   },
   "inputWidgetPreferences": null,
   "language": "python",
   "notebookMetadata": {
    "pythonIndentUnit": 4
   },
   "notebookName": "AutoAvaliacao",
   "widgets": {}
  }
 },
 "nbformat": 4,
 "nbformat_minor": 0
}
