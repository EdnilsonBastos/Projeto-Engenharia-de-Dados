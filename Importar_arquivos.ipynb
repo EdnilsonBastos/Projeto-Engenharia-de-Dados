{
 "cells": [
  {
   "cell_type": "markdown",
   "metadata": {
    "application/vnd.databricks.v1+cell": {
     "cellMetadata": {
      "byteLimit": 2048000,
      "rowLimit": 10000
     },
     "inputWidgets": {},
     "nuid": "c02137e7-01c6-442a-b0b1-d0baefdc30d6",
     "showTitle": false,
     "tableResultSettingsMap": {},
     "title": ""
    }
   },
   "source": [
    "<strong>IMPORTAÇÃO DOS ARQUIVOS:</strong><br><br>\n",
    "\n",
    "    **CLIENTES.CSV para o dataframe  clientes**\n",
    "    **PRESTADOR.CSV para o dataframe prestadores**\n",
    "    **PAGAMENTOS.CSV para o dataframe pagamentos**\n",
    "    **SERVICOS.CSV para o dataframe servicos**\n",
    "    **COMANDACLIENTE para o dataframe comandacliente**"
   ]
  },
  {
   "cell_type": "code",
   "execution_count": 0,
   "metadata": {
    "application/vnd.databricks.v1+cell": {
     "cellMetadata": {
      "byteLimit": 2048000,
      "rowLimit": 10000
     },
     "inputWidgets": {},
     "nuid": "35bda8fb-725d-4ecf-a666-8ca76154f8fe",
     "showTitle": true,
     "tableResultSettingsMap": {},
     "title": "importar dados do arquivo CLIENTES.CSV"
    }
   },
   "outputs": [
    {
     "output_type": "stream",
     "name": "stdout",
     "output_type": "stream",
     "text": [
      "+----------+----------------+---------------+--------+\n|ID_CLIENTE|            NOME|DATA_NASCIMENTO|TELEFONE|\n+----------+----------------+---------------+--------+\n|         1|   MARCIA CP 903|           null|    null|\n|         2|   SIMONE VP 613|           null|    null|\n|         3|ALEXANDRA HP 208|           null|    null|\n|         4| PAULINHA GP 504|           null|    null|\n|         5|   ESTHER GP 814|           null|    null|\n|         6|ROSANGELA GP 102|           null|    null|\n|         7|    BRUNA GP 503|           null|    null|\n|         8|     JANA VP 902|           null|    null|\n|         9|    CARLA VP 405|           null|    null|\n|        10|       DANI FORA|           null|    null|\n+----------+----------------+---------------+--------+\nonly showing top 10 rows\n\n"
     ]
    }
   ],
   "source": [
    "%python                      \n",
    "clientes = spark.read.format('csv').options(header='true',\n",
    "inferSchema='true', \n",
    "delimiter=';').load('/FileStore/tables/carga/CLIENTES.CSV')\n",
    "clientes.show(10)"
   ]
  },
  {
   "cell_type": "code",
   "execution_count": 0,
   "metadata": {
    "application/vnd.databricks.v1+cell": {
     "cellMetadata": {
      "byteLimit": 2048000,
      "rowLimit": 10000
     },
     "inputWidgets": {},
     "nuid": "8e01fab9-4ba1-4448-b9d0-05dc8b4a0db0",
     "showTitle": true,
     "tableResultSettingsMap": {},
     "title": "Importar dados do arquivo PRESTADOR.CSV"
    }
   },
   "outputs": [
    {
     "output_type": "stream",
     "name": "stdout",
     "output_type": "stream",
     "text": [
      "+------------+---------+----------------+---------------+----------------+--------------------+-----+\n|ID_PRESTADOR|  APELIDO|            NOME|DATA_NASCIMENTO|          FUNCAO|                 PIX|ATIVO|\n+------------+---------+----------------+---------------+----------------+--------------------+-----+\n|           1|      LEO|LEONARDO MACHADO|           null|          CABELO|21 99562-4420 CEL...|    S|\n|           2|ANA LUCIA|       ANA LUCIA|           null|MANICUREPEDICURE|21 96662-2202 CEL...|    S|\n|           3|   REBECA|          REBECA|           null|MANICUREPEDICURE|  172.249.587.19 CPF|    S|\n|           4|ANA BRITO|       ANA BRITO|           null|          CABELO|                null|    S|\n|           5|    SALAO| SALAO ANABRITTO|           null|           GERAL|                null|    S|\n|           6|  JULIETE|JULIETE FAUSTINO|           null|MANICUREPEDICURE|                null|    S|\n|           7|   SIMONE|          SIMONE|           null|          CABELO|                null|    N|\n|           8| FERNANDA|        FERNANDA|           null|MANICUREPEDICURE|                null|    N|\n|           9|  LUCIANA|         LUCIANA|           null|MANICUREPEDICURE|                null|    S|\n|          10| CRISTINA|        CRISTINA|           null|          CABELO|                null|    N|\n+------------+---------+----------------+---------------+----------------+--------------------+-----+\nonly showing top 10 rows\n\n"
     ]
    }
   ],
   "source": [
    "%python \n",
    "prestadores = spark.read.format('csv').options(header='true',\n",
    "inferSchema='true', \n",
    "delimiter=';').load('/FileStore/tables/carga/PRESTADOR.CSV') \n",
    "prestadores.show(10)"
   ]
  },
  {
   "cell_type": "code",
   "execution_count": 0,
   "metadata": {
    "application/vnd.databricks.v1+cell": {
     "cellMetadata": {
      "byteLimit": 2048000,
      "rowLimit": 10000
     },
     "inputWidgets": {},
     "nuid": "f8245acb-c48d-4e19-9934-551483c6e33a",
     "showTitle": true,
     "tableResultSettingsMap": {},
     "title": "Importar dados do arquivo PAGAMENTOS.CSV"
    }
   },
   "outputs": [
    {
     "output_type": "stream",
     "name": "stdout",
     "output_type": "stream",
     "text": [
      "+------------+----------+-----------+----------+--------------+\n|ID_PAGAMENTO|ID_COMANDA|VALOR_PAGTO|FORMA_PAGO|DATA_PAGAMENTO|\n+------------+----------+-----------+----------+--------------+\n|           1|      6430|      176.0|    DEBITO|    2024-01-04|\n|           2|      6431|      325.0|   CREDITO|    2024-01-04|\n|           3|      6432|      172.0|    DEBITO|    2024-01-04|\n|           4|      6433|       35.0|       PIX|    2024-01-04|\n|           5|      6434|       29.0|  DINHEIRO|    2024-01-04|\n|           6|      6435|       49.0|    DEBITO|    2024-01-04|\n|           7|      6436|       35.0|       PIX|    2024-01-04|\n|           8|      6437|       49.0|   CREDITO|    2024-01-04|\n|           9|      6438|       29.0|   CREDITO|    2024-01-04|\n|          10|      6439|       40.0|    DEBITO|    2024-01-04|\n+------------+----------+-----------+----------+--------------+\nonly showing top 10 rows\n\n"
     ]
    }
   ],
   "source": [
    "%python \n",
    "pagamentos = spark.read.format('csv').options(header='true',\n",
    "inferSchema='true', \n",
    "delimiter=';').load('/FileStore/tables/carga/PAGAMENTOS.csv') \n",
    "pagamentos.show(10)"
   ]
  },
  {
   "cell_type": "code",
   "execution_count": 0,
   "metadata": {
    "application/vnd.databricks.v1+cell": {
     "cellMetadata": {
      "byteLimit": 2048000,
      "rowLimit": 10000
     },
     "inputWidgets": {},
     "nuid": "53cc937b-2890-41a3-bd92-2264b33caef4",
     "showTitle": true,
     "tableResultSettingsMap": {},
     "title": "Importar dados do arquivo COMANDACLIENTE.CSV"
    }
   },
   "outputs": [
    {
     "output_type": "stream",
     "name": "stdout",
     "output_type": "stream",
     "text": [
      "+---+------------+----------+------------+----------+----------+-----+--------+----------+\n| ID|DATA_SERVICO|ID_COMANDA|ID_PRESTADOR|ID_SERVICO|ID_CLIENTE|VALOR|COMISSAO|ID_EMPRESA|\n+---+------------+----------+------------+----------+----------+-----+--------+----------+\n|  1|  2024-01-04|      6430|           3|        44|       349| 49.0|      55|         1|\n|  2|  2024-01-04|      6430|           4|        58|       349| 47.0|      50|         1|\n|  3|  2024-01-04|      6430|           4|         5|       349| 80.0|      50|         1|\n|  4|  2024-01-04|      6431|           3|        35|      1214| 29.0|      55|         1|\n|  5|  2024-01-04|      6431|           4|        20|      1214| 69.0|      50|         1|\n|  6|  2024-01-04|      6431|           4|        12|      1214|180.0|      40|         1|\n|  7|  2024-01-04|      6431|           4|        58|      1214| 47.0|      50|         1|\n|  8|  2024-01-04|      6432|           6|        44|        46| 52.0|      55|         1|\n|  9|  2024-01-04|      6432|           1|        14|        46|120.0|      40|         1|\n| 10|  2024-01-04|      6433|           6|        35|       382| 29.0|      55|         1|\n+---+------------+----------+------------+----------+----------+-----+--------+----------+\nonly showing top 10 rows\n\n"
     ]
    }
   ],
   "source": [
    "%python \n",
    "comandacliente = spark.read.format('csv').options(header='true',\n",
    "inferSchema='true', \n",
    "delimiter=';').load('/FileStore/tables/carga/COMANDACLIENTE.CSV') \n",
    "comandacliente.show(10) "
   ]
  },
  {
   "cell_type": "code",
   "execution_count": 0,
   "metadata": {
    "application/vnd.databricks.v1+cell": {
     "cellMetadata": {
      "byteLimit": 2048000,
      "rowLimit": 10000
     },
     "inputWidgets": {},
     "nuid": "dfabafe3-ae78-40cc-92a4-ee947b1bcd7a",
     "showTitle": true,
     "tableResultSettingsMap": {},
     "title": "Importar dados do arquivo SERVICOS.CSV"
    }
   },
   "outputs": [
    {
     "output_type": "stream",
     "name": "stdout",
     "output_type": "stream",
     "text": [
      "+----------+--------------------+----------------+-----+--------+\n|ID_SERVICO|           DESCRICAO|          FUNCAO|VALOR|COMISSAO|\n+----------+--------------------+----------------+-----+--------+\n|         1|ALINHAMENTO TERMI...|          CABELO|140.0|      40|\n|         2|ALINHAMENTO TERMI...|          CABELO|220.0|      40|\n|         3|ALINHAMENTO TERMI...|          CABELO|190.0|      40|\n|         4|ALINHAMENTO TERMI...|          CABELO|160.0|      40|\n|         5|APLICACAO + LAVAG...|          CABELO| 70.0|      50|\n|         6|     BANHO DE CALCIO|MANICUREPEDICURE| 85.0|      60|\n|         7|        BANHO DE GEL|MANICUREPEDICURE| 85.0|      60|\n|         8|               BARBA|          CABELO| 20.0|      50|\n|         9|           BLINDAGEM|MANICUREPEDICURE| 60.0|      50|\n|        10|                BUCO|          CABELO| 35.0|      50|\n+----------+--------------------+----------------+-----+--------+\nonly showing top 10 rows\n\n"
     ]
    }
   ],
   "source": [
    "%python \n",
    "servicos = spark.read.format('csv').options(header='true',\n",
    "inferSchema='true', \n",
    "delimiter=';').load('/FileStore/tables/carga/SERVICOS.CSV') \n",
    "servicos.show(10) "
   ]
  }
 ],
 "metadata": {
  "application/vnd.databricks.v1+notebook": {
   "computePreferences": null,
   "dashboards": [],
   "environmentMetadata": {
    "base_environment": "",
    "environment_version": "1"
   },
   "inputWidgetPreferences": null,
   "language": "python",
   "notebookMetadata": {
    "mostRecentlyExecutedCommandWithImplicitDF": {
     "commandId": 1755539608176469,
     "dataframes": [
      "_sqldf"
     ]
    },
    "pythonIndentUnit": 4
   },
   "notebookName": "Importar_arquivos",
   "widgets": {}
  }
 },
 "nbformat": 4,
 "nbformat_minor": 0
}